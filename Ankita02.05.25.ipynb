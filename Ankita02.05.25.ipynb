{
 "cells": [
  {
   "cell_type": "code",
   "execution_count": 1,
   "id": "02251442-b9ba-4f71-af06-a3d8667b7829",
   "metadata": {},
   "outputs": [
    {
     "name": "stdout",
     "output_type": "stream",
     "text": [
      "hello world\n"
     ]
    }
   ],
   "source": [
    "print(\"hello world\")"
   ]
  },
  {
   "cell_type": "code",
   "execution_count": 2,
   "id": "ff443750-65b3-4c05-9af9-8123573374d2",
   "metadata": {},
   "outputs": [
    {
     "name": "stdout",
     "output_type": "stream",
     "text": [
      "20\n",
      "10\n"
     ]
    }
   ],
   "source": [
    "# swapping the values\n",
    "x= 10\n",
    "y= 20\n",
    "\n",
    "x,y = y,x\n",
    "print (x)\n",
    "print (y)"
   ]
  },
  {
   "cell_type": "code",
   "execution_count": 5,
   "id": "a6ca865a-d60e-4e7f-be1c-e52276318e3a",
   "metadata": {},
   "outputs": [
    {
     "name": "stdout",
     "output_type": "stream",
     "text": [
      "To Print of Area of Rectangle\n"
     ]
    },
    {
     "name": "stdin",
     "output_type": "stream",
     "text": [
      "The length of the Rectangle:  10\n",
      "The breadth of the Rectangle:  20\n"
     ]
    },
    {
     "name": "stdout",
     "output_type": "stream",
     "text": [
      "Area of Rectangle:  200\n"
     ]
    }
   ],
   "source": [
    "#To Print of Area of Rectangle\n",
    "l = int(input(\"The length of the Rectangle: \"))\n",
    "b = int(input(\"The breadth of the Rectangle: \"))\n",
    "\n",
    "Area = l * b \n",
    "print(\"Area of Rectangle: \", Area)"
   ]
  },
  {
   "cell_type": "code",
   "execution_count": 6,
   "id": "89a29a71-5e59-4be2-8a9a-27f99e4d3f0a",
   "metadata": {},
   "outputs": [
    {
     "name": "stdin",
     "output_type": "stream",
     "text": [
      "Enter the temp in celcius 32\n"
     ]
    },
    {
     "name": "stdout",
     "output_type": "stream",
     "text": [
      "89.6\n"
     ]
    }
   ],
   "source": [
    "#Calculaion of Celcius to Fahrenheit\n",
    "celcius = float(input(\"Enter the temp in celcius\"))\n",
    "\n",
    "Fahrenheit = (celcius * 1.8)+ 32 #used this formula from google\n",
    "\n",
    "print(Fahrenheit)"
   ]
  },
  {
   "cell_type": "code",
   "execution_count": 27,
   "id": "e3fe740e-52cd-4762-8ae8-4e3d140a437b",
   "metadata": {},
   "outputs": [
    {
     "name": "stdout",
     "output_type": "stream",
     "text": [
      "hello\n",
      "A\n",
      "n\n",
      "k\n",
      "i\n",
      "t\n",
      "a\n",
      "the answer is: 200\n"
     ]
    }
   ],
   "source": [
    "# Today we learned about strings\n",
    "# Strings is a collection of characters inclosed with inverted formulas\n",
    "print(\"hello\") # this is an example of string\n",
    "\n",
    "#iteration in string\n",
    "a= \"Ankita\"\n",
    "for i in a:\n",
    "    print(i)\n",
    "#Slicing in strings [start: end: skip]\n",
    "a[2:5] #will display 'kit'\n",
    "# to reverse a string\n",
    "a[::-1]\n",
    "\n",
    "# upper\n",
    "a.upper()\n",
    "# lower\n",
    "a.lower()\n",
    "# strip also used for Data Modification\n",
    "b = \"This is my house.  \"\n",
    "b.strip()\n",
    "# lstrip : removes whitespaces from begining\n",
    "c= \"  College\"\n",
    "c.lstrip()\n",
    "# rstrip: removes whitespaces from ending\n",
    "d=\"School  \"\n",
    "d.rstrip()\n",
    "# replace \n",
    "a1= \"They are playing\"\n",
    "a1.replace(\"They\", \"We\")\n",
    "\n",
    "# split: its based on character\n",
    "\n",
    "m= \"I# am# going# to# college\"\n",
    "m.split(\"#\")\n",
    "\n",
    "# formatting in string\n",
    "v=10\n",
    "u=20\n",
    "z=v*u\n",
    "print(f\"the answer is: {z}\")\n",
    "\n",
    "\n",
    "\n",
    "\n"
   ]
  },
  {
   "cell_type": "code",
   "execution_count": null,
   "id": "46daf593-787a-467e-9136-9e98c623efe0",
   "metadata": {},
   "outputs": [],
   "source": []
  },
  {
   "cell_type": "code",
   "execution_count": null,
   "id": "908b5494-b6a2-4199-91ad-063909b534ac",
   "metadata": {},
   "outputs": [],
   "source": []
  }
 ],
 "metadata": {
  "kernelspec": {
   "display_name": "Python 3 (ipykernel)",
   "language": "python",
   "name": "python3"
  },
  "language_info": {
   "codemirror_mode": {
    "name": "ipython",
    "version": 3
   },
   "file_extension": ".py",
   "mimetype": "text/x-python",
   "name": "python",
   "nbconvert_exporter": "python",
   "pygments_lexer": "ipython3",
   "version": "3.13.3"
  }
 },
 "nbformat": 4,
 "nbformat_minor": 5
}
