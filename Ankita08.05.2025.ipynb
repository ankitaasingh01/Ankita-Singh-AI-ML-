{
 "cells": [
  {
   "cell_type": "code",
   "execution_count": 2,
   "id": "cf3129b4-0646-411b-a907-0d6b089fe160",
   "metadata": {},
   "outputs": [
    {
     "name": "stdin",
     "output_type": "stream",
     "text": [
      "Enter a password:  anku#1308\n"
     ]
    },
    {
     "name": "stdout",
     "output_type": "stream",
     "text": [
      "Valid password\n"
     ]
    }
   ],
   "source": [
    "import random\n",
    "import string\n",
    "\n",
    "def valid_password(password):\n",
    "    if not (8 <= len(password) <= 32):\n",
    "        return False\n",
    "\n",
    "    if not password[0].isalpha():\n",
    "        return False\n",
    "\n",
    "    special_chars = {'/', '\\\\', '=', '\"', \"'\"}\n",
    "    if any(char in special_chars for char in password):\n",
    "        return False\n",
    "\n",
    "    return True\n",
    "\n",
    "def generate_valid_password():\n",
    "    allowed_chars = string.ascii_letters + string.digits + string.punctuation\n",
    "    special_chars = {'/', '\\\\', '=', '\"', \"'\"}\n",
    "    allowed_chars = ''.join(ch for ch in allowed_chars if ch not in special_chars)\n",
    "\n",
    "    length = random.randint(8, 16)  \n",
    "    first_char = random.choice(string.ascii_letters) \n",
    "    rest = ''.join(random.choice(allowed_chars) for i in range(length - 1))\n",
    "    return first_char + rest\n",
    "\n",
    "user_input = input(\"Enter a password: \")\n",
    "\n",
    "if valid_password(user_input):\n",
    "    print(\"Valid password\")\n",
    "else:\n",
    "    print(\"Invalid password\")\n",
    "    print(\"Here are 2 valid password suggestions:\")\n",
    "    for i in range(2):\n",
    "        print(\"-\", generate_valid_password())"
   ]
  },
  {
   "cell_type": "code",
   "execution_count": null,
   "id": "dcc5f590-6000-4a5b-a4c5-1c501385d931",
   "metadata": {},
   "outputs": [],
   "source": []
  }
 ],
 "metadata": {
  "kernelspec": {
   "display_name": "Python 3 (ipykernel)",
   "language": "python",
   "name": "python3"
  },
  "language_info": {
   "codemirror_mode": {
    "name": "ipython",
    "version": 3
   },
   "file_extension": ".py",
   "mimetype": "text/x-python",
   "name": "python",
   "nbconvert_exporter": "python",
   "pygments_lexer": "ipython3",
   "version": "3.13.3"
  }
 },
 "nbformat": 4,
 "nbformat_minor": 5
}
