{
 "cells": [
  {
   "cell_type": "code",
   "execution_count": 6,
   "id": "25803348-736e-48be-b919-ca7f78983cc5",
   "metadata": {},
   "outputs": [
    {
     "name": "stdout",
     "output_type": "stream",
     "text": [
      "1\n",
      "2\n",
      "3\n",
      "4\n",
      "5\n",
      "6\n",
      "7\n",
      "8\n",
      "9\n",
      "10\n"
     ]
    }
   ],
   "source": [
    "#1 \n",
    "for i in range(1,11):\n",
    "    print(i)"
   ]
  },
  {
   "cell_type": "code",
   "execution_count": 9,
   "id": "2bb87ea2-e599-4b86-9aa1-3aa4d6dac827",
   "metadata": {},
   "outputs": [
    {
     "name": "stdout",
     "output_type": "stream",
     "text": [
      "1045\n"
     ]
    }
   ],
   "source": [
    "#2\n",
    "numbers = [15, 100, 105, 800, 25]  \n",
    "total = 0\n",
    "\n",
    "for i in numbers:\n",
    "    total += i\n",
    "\n",
    "print(total)"
   ]
  },
  {
   "cell_type": "code",
   "execution_count": 11,
   "id": "ebbed47f-fe85-401e-930f-b50553112acd",
   "metadata": {},
   "outputs": [
    {
     "name": "stdout",
     "output_type": "stream",
     "text": [
      "t\n",
      "h\n",
      "g\n",
      "i\n",
      "N\n",
      " \n",
      "d\n",
      "o\n",
      "o\n",
      "G\n"
     ]
    }
   ],
   "source": [
    "#3\n",
    "t = \"Good Night\"\n",
    "rev = t[::-1] \n",
    "for i in rev:\n",
    "    print(i)"
   ]
  },
  {
   "cell_type": "code",
   "execution_count": 12,
   "id": "b81ad7b6-fe00-47f9-8ed9-9ef169c46494",
   "metadata": {},
   "outputs": [
    {
     "name": "stdin",
     "output_type": "stream",
     "text": [
      "Enter a number:  5\n"
     ]
    },
    {
     "name": "stdout",
     "output_type": "stream",
     "text": [
      "120\n"
     ]
    }
   ],
   "source": [
    "#4\n",
    "number = int(input(\"Enter a number: \"))\n",
    "factorial = 1\n",
    "\n",
    "for i in range(1, number + 1):\n",
    "    factorial *= i\n",
    "\n",
    "print(factorial)"
   ]
  },
  {
   "cell_type": "code",
   "execution_count": 16,
   "id": "958d6cf8-8633-4dea-9130-0d710b47352c",
   "metadata": {},
   "outputs": [
    {
     "name": "stdin",
     "output_type": "stream",
     "text": [
      "Enter a number:  2\n"
     ]
    },
    {
     "name": "stdout",
     "output_type": "stream",
     "text": [
      "2 x 1 = 2\n",
      "2 x 2 = 4\n",
      "2 x 3 = 6\n",
      "2 x 4 = 8\n",
      "2 x 5 = 10\n",
      "2 x 6 = 12\n",
      "2 x 7 = 14\n",
      "2 x 8 = 16\n",
      "2 x 9 = 18\n",
      "2 x 10 = 20\n"
     ]
    }
   ],
   "source": [
    "#5 \n",
    "number = int(input(\"Enter a number: \"))\n",
    "\n",
    "for i in range(1, 11):\n",
    "    print(number, \"x\" ,i , \"=\" , number * i)"
   ]
  },
  {
   "cell_type": "code",
   "execution_count": 18,
   "id": "b03b3e00-5158-47c7-bfb5-089c480daeff",
   "metadata": {},
   "outputs": [
    {
     "name": "stdout",
     "output_type": "stream",
     "text": [
      "7\n",
      "8\n"
     ]
    }
   ],
   "source": [
    "#6\n",
    "numbers = [1,2,3,4,5,6,7,8,9,10,11,12,13,14,15]\n",
    "e_count = 0\n",
    "o_count = 0\n",
    "\n",
    "for num in numbers:\n",
    "    if num % 2 == 0:\n",
    "        e_count += 1\n",
    "    else:\n",
    "        o_count += 1\n",
    "\n",
    "print(e_count)\n",
    "print(o_count)"
   ]
  },
  {
   "cell_type": "code",
   "execution_count": 21,
   "id": "54b3c5bb-011f-46b6-9787-fcb15f3073a9",
   "metadata": {},
   "outputs": [
    {
     "name": "stdout",
     "output_type": "stream",
     "text": [
      "squares of:\n",
      "1 = 1\n",
      "squares of:\n",
      "2 = 4\n",
      "squares of:\n",
      "3 = 9\n",
      "squares of:\n",
      "4 = 16\n",
      "squares of:\n",
      "5 = 25\n",
      "squares of:\n",
      "6 = 36\n",
      "squares of:\n",
      "7 = 49\n",
      "squares of:\n",
      "8 = 64\n",
      "squares of:\n",
      "9 = 81\n",
      "squares of:\n",
      "10 = 100\n"
     ]
    }
   ],
   "source": [
    "#7\n",
    "for i in range(1, 11):\n",
    "    print(\"squares of:\")\n",
    "    print(i, \"=\", i ** 2)"
   ]
  },
  {
   "cell_type": "code",
   "execution_count": 22,
   "id": "db91e665-6093-4b81-b76c-a4a074d51a60",
   "metadata": {},
   "outputs": [
    {
     "name": "stdin",
     "output_type": "stream",
     "text": [
      "Enter a string:  Ankita Singh\n"
     ]
    },
    {
     "name": "stdout",
     "output_type": "stream",
     "text": [
      "12\n"
     ]
    }
   ],
   "source": [
    "#8\n",
    "a = input(\"Enter a string: \")\n",
    "count = 0\n",
    "\n",
    "for i in a:\n",
    "    count += 1\n",
    "\n",
    "print(count)\n"
   ]
  },
  {
   "cell_type": "code",
   "execution_count": 23,
   "id": "3d557e2d-0cb8-46f7-8fcb-7be9db96df87",
   "metadata": {},
   "outputs": [
    {
     "name": "stdout",
     "output_type": "stream",
     "text": [
      "30.0\n"
     ]
    }
   ],
   "source": [
    "#9 \n",
    "num = [10, 20, 30, 40, 50]\n",
    "total = 0\n",
    "count = 0\n",
    "\n",
    "for i in num:\n",
    "    total += i\n",
    "    count += 1\n",
    "\n",
    "average = total / count\n",
    "print( average)"
   ]
  },
  {
   "cell_type": "code",
   "execution_count": 25,
   "id": "3e77f37a-f53f-45cd-a2fd-0d327813a731",
   "metadata": {},
   "outputs": [
    {
     "name": "stdin",
     "output_type": "stream",
     "text": [
      "Enter the number of Fibonacci numbers 10\n"
     ]
    },
    {
     "name": "stdout",
     "output_type": "stream",
     "text": [
      "Fibonacci sequence:\n",
      "0 1 1 2 3 5 8 13 21 34\n"
     ]
    }
   ],
   "source": [
    "#10\n",
    "n = int(input(\"Enter the number of Fibonacci numbers\"))\n",
    "fib = [0, 1] \n",
    "\n",
    "for i in range(2, n):\n",
    "    num = fib[i - 1] + fib[i - 2]\n",
    "    fib.append(num)\n",
    "    \n",
    "if n == 0:\n",
    "    fib = []\n",
    "elif n == 1:\n",
    "    fib = [0]\n",
    "\n",
    "print(\"Fibonacci sequence:\")\n",
    "print(*fib)"
   ]
  },
  {
   "cell_type": "code",
   "execution_count": 27,
   "id": "2d3c9b7c-a797-4df8-a021-d66f512681b4",
   "metadata": {},
   "outputs": [
    {
     "name": "stdout",
     "output_type": "stream",
     "text": [
      "contains duplicates\n"
     ]
    }
   ],
   "source": [
    "#11\n",
    "numbers = [1, 12, 3, 4, 5, 12, 6]\n",
    "seen = []\n",
    "duplicate_found = False\n",
    "\n",
    "for num in numbers:\n",
    "    if num in seen:\n",
    "        duplicate_found = True\n",
    "        break\n",
    "    seen.append(num)\n",
    "\n",
    "if duplicate_found:\n",
    "    print(\"contains duplicates\")\n",
    "else:\n",
    "    print(\"not contain duplicates\")"
   ]
  },
  {
   "cell_type": "code",
   "execution_count": 30,
   "id": "104649f5-17d8-4b2e-91b4-35573d4dc87c",
   "metadata": {},
   "outputs": [
    {
     "name": "stdin",
     "output_type": "stream",
     "text": [
      "Start of the range:  1\n",
      "End of the range:  9\n"
     ]
    },
    {
     "name": "stdout",
     "output_type": "stream",
     "text": [
      "2 3 5 7 "
     ]
    }
   ],
   "source": [
    "#12\n",
    "start = int(input(\"Start of the range: \"))\n",
    "end = int(input(\"End of the range: \"))\n",
    "\n",
    "for num in range(start, end + 1):\n",
    "    if num > 1:\n",
    "        for i in range(2, num):\n",
    "            if num % i == 0:\n",
    "                break\n",
    "        else:\n",
    "            print(num, end=' ')\n",
    "               "
   ]
  },
  {
   "cell_type": "code",
   "execution_count": 31,
   "id": "b055a0bf-a8bb-4828-8277-f5d81292aa44",
   "metadata": {},
   "outputs": [
    {
     "name": "stdin",
     "output_type": "stream",
     "text": [
      "Enter a string:  Harry Potter\n"
     ]
    },
    {
     "name": "stdout",
     "output_type": "stream",
     "text": [
      "3\n"
     ]
    }
   ],
   "source": [
    "#13\n",
    "text = input(\"Enter a string: \")\n",
    "vowels = \"aeiouAEIOU\"\n",
    "count = 0\n",
    "for char in text:\n",
    "    if char in vowels:\n",
    "        count += 1\n",
    "print(count)"
   ]
  },
  {
   "cell_type": "code",
   "execution_count": 33,
   "id": "79cd8370-1d83-4cf6-86f4-ae1b4a1c86d6",
   "metadata": {},
   "outputs": [
    {
     "name": "stdout",
     "output_type": "stream",
     "text": [
      "87\n"
     ]
    }
   ],
   "source": [
    "#14\n",
    "matrix = [\n",
    "    [33, 18, 50],\n",
    "    [12, 87, 19],\n",
    "    [4, 11, 20]\n",
    "]\n",
    "\n",
    "m_elem = matrix[0][0]  \n",
    "for row in matrix:\n",
    "    for elem in row:\n",
    "        if elem > m_elem:\n",
    "            m_elem = elem\n",
    "\n",
    "print(m_elem)"
   ]
  },
  {
   "cell_type": "code",
   "execution_count": 34,
   "id": "53ca6901-34e7-41af-bb1c-894ed5abba1b",
   "metadata": {},
   "outputs": [
    {
     "name": "stdout",
     "output_type": "stream",
     "text": [
      "[1, 3, 4, 5]\n"
     ]
    }
   ],
   "source": [
    "#15\n",
    "org = [1, 2, 3, 2, 4, 2, 5]\n",
    "remove = 2\n",
    "new = []\n",
    "\n",
    "for i in org:\n",
    "    if i != remove:\n",
    "        new.append(i)\n",
    "\n",
    "print(new)"
   ]
  },
  {
   "cell_type": "code",
   "execution_count": 37,
   "id": "096f5a81-ccb5-4157-a78e-4e9c9800b1c4",
   "metadata": {},
   "outputs": [
    {
     "name": "stdout",
     "output_type": "stream",
     "text": [
      "Multiplication Table (1 to 5):\n",
      "1 x 1 = 1\n",
      "1 x 2 = 2\n",
      "1 x 3 = 3\n",
      "1 x 4 = 4\n",
      "1 x 5 = 5\n",
      "\n",
      "2 x 1 = 2\n",
      "2 x 2 = 4\n",
      "2 x 3 = 6\n",
      "2 x 4 = 8\n",
      "2 x 5 = 10\n",
      "\n",
      "3 x 1 = 3\n",
      "3 x 2 = 6\n",
      "3 x 3 = 9\n",
      "3 x 4 = 12\n",
      "3 x 5 = 15\n",
      "\n",
      "4 x 1 = 4\n",
      "4 x 2 = 8\n",
      "4 x 3 = 12\n",
      "4 x 4 = 16\n",
      "4 x 5 = 20\n",
      "\n",
      "5 x 1 = 5\n",
      "5 x 2 = 10\n",
      "5 x 3 = 15\n",
      "5 x 4 = 20\n",
      "5 x 5 = 25\n",
      "\n"
     ]
    }
   ],
   "source": [
    "#16\n",
    "print(\"Multiplication Table (1 to 5):\")\n",
    "\n",
    "for i in range(1, 6):\n",
    "    for j in range(1, 6):\n",
    "        print(i, \"x\", j, \"=\", i * j)\n",
    "    print() "
   ]
  },
  {
   "cell_type": "code",
   "execution_count": 39,
   "id": "de401a7b-74e9-4980-ab4b-ce57c6c11756",
   "metadata": {},
   "outputs": [
    {
     "name": "stdin",
     "output_type": "stream",
     "text": [
      "Enter temperatures in Fahrenheit:  65\n"
     ]
    },
    {
     "name": "stdout",
     "output_type": "stream",
     "text": [
      "Fahrenheit temperatures: [65]\n",
      "Converted Celsius temperatures: [18.333333333333332]\n"
     ]
    }
   ],
   "source": [
    "#17\n",
    "fahrenheit_temps = list(map(int, input(\"Enter temperatures in Fahrenheit: \").split()))\n",
    "celsius_temps = []\n",
    "\n",
    "for temp in fahrenheit_temps:\n",
    "    celsius = (temp - 32) * 5 / 9\n",
    "    celsius_temps.append(celsius)\n",
    "\n",
    "print(\"Fahrenheit temperatures:\", fahrenheit_temps)\n",
    "print(\"Converted Celsius temperatures:\", celsius_temps)"
   ]
  },
  {
   "cell_type": "code",
   "execution_count": 40,
   "id": "81f1d4f0-aa18-4820-b0c9-f6b3a60ad0a7",
   "metadata": {},
   "outputs": [
    {
     "name": "stdout",
     "output_type": "stream",
     "text": [
      "[4, 5]\n"
     ]
    }
   ],
   "source": [
    "#18\n",
    "l1 = [1, 2, 3, 4, 5]\n",
    "l2 = [4, 5, 6, 7, 8]\n",
    "\n",
    "common = []\n",
    "\n",
    "for i in l1:\n",
    "    if i in l2:\n",
    "        common.append(i)\n",
    "\n",
    "print(common)"
   ]
  },
  {
   "cell_type": "code",
   "execution_count": 48,
   "id": "f9211b15-a957-4eb8-805e-d81501fccbe4",
   "metadata": {},
   "outputs": [
    {
     "name": "stdout",
     "output_type": "stream",
     "text": [
      "* \n",
      "* * \n",
      "* * * \n",
      "* * * * \n",
      "* * * * * \n"
     ]
    }
   ],
   "source": [
    "#19\n",
    "for i in range(1, 6):\n",
    "    for j in range(1, i + 1):\n",
    "        print(\"*\", end=\" \")\n",
    "    print()  "
   ]
  },
  {
   "cell_type": "code",
   "execution_count": 2,
   "id": "4a7657bb-770e-40f0-a125-cba0d236d679",
   "metadata": {},
   "outputs": [
    {
     "name": "stdin",
     "output_type": "stream",
     "text": [
      "Enter first number:  6\n",
      "Enter second number:  7\n"
     ]
    },
    {
     "name": "stdout",
     "output_type": "stream",
     "text": [
      "1\n"
     ]
    }
   ],
   "source": [
    "#20\n",
    "num1 = int(input(\"Enter first number: \"))\n",
    "num2 = int(input(\"Enter second number: \"))\n",
    "\n",
    "min_num = min(num1, num2)\n",
    "gcd = 1  \n",
    "\n",
    "for i in range(1, min_num + 1):\n",
    "    if num1 % i == 0 and num2 % i == 0:\n",
    "        gcd = i  \n",
    "print(gcd)"
   ]
  },
  {
   "cell_type": "code",
   "execution_count": 51,
   "id": "124a00c3-d1fb-4df9-a6f2-14ba6c37bd49",
   "metadata": {},
   "outputs": [
    {
     "name": "stdout",
     "output_type": "stream",
     "text": [
      "[9, 11, 15, 9, 13]\n"
     ]
    }
   ],
   "source": [
    "#21\n",
    "numbers = [18,56,87,54,67]  \n",
    "\n",
    "sum1 = [sum(int(digit) for digit in str(num)) for num in numbers]\n",
    "\n",
    "print(sum1)"
   ]
  },
  {
   "cell_type": "code",
   "execution_count": 53,
   "id": "3229b3ed-cbc3-493c-81cd-9c28ff7d61aa",
   "metadata": {},
   "outputs": [
    {
     "name": "stdin",
     "output_type": "stream",
     "text": [
      "Enter a number:  88\n"
     ]
    },
    {
     "name": "stdout",
     "output_type": "stream",
     "text": [
      "[2, 11]\n"
     ]
    }
   ],
   "source": [
    "#22\n",
    "def prime_factors(n):\n",
    "    factors = [i for i in range(2, n + 1) if n % i == 0 and all(i % j != 0 for j in range(2, i))]\n",
    "    return factors\n",
    "    \n",
    "num = int(input(\"Enter a number: \"))\n",
    "\n",
    "factors = prime_factors(num)\n",
    "print(factors)"
   ]
  },
  {
   "cell_type": "code",
   "execution_count": 55,
   "id": "aac40077-4e91-49fb-a89e-bc249f9aef80",
   "metadata": {},
   "outputs": [
    {
     "name": "stdout",
     "output_type": "stream",
     "text": [
      "[1, 2, 2, 3, 4, 4, 5, 1, 6]\n",
      "[3, 5, 6]\n"
     ]
    }
   ],
   "source": [
    "#23\n",
    "original = [1, 2, 2, 3, 4, 4, 5, 1, 6]\n",
    "unique = [x for x in original if original.count(x) == 1]\n",
    "\n",
    "print(original)\n",
    "print(unique)"
   ]
  },
  {
   "cell_type": "code",
   "execution_count": 57,
   "id": "39b5ba43-6fd2-40dd-b945-a9f5afb55bc1",
   "metadata": {},
   "outputs": [
    {
     "name": "stdin",
     "output_type": "stream",
     "text": [
      "Enter the num :  121\n"
     ]
    },
    {
     "name": "stdout",
     "output_type": "stream",
     "text": [
      "[1, 2, 3, 4, 5, 6, 7, 8, 9, 11, 22, 33, 44, 55, 66, 77, 88, 99, 101, 111, 121]\n"
     ]
    }
   ],
   "source": [
    "#24\n",
    "num = int(input(\"Enter the num : \"))\n",
    "palindromes = []\n",
    "\n",
    "for i in range(1, num + 1):\n",
    "    if str(i) == str(i)[::-1]:\n",
    "        palindromes.append(i)\n",
    "\n",
    "print(palindromes)"
   ]
  },
  {
   "cell_type": "code",
   "execution_count": 1,
   "id": "fd98c86b-4ffd-494a-81c5-78d719866a3e",
   "metadata": {},
   "outputs": [
    {
     "name": "stdout",
     "output_type": "stream",
     "text": [
      "[1, 2, 3, 4, 5, 6, 7, 8]\n"
     ]
    }
   ],
   "source": [
    "#25\n",
    "nested = [[1, 2, 3], [4, 5], [6, 7, 8]]\n",
    "\n",
    "flattened = sum(nested, [])\n",
    "\n",
    "print(flattened)"
   ]
  },
  {
   "cell_type": "code",
   "execution_count": 3,
   "id": "d30fa9b1-2d78-4003-b3b1-3d86200e5b32",
   "metadata": {},
   "outputs": [
    {
     "name": "stdout",
     "output_type": "stream",
     "text": [
      "300\n",
      "310\n"
     ]
    }
   ],
   "source": [
    "#26\n",
    "numb = [11, 62, 23, 47, 55, 68, 70, 81, 93, 100]\n",
    "\n",
    "even_sum = sum([num for num in numb if num % 2 == 0])\n",
    "odd_sum = sum([num for num in numb if num % 2 != 0])\n",
    "\n",
    "print(even_sum)\n",
    "print(odd_sum)"
   ]
  },
  {
   "cell_type": "code",
   "execution_count": 5,
   "id": "43a8caf3-d5b1-4ce8-8c78-34967bffafb5",
   "metadata": {},
   "outputs": [
    {
     "name": "stdout",
     "output_type": "stream",
     "text": [
      "[1, 9, 25, 49, 81, 121, 169, 225, 289, 361]\n"
     ]
    }
   ],
   "source": [
    "#27\n",
    "squares_odds = [x**2 for x in range(1, 21) if x % 2 != 0]\n",
    "\n",
    "print(squares_odds)"
   ]
  },
  {
   "cell_type": "code",
   "execution_count": 7,
   "id": "efeb4b83-e1df-476a-a604-fa07450675c4",
   "metadata": {},
   "outputs": [
    {
     "name": "stdout",
     "output_type": "stream",
     "text": [
      "{'a': 13, 'b': 17, 'c': 29}\n"
     ]
    }
   ],
   "source": [
    "#28\n",
    "k = ['a', 'b', 'c']\n",
    "v = [13, 17, 29]\n",
    "\n",
    "combined = dict(zip(k, v))\n",
    "print(combined)"
   ]
  },
  {
   "cell_type": "code",
   "execution_count": 8,
   "id": "4d656766-50eb-4502-a416-632738024804",
   "metadata": {},
   "outputs": [
    {
     "name": "stdout",
     "output_type": "stream",
     "text": [
      "['o', 'o', 'o', 'i']\n"
     ]
    }
   ],
   "source": [
    "#29\n",
    "a = \"Good Morning\"\n",
    "\n",
    "vowels = [i for i in a if i.lower() in 'aeiou']\n",
    "\n",
    "print(vowels)"
   ]
  },
  {
   "cell_type": "code",
   "execution_count": 10,
   "id": "60d02dd6-8efd-44d5-840f-6fed4b9ab83c",
   "metadata": {},
   "outputs": [
    {
     "name": "stdout",
     "output_type": "stream",
     "text": [
      "['13', '456', '465', '123']\n"
     ]
    }
   ],
   "source": [
    "#30\n",
    "s = [\"Ankita13\", \"Khushi456\", \"Sanskriti465\", \"Harsh123\"]\n",
    "\n",
    "non_num = [''.join([i for i in s if i.isdigit()]) for s in s]\n",
    "\n",
    "print(non_num)"
   ]
  },
  {
   "cell_type": "code",
   "execution_count": 11,
   "id": "c9935998-1e17-4ac1-b8f4-78dca997918d",
   "metadata": {},
   "outputs": [
    {
     "name": "stdin",
     "output_type": "stream",
     "text": [
      "Enter a number:  -3\n"
     ]
    },
    {
     "name": "stdout",
     "output_type": "stream",
     "text": [
      "The number is negative.\n"
     ]
    }
   ],
   "source": [
    "#1 Basic If-Else Statements:\n",
    "num = float(input(\"Enter a number: \"))\n",
    "\n",
    "if num > 0:\n",
    "    print(\"The number is positive.\")\n",
    "elif num < 0:\n",
    "    print(\"The number is negative.\")\n",
    "else:\n",
    "    print(\"The number is zero.\")\n"
   ]
  },
  {
   "cell_type": "code",
   "execution_count": 12,
   "id": "2ebbce1e-1014-49c2-8adb-76269fb5767a",
   "metadata": {},
   "outputs": [
    {
     "name": "stdin",
     "output_type": "stream",
     "text": [
      "Enter your age:  20\n"
     ]
    },
    {
     "name": "stdout",
     "output_type": "stream",
     "text": [
      "You are eligible to vote.\n"
     ]
    }
   ],
   "source": [
    "#2 \n",
    "age = int(input(\"Enter your age: \"))\n",
    "\n",
    "if age >= 18:\n",
    "    print(\"You are eligible to vote.\")\n",
    "else:\n",
    "    print(\"You are not eligible to vote.\")"
   ]
  },
  {
   "cell_type": "code",
   "execution_count": 13,
   "id": "5cdbeded-234c-4042-8d88-d114bb5b429e",
   "metadata": {},
   "outputs": [
    {
     "name": "stdin",
     "output_type": "stream",
     "text": [
      "Enter the first number:  5\n",
      "Enter the second number:  5\n"
     ]
    },
    {
     "name": "stdout",
     "output_type": "stream",
     "text": [
      "Both numbers are equal.\n"
     ]
    }
   ],
   "source": [
    "#3\n",
    "a = float(input(\"Enter the first number: \"))\n",
    "b = float(input(\"Enter the second number: \"))\n",
    "\n",
    "if a > b:\n",
    "    print(\"The maximum number is:\", a)\n",
    "elif b > a:\n",
    "    print(\"The maximum number is:\", b)\n",
    "else:\n",
    "    print(\"Both numbers are equal.\")"
   ]
  },
  {
   "cell_type": "code",
   "execution_count": 14,
   "id": "49ca9035-9d7d-44ef-8c8c-d5bb76f1ad50",
   "metadata": {},
   "outputs": [
    {
     "name": "stdin",
     "output_type": "stream",
     "text": [
      "Enter a year:  1900\n"
     ]
    },
    {
     "name": "stdout",
     "output_type": "stream",
     "text": [
      "1900 is not a leap year.\n"
     ]
    }
   ],
   "source": [
    "#4\n",
    "year = int(input(\"Enter a year: \"))\n",
    "\n",
    "if (year % 4 == 0 and year % 100 != 0) or (year % 400 == 0):\n",
    "    print(year, \"is a leap year.\")\n",
    "else:\n",
    "    print(year, \"is not a leap year.\")"
   ]
  },
  {
   "cell_type": "code",
   "execution_count": 16,
   "id": "02456973-7f68-43c5-bd97-d6c2abb0e808",
   "metadata": {},
   "outputs": [
    {
     "name": "stdin",
     "output_type": "stream",
     "text": [
      "Enter a single alphabet:  u\n"
     ]
    },
    {
     "name": "stdout",
     "output_type": "stream",
     "text": [
      "u is a vowel\n"
     ]
    }
   ],
   "source": [
    "#5\n",
    "char = input(\"Enter a single alphabet: \")\n",
    "\n",
    "vowels = {'a', 'e', 'i', 'o', 'u', 'A', 'E', 'I', 'O', 'U'}\n",
    "\n",
    "if len(char) == 1 and char.isalpha():\n",
    "    if char in vowels:\n",
    "        print(char, \"is a vowel\")\n",
    "    else:\n",
    "        print(char, \"is a consonant\")\n",
    "else:\n",
    "    print(\"Invalid\")"
   ]
  },
  {
   "cell_type": "code",
   "execution_count": 17,
   "id": "23d2d321-9c85-425e-af7c-af94b37e8e78",
   "metadata": {},
   "outputs": [
    {
     "name": "stdin",
     "output_type": "stream",
     "text": [
      "Enter a number:  67\n"
     ]
    },
    {
     "name": "stdout",
     "output_type": "stream",
     "text": [
      "67 is odd\n"
     ]
    }
   ],
   "source": [
    "#6\n",
    "num = int(input(\"Enter a number: \"))\n",
    "\n",
    "if num % 2 == 0:\n",
    "    print(num, \"is even\")\n",
    "else:\n",
    "    print(num, \"is odd\")"
   ]
  },
  {
   "cell_type": "code",
   "execution_count": 18,
   "id": "a238e196-b002-43d2-b3f1-42e5fbf9887a",
   "metadata": {},
   "outputs": [
    {
     "name": "stdin",
     "output_type": "stream",
     "text": [
      "Enter a number:  -9\n"
     ]
    },
    {
     "name": "stdout",
     "output_type": "stream",
     "text": [
      "9.0\n"
     ]
    }
   ],
   "source": [
    "#7\n",
    "def absolute_value(number):\n",
    "    if number < 0:\n",
    "        return -number\n",
    "    else:\n",
    "        return number\n",
    "\n",
    "num = float(input(\"Enter a number: \"))\n",
    "print(absolute_value(num))"
   ]
  },
  {
   "cell_type": "code",
   "execution_count": 19,
   "id": "458fa11c-0c60-438c-898e-fea9732fe1de",
   "metadata": {},
   "outputs": [
    {
     "name": "stdin",
     "output_type": "stream",
     "text": [
      "Enter first number:  3\n",
      "Enter second number:  0\n",
      "Enter third number:  1\n"
     ]
    },
    {
     "name": "stdout",
     "output_type": "stream",
     "text": [
      "The largest number is: 3.0\n"
     ]
    }
   ],
   "source": [
    "#8\n",
    "num1 = float(input(\"Enter first number: \"))\n",
    "num2 = float(input(\"Enter second number: \"))\n",
    "num3 = float(input(\"Enter third number: \"))\n",
    "\n",
    "if num1 >= num2 and num1 >= num3:\n",
    "    largest = num1\n",
    "elif num2 >= num1 and num2 >= num3:\n",
    "    largest = num2\n",
    "else:\n",
    "    largest = num3\n",
    "print(\"The largest number is:\", largest)"
   ]
  },
  {
   "cell_type": "code",
   "execution_count": 23,
   "id": "19026171-876f-4ca1-880c-f196989825c0",
   "metadata": {},
   "outputs": [
    {
     "name": "stdin",
     "output_type": "stream",
     "text": [
      "Enter a string:  madam\n"
     ]
    },
    {
     "name": "stdout",
     "output_type": "stream",
     "text": [
      "madam is a palindrome\n"
     ]
    }
   ],
   "source": [
    "#9\n",
    "t = input(\"Enter a string: \")\n",
    "\n",
    "cleaned_text = t.replace(\" \", \"\").lower()\n",
    "\n",
    "if cleaned_text == cleaned_text[::-1]:\n",
    "    print(t, \"is a palindrome\")\n",
    "else:\n",
    "    print(t, \"is not a palindrome\")"
   ]
  },
  {
   "cell_type": "code",
   "execution_count": 25,
   "id": "b8f7b3eb-36e5-4718-bafe-e132f50df3de",
   "metadata": {},
   "outputs": [
    {
     "name": "stdin",
     "output_type": "stream",
     "text": [
      "Enter the student's score:  92\n"
     ]
    },
    {
     "name": "stdout",
     "output_type": "stream",
     "text": [
      "The student's grade is: A\n"
     ]
    }
   ],
   "source": [
    "#10\n",
    "score = float(input(\"Enter the student's score: \"))\n",
    "\n",
    "if 90 <= score <= 100:\n",
    "    grade = 'A'\n",
    "elif 80 <= score < 90:\n",
    "    grade = 'B'\n",
    "elif 70 <= score < 80:\n",
    "    grade = 'C'\n",
    "elif 60 <= score < 70:\n",
    "    grade = 'D'\n",
    "elif 0 <= score < 60:\n",
    "    grade = 'F'\n",
    "else:\n",
    "    grade = 'Invalid score'\n",
    "\n",
    "print(\"The student's grade is:\", grade)"
   ]
  },
  {
   "cell_type": "code",
   "execution_count": 26,
   "id": "62c3fe17-d64f-4de7-a52b-b048e7d370fe",
   "metadata": {},
   "outputs": [
    {
     "name": "stdin",
     "output_type": "stream",
     "text": [
      "Enter the first number:  45\n",
      "Enter the second number:  4\n",
      "Enter the third number:  0\n"
     ]
    },
    {
     "name": "stdout",
     "output_type": "stream",
     "text": [
      "The largest number is: 45.0\n"
     ]
    }
   ],
   "source": [
    "#11 Nested If-Else Statements:\n",
    "num1 = float(input(\"Enter the first number: \"))\n",
    "num2 = float(input(\"Enter the second number: \"))\n",
    "num3 = float(input(\"Enter the third number: \"))\n",
    "\n",
    "if num1 >= num2:\n",
    "    if num1 >= num3:\n",
    "        largest = num1\n",
    "    else:\n",
    "        largest = num3\n",
    "else:\n",
    "    if num2 >= num3:\n",
    "        largest = num2\n",
    "    else:\n",
    "        largest = num3\n",
    "print(\"The largest number is:\", largest)"
   ]
  },
  {
   "cell_type": "code",
   "execution_count": 3,
   "id": "b3dbc539-d9fc-47f0-914a-9d6681f439cd",
   "metadata": {},
   "outputs": [
    {
     "name": "stdin",
     "output_type": "stream",
     "text": [
      "Enter the first side:  6\n",
      "Enter the second side:  7\n",
      "Enter the third side:  8\n"
     ]
    },
    {
     "name": "stdout",
     "output_type": "stream",
     "text": [
      "The triangle is Scalene\n"
     ]
    }
   ],
   "source": [
    "#12 \n",
    "s1 = float(input(\"Enter the first side: \"))\n",
    "s2 = float(input(\"Enter the second side: \"))\n",
    "s3 = float(input(\"Enter the third side: \"))\n",
    "\n",
    "if s1 + s2 > s3 and s1 + s3 > s2 and s2 + s3 > s1:\n",
    "    if s1 == s2 == s3:\n",
    "        triangle = \"Equilateral\"\n",
    "    elif s1 == s2 or s2 == s3 or s1 == s3:\n",
    "        triangle = \"Isosceles\"\n",
    "    else:\n",
    "        triangle = \"Scalene\"\n",
    "    \n",
    "    print(\"The triangle is\" ,triangle)\n",
    "else:\n",
    "    print(\"Invalid\")"
   ]
  },
  {
   "cell_type": "code",
   "execution_count": 4,
   "id": "dfd7b6f5-e8fd-4623-a0d7-2316fdc194ec",
   "metadata": {},
   "outputs": [
    {
     "name": "stdin",
     "output_type": "stream",
     "text": [
      "Enter a year:  2004\n"
     ]
    },
    {
     "name": "stdout",
     "output_type": "stream",
     "text": [
      "2004 leap year\n"
     ]
    }
   ],
   "source": [
    "#13\n",
    "year = int(input(\"Enter a year: \"))\n",
    "\n",
    "if year % 100 == 0:\n",
    "    if year % 400 == 0:\n",
    "        print(year, \"leap year\")\n",
    "    else:\n",
    "        print(year,\"not a leap year\")\n",
    "    print(year, \"century year\")\n",
    "else:\n",
    "    if year % 4 == 0:\n",
    "        print(year, \"leap year\")\n",
    "    else:\n",
    "        print(year, \"not a leap year\")\n",
    "    "
   ]
  },
  {
   "cell_type": "code",
   "execution_count": 5,
   "id": "054e6066-1996-4103-ac69-2d1ca4a0aa88",
   "metadata": {},
   "outputs": [
    {
     "name": "stdin",
     "output_type": "stream",
     "text": [
      "Enter a number:  6\n"
     ]
    },
    {
     "name": "stdout",
     "output_type": "stream",
     "text": [
      "positive.\n"
     ]
    }
   ],
   "source": [
    "#14 \n",
    "num = float(input(\"Enter a number: \"))\n",
    "\n",
    "if num > 0:\n",
    "    print(\"positive.\")\n",
    "elif num < 0:\n",
    "    print(\"negative.\")\n",
    "else:\n",
    "    print(\"zero.\")"
   ]
  },
  {
   "cell_type": "code",
   "execution_count": 6,
   "id": "9fb8060c-fc59-4456-9d88-1f6c41f6b9b9",
   "metadata": {},
   "outputs": [
    {
     "name": "stdin",
     "output_type": "stream",
     "text": [
      "Enter your age:  25\n"
     ]
    },
    {
     "name": "stdout",
     "output_type": "stream",
     "text": [
      "not a teenager\n"
     ]
    }
   ],
   "source": [
    "#15\n",
    "age = int(input(\"Enter your age: \"))\n",
    "\n",
    "if 13 <= age <= 19:\n",
    "    print(\"teenager\")\n",
    "else:\n",
    "    print(\"not a teenager\")"
   ]
  },
  {
   "cell_type": "code",
   "execution_count": 7,
   "id": "d53c93cf-c9ba-42ec-9ea8-94013146e018",
   "metadata": {},
   "outputs": [
    {
     "name": "stdin",
     "output_type": "stream",
     "text": [
      "Enter the angle in degrees:  70\n"
     ]
    },
    {
     "name": "stdout",
     "output_type": "stream",
     "text": [
      "Acute angle.\n"
     ]
    }
   ],
   "source": [
    "#16\n",
    "angle = float(input(\"Enter the angle in degrees: \"))\n",
    "\n",
    "if 0 < angle < 90:\n",
    "    print(\"Acute angle.\")\n",
    "elif angle == 90:\n",
    "    print(\"Right angle.\")\n",
    "elif 90 < angle < 180:\n",
    "    print(\"Obtuse angle.\")\n",
    "elif angle == 180:\n",
    "    print(\"Straight angle.\")\n",
    "else:\n",
    "    print(\"Invalid angle\")"
   ]
  },
  {
   "cell_type": "code",
   "execution_count": 8,
   "id": "ca5ffa05-6f2d-4899-ba92-82e4197982aa",
   "metadata": {},
   "outputs": [
    {
     "name": "stdin",
     "output_type": "stream",
     "text": [
      "Enter a:  6\n",
      "Enter b:  7\n",
      "Enter c:  8\n"
     ]
    },
    {
     "name": "stdout",
     "output_type": "stream",
     "text": [
      "Imaginary\n"
     ]
    }
   ],
   "source": [
    "#17\n",
    "a = float(input(\"Enter a: \"))\n",
    "b = float(input(\"Enter b: \"))\n",
    "c = float(input(\"Enter c: \"))\n",
    "\n",
    "if a == 0:\n",
    "    print(\"Quadratic equation.\")\n",
    "else:\n",
    "    D = b**2 - 4*a*c\n",
    "\n",
    "    if D > 0:\n",
    "        root1 = (-b + (D)**0.5) / (2*a)\n",
    "        root2 = (-b - (D)**0.5) / (2*a)\n",
    "        print(root1)\n",
    "        print(root2)\n",
    "    else:\n",
    "        if D == 0:\n",
    "            root = -b / (2*a)\n",
    "            print(root)\n",
    "        else:\n",
    "            print(\"Imaginary\")"
   ]
  },
  {
   "cell_type": "code",
   "execution_count": 34,
   "id": "fc7b7e4a-a69f-4810-baa8-0064ad4a7425",
   "metadata": {},
   "outputs": [
    {
     "name": "stdin",
     "output_type": "stream",
     "text": [
      "Enter a number:  3\n"
     ]
    },
    {
     "name": "stdout",
     "output_type": "stream",
     "text": [
      "Wednesday\n"
     ]
    }
   ],
   "source": [
    "#18 \n",
    "dayNum = int(input(\"Enter a number: \"))\n",
    "\n",
    "if dayNum == 1:\n",
    "    print(\"Monday\")\n",
    "else:\n",
    "    if dayNum == 2:\n",
    "        print(\"Tuesday\")\n",
    "    else:\n",
    "        if dayNum == 3:\n",
    "            print(\"Wednesday\")\n",
    "        else:\n",
    "            if dayNum == 4:\n",
    "                print(\"Thursday\")\n",
    "            else:\n",
    "                if dayNum == 5:\n",
    "                    print(\"Friday\")\n",
    "                else:\n",
    "                    if dayNum == 6:\n",
    "                        print(\"Saturday\")\n",
    "                    else:\n",
    "                        if dayNum == 7:\n",
    "                            print(\"Sunday\")\n",
    "                        else:\n",
    "                            print(\"Invalid input\")"
   ]
  },
  {
   "cell_type": "code",
   "execution_count": 9,
   "id": "62f11df3-51d8-44c5-acbd-82d0248c45aa",
   "metadata": {},
   "outputs": [
    {
     "name": "stdin",
     "output_type": "stream",
     "text": [
      "Enter a year:  2004\n"
     ]
    },
    {
     "name": "stdout",
     "output_type": "stream",
     "text": [
      "2004 leap year\n"
     ]
    }
   ],
   "source": [
    "#19\n",
    "year = int(input(\"Enter a year: \"))\n",
    "\n",
    "if year % 4 == 0:\n",
    "    if year % 100 == 0:\n",
    "        if year % 400 == 0:\n",
    "            print(year,\"leap year\")\n",
    "        else:\n",
    "            print(year, \"leap year\")\n",
    "    else:\n",
    "        print(year, \"leap year\")\n",
    "else:\n",
    "    print(year,\"not a leap year\")"
   ]
  },
  {
   "cell_type": "code",
   "execution_count": 10,
   "id": "b6dc774e-9221-4601-beac-8b48ac141883",
   "metadata": {},
   "outputs": [
    {
     "name": "stdin",
     "output_type": "stream",
     "text": [
      "Enter a number:  6\n"
     ]
    },
    {
     "name": "stdout",
     "output_type": "stream",
     "text": [
      "6 not a prime number\n"
     ]
    }
   ],
   "source": [
    "#20\n",
    "num = int(input(\"Enter a number: \"))\n",
    "\n",
    "if num < 2:\n",
    "    print(num, \"not a prime number\")\n",
    "else:\n",
    "    if num == 2:\n",
    "        print(num, \"prime number\")\n",
    "    else:\n",
    "        if num % 2 == 0:\n",
    "            print(num, \"not a prime number\")\n",
    "        else:\n",
    "            is_prime = True\n",
    "            for i in range(3, num // 2 + 1, 2):  \n",
    "                if num % i == 0:\n",
    "                    is_prime = False\n",
    "                    break\n",
    "            if is_prime:\n",
    "                print(num,\"prime number\")\n",
    "            else:\n",
    "                print(num,\"not a prime number\")"
   ]
  },
  {
   "cell_type": "code",
   "execution_count": 40,
   "id": "fd2fc98c-6411-4774-8734-9c67769601ab",
   "metadata": {},
   "outputs": [
    {
     "name": "stdin",
     "output_type": "stream",
     "text": [
      "Enter the score:  90\n"
     ]
    },
    {
     "name": "stdout",
     "output_type": "stream",
     "text": [
      "A\n"
     ]
    }
   ],
   "source": [
    "#21\n",
    "score = float(input(\"Enter the score: \"))\n",
    "\n",
    "if score >= 90:\n",
    "    grade = \"A\"\n",
    "elif score >= 80:\n",
    "    grade = \"B\"\n",
    "elif score >= 70:\n",
    "    grade = \"C\"\n",
    "elif score >= 60:\n",
    "    grade = \"D\"\n",
    "elif score >= 50:\n",
    "    grade = \"E\"\n",
    "else:\n",
    "    grade = \"F\"\n",
    "\n",
    "# Output the grade\n",
    "print(grade)"
   ]
  },
  {
   "cell_type": "code",
   "execution_count": 70,
   "id": "ec2c79b7-6956-4932-884d-8924d412fff7",
   "metadata": {},
   "outputs": [
    {
     "name": "stdin",
     "output_type": "stream",
     "text": [
      "Enter first angle:  90\n",
      "Enter second angle:  90\n",
      "Enter third angle:  90\n"
     ]
    },
    {
     "name": "stdout",
     "output_type": "stream",
     "text": [
      "Invalid\n"
     ]
    }
   ],
   "source": [
    "#22\n",
    "angle1 = float(input(\"Enter first angle: \"))\n",
    "angle2 = float(input(\"Enter second angle: \"))\n",
    "angle3 = float(input(\"Enter third angle: \"))\n",
    "\n",
    "if angle1 + angle2 + angle3 == 180 and angle1 > 0 and angle2 > 0 and angle3 > 0:\n",
    "    if angle1 == 90 or angle2 == 90 or angle3 == 90:\n",
    "        print(\"Right Triangle\")\n",
    "    elif angle1 < 90 and angle2 < 90 and angle3 < 90:\n",
    "        print(\"Acute Triangle\")\n",
    "    elif angle1 > 90 or angle2 > 90 or angle3 > 90:\n",
    "        print(\"Obtuse Triangle\")\n",
    "else:\n",
    "    print(\"Invalid\")"
   ]
  },
  {
   "cell_type": "code",
   "execution_count": 42,
   "id": "9e2bdd89-b88e-4451-9b58-f0c556ae9ad1",
   "metadata": {},
   "outputs": [
    {
     "name": "stdin",
     "output_type": "stream",
     "text": [
      "Enter your weight (kg):  54\n",
      "Enter your height (m):  164\n"
     ]
    },
    {
     "name": "stdout",
     "output_type": "stream",
     "text": [
      "Your BMI is 0.002007733491969066\n",
      "Category: Underweight\n"
     ]
    }
   ],
   "source": [
    "#23\n",
    "weight = float(input(\"Enter your weight (kg): \"))\n",
    "height = float(input(\"Enter your height (m): \"))\n",
    "\n",
    "bmi = weight / (height ** 2)\n",
    "\n",
    "if bmi < 18.5:\n",
    "    category = \"Underweight\"\n",
    "elif bmi < 25:\n",
    "    category = \"Normal\"\n",
    "elif bmi < 30:\n",
    "    category = \"Overweight\"\n",
    "else:\n",
    "    category = \"Obese\"\n",
    "\n",
    "print(\"Your BMI is\", bmi)\n",
    "print(\"Category:\", category)"
   ]
  },
  {
   "cell_type": "code",
   "execution_count": 11,
   "id": "b663a7b5-6f89-4186-8a9d-5a2717525c84",
   "metadata": {},
   "outputs": [
    {
     "name": "stdin",
     "output_type": "stream",
     "text": [
      "Enter a number:  8\n"
     ]
    },
    {
     "name": "stdout",
     "output_type": "stream",
     "text": [
      "8.0 positive\n"
     ]
    }
   ],
   "source": [
    "#24\n",
    "num = float(input(\"Enter a number: \"))\n",
    "\n",
    "if num > 0:\n",
    "    print(num, \"positive\")\n",
    "elif num < 0:\n",
    "    print(num,\"negative\")\n",
    "else:\n",
    "    print(\"zero\")"
   ]
  },
  {
   "cell_type": "code",
   "execution_count": 45,
   "id": "c15b1989-48e7-4f8c-a038-2d445e3bacb8",
   "metadata": {},
   "outputs": [
    {
     "name": "stdin",
     "output_type": "stream",
     "text": [
      "Enter a single character:  h\n"
     ]
    },
    {
     "name": "stdout",
     "output_type": "stream",
     "text": [
      "h =lowercase letter\n"
     ]
    }
   ],
   "source": [
    "#25\n",
    "ch = input(\"Enter a single character: \")\n",
    "\n",
    "if ch.isupper():\n",
    "    print(ch,\"=uppercase letter\")\n",
    "elif char.islower():\n",
    "    print(ch,\"=lowercase letter\")\n",
    "else:\n",
    "    print(char,\"=special character\")"
   ]
  },
  {
   "cell_type": "code",
   "execution_count": 47,
   "id": "687f1f48-ae73-4564-a954-538b259b8cdc",
   "metadata": {},
   "outputs": [
    {
     "name": "stdin",
     "output_type": "stream",
     "text": [
      "Enter the purchase amount (in ₹):  500\n"
     ]
    },
    {
     "name": "stdout",
     "output_type": "stream",
     "text": [
      "Original Amount: 500.0\n",
      "Discount: 0.0\n",
      "to Pay: 500.0\n"
     ]
    }
   ],
   "source": [
    "#26\n",
    "amount = float(input(\"Enter the purchase amount (in ₹): \"))\n",
    "\n",
    "if amount >= 5000:\n",
    "    discount = 0.20\n",
    "elif amount >= 3000:\n",
    "    discount = 0.15\n",
    "elif amount >= 1000:\n",
    "    discount = 0.10\n",
    "else:\n",
    "    discount = 0.0\n",
    "\n",
    "discount_amount = amount * discount\n",
    "final_price = amount - discount_amount\n",
    "\n",
    "print(\"Original Amount:\", amount)\n",
    "print(\"Discount:\", discount_amount)\n",
    "print(\"to Pay:\", final_price)"
   ]
  },
  {
   "cell_type": "code",
   "execution_count": 50,
   "id": "a995abc9-f4a9-40fe-bc88-c0a98949300f",
   "metadata": {},
   "outputs": [
    {
     "name": "stdin",
     "output_type": "stream",
     "text": [
      "Enter the number unit:  70\n"
     ]
    },
    {
     "name": "stdout",
     "output_type": "stream",
     "text": [
      "350\n"
     ]
    }
   ],
   "source": [
    "#27\n",
    "units = int(input(\"Enter the number unit: \"))\n",
    "\n",
    "if units <= 100:\n",
    "    bill = units * 5\n",
    "elif units <= 200:\n",
    "    bill = units * 5\n",
    "else:\n",
    "    print(bill)\n",
    "print(bill)"
   ]
  },
  {
   "cell_type": "code",
   "execution_count": 51,
   "id": "825fc0db-b7fb-4b19-b6f9-29a6a14a9fd4",
   "metadata": {},
   "outputs": [
    {
     "name": "stdin",
     "output_type": "stream",
     "text": [
      "Enter angle 1:  90\n",
      "Enter angle 2:  90\n",
      "Enter angle 3:  90\n",
      "Enter angle 4:  90\n",
      "Enter side 1:  20\n",
      "Enter side 2:  40\n",
      "Enter side 3:  20\n",
      "Enter side 4:  40\n"
     ]
    },
    {
     "name": "stdout",
     "output_type": "stream",
     "text": [
      "Rectangle\n"
     ]
    }
   ],
   "source": [
    "#28\n",
    "a1 = int(input(\"Enter angle 1: \"))\n",
    "a2 = int(input(\"Enter angle 2: \"))\n",
    "a3 = int(input(\"Enter angle 3: \"))\n",
    "a4 = int(input(\"Enter angle 4: \"))\n",
    "\n",
    "s1 = int(input(\"Enter side 1: \"))\n",
    "s2 = int(input(\"Enter side 2: \"))\n",
    "s3 = int(input(\"Enter side 3: \"))\n",
    "s4 = int(input(\"Enter side 4: \"))\n",
    "\n",
    "if a1 + a2 + a3 + a4 != 360:\n",
    "    print(\"Not a valid quadrilateral.\")\n",
    "else:\n",
    "    if a1 == a2 == a3 == a4 == 90 and s1 == s2 == s3 == s4:\n",
    "        print(\"Square\")\n",
    "    elif a1 == a2 == a3 == a4 == 90 and s1 == s3 and s2 == s4:\n",
    "        print(\"Rectangle\")\n",
    "    elif s1 == s3 and s2 == s4 and a1 == a3 and a2 == a4:\n",
    "        print(\"Parallelogram\")\n",
    "    else:\n",
    "        print(\"Enter valid\")\n"
   ]
  },
  {
   "cell_type": "code",
   "execution_count": 52,
   "id": "92a497f7-57ea-4ac3-a439-2f55bf417979",
   "metadata": {},
   "outputs": [
    {
     "name": "stdin",
     "output_type": "stream",
     "text": [
      "Enter the name of the month:  august\n"
     ]
    },
    {
     "name": "stdout",
     "output_type": "stream",
     "text": [
      "Monsoon\n"
     ]
    }
   ],
   "source": [
    "#29\n",
    "month = input(\"Enter the name of the month: \").strip()\n",
    "\n",
    "if month in [\"december\", \"january\", \"february\"]:\n",
    "    print(\"Winter\")\n",
    "elif month in [\"march\", \"april\", \"may\"]:\n",
    "    print(\"Summer\")\n",
    "elif month in [\"june\", \"july\", \"august\", \"september\"]:\n",
    "    print(\"Monsoon\")\n",
    "elif month in [\"october\", \"november\"]:\n",
    "    print(\"Autumn\")\n",
    "else:\n",
    "    print(\"Invalid\")"
   ]
  },
  {
   "cell_type": "code",
   "execution_count": 53,
   "id": "e11800b4-d58c-4670-be3c-247a0aea23aa",
   "metadata": {},
   "outputs": [
    {
     "name": "stdin",
     "output_type": "stream",
     "text": [
      "Enter a year:  2004\n",
      "Enter month number (1-12):  8\n"
     ]
    },
    {
     "name": "stdout",
     "output_type": "stream",
     "text": [
      "Leap Year\n",
      "2004\n",
      "8 has 31 days\n"
     ]
    }
   ],
   "source": [
    "#30\n",
    "year = int(input(\"Enter a year: \"))\n",
    "month = int(input(\"Enter month number (1-12): \"))\n",
    "\n",
    "if (year % 4 == 0 and year % 100 != 0) or (year % 400 == 0):\n",
    "    print(\"Leap Year\")\n",
    "else:\n",
    "    print(\"Common Year\")\n",
    "\n",
    "if month in [1, 3, 5, 7, 8, 10, 12]:\n",
    "    days = 31\n",
    "elif month in [4, 6, 9, 11]:\n",
    "    days = 30\n",
    "elif month == 2:\n",
    "    days = 29 if year_type == \"Leap Year\" else 28\n",
    "else:\n",
    "    days = None  \n",
    "\n",
    "if days is None:\n",
    "    print(\"Invalid\")\n",
    "else:\n",
    "    print(year)\n",
    "    print(month, \"has\", days, \"days\")"
   ]
  },
  {
   "cell_type": "code",
   "execution_count": 54,
   "id": "2edb0d94-07ea-4b06-9409-a0eea4b332c7",
   "metadata": {},
   "outputs": [
    {
     "name": "stdin",
     "output_type": "stream",
     "text": [
      "Enter a number:  8\n"
     ]
    },
    {
     "name": "stdout",
     "output_type": "stream",
     "text": [
      "positive\n"
     ]
    }
   ],
   "source": [
    "#Combined\n",
    "#1\n",
    "num = float(input(\"Enter a number: \"))\n",
    "\n",
    "if num > 0:\n",
    "    print(\"positive\")\n",
    "elif num < 0:\n",
    "    print(\"negative\")\n",
    "else:\n",
    "    print(\"zero\")"
   ]
  },
  {
   "cell_type": "code",
   "execution_count": 55,
   "id": "9cf0dbf8-b8bd-4efe-aa28-86032e3fea96",
   "metadata": {},
   "outputs": [
    {
     "name": "stdin",
     "output_type": "stream",
     "text": [
      "Enter your age:  8\n"
     ]
    },
    {
     "name": "stdout",
     "output_type": "stream",
     "text": [
      "not eligible\n"
     ]
    }
   ],
   "source": [
    "#2\n",
    "age = int(input(\"Enter your age: \"))\n",
    "\n",
    "if age > 18:\n",
    "    print(\"eligible\")\n",
    "elif age == 18:\n",
    "    print(\"eligible\")\n",
    "else:\n",
    "    print(\"not eligible\")"
   ]
  },
  {
   "cell_type": "code",
   "execution_count": 56,
   "id": "b16945c3-41a3-414c-b159-d8026486adde",
   "metadata": {},
   "outputs": [
    {
     "name": "stdin",
     "output_type": "stream",
     "text": [
      "Enter the first number:  78\n",
      "Enter the second number:  89\n"
     ]
    },
    {
     "name": "stdout",
     "output_type": "stream",
     "text": [
      "maximum 89.0\n"
     ]
    }
   ],
   "source": [
    "#3\n",
    "num1 = float(input(\"Enter the first number: \"))\n",
    "num2 = float(input(\"Enter the second number: \"))\n",
    "\n",
    "if num1 > num2:\n",
    "    print(\"maximum:\", num1)\n",
    "elif num2 > num1:\n",
    "    print(\"maximum\", num2)\n",
    "else:\n",
    "    print(\"Equal.\")"
   ]
  },
  {
   "cell_type": "code",
   "execution_count": 58,
   "id": "3cd353da-26de-453b-8862-db4735171dd9",
   "metadata": {},
   "outputs": [
    {
     "name": "stdin",
     "output_type": "stream",
     "text": [
      "Enter marks:  78\n"
     ]
    },
    {
     "name": "stdout",
     "output_type": "stream",
     "text": [
      "C\n"
     ]
    }
   ],
   "source": [
    "#4\n",
    "marks = float(input(\"Enter marks: \"))\n",
    "\n",
    "if marks >= 90:\n",
    "    g = \"A\"\n",
    "elif marks >= 80:\n",
    "    g = \"B\"\n",
    "elif marks >= 70:\n",
    "    g = \"C\"\n",
    "elif marks >= 60:\n",
    "    g = \"D\"\n",
    "else:\n",
    "    g = \"F\"\n",
    "\n",
    "print(g)"
   ]
  },
  {
   "cell_type": "code",
   "execution_count": 59,
   "id": "463ca687-ab50-4784-9bca-ec6f6cc160aa",
   "metadata": {},
   "outputs": [
    {
     "name": "stdin",
     "output_type": "stream",
     "text": [
      "Enter a year:  2025\n"
     ]
    },
    {
     "name": "stdout",
     "output_type": "stream",
     "text": [
      "2025 not a leap year\n"
     ]
    }
   ],
   "source": [
    "#5\n",
    "year = int(input(\"Enter a year: \"))\n",
    "\n",
    "if year % 4 == 0:\n",
    "    if year % 100 == 0:\n",
    "        if year % 400 == 0:\n",
    "            print(year, \"leap year\")\n",
    "        else:\n",
    "            print(year, \"not a leap year\")\n",
    "    else:\n",
    "        print(year,\"leap year\")\n",
    "else:\n",
    "    print(year,\"not a leap year\")"
   ]
  },
  {
   "cell_type": "code",
   "execution_count": 61,
   "id": "8fdaa5b4-ca58-4545-ad88-64771ba97355",
   "metadata": {},
   "outputs": [
    {
     "name": "stdin",
     "output_type": "stream",
     "text": [
      "Enter the length of the first side:  6\n",
      "Enter the length of the second side:  6\n",
      "Enter the length of the third side:  6\n"
     ]
    },
    {
     "name": "stdout",
     "output_type": "stream",
     "text": [
      "Equilateral\n"
     ]
    }
   ],
   "source": [
    "#6\n",
    "side1 = float(input(\"Enter the length of the first side: \"))\n",
    "side2 = float(input(\"Enter the length of the second side: \"))\n",
    "side3 = float(input(\"Enter the length of the third side: \"))\n",
    "if side1 == side2 == side3:\n",
    "    print(\"Equilateral\")\n",
    "elif side1 == side2 or side1 == side3 or side2 == side3:\n",
    "    print(\"Isosceles\")\n",
    "else:\n",
    "    print(\"Scalene\")"
   ]
  },
  {
   "cell_type": "code",
   "execution_count": 63,
   "id": "31c5a896-9225-4c7b-857e-a4d1b58a4d84",
   "metadata": {},
   "outputs": [
    {
     "name": "stdin",
     "output_type": "stream",
     "text": [
      "Enter the first number:  8\n",
      "Enter the second number:  9\n",
      "Enter the third number:  2\n"
     ]
    },
    {
     "name": "stdout",
     "output_type": "stream",
     "text": [
      "9.0\n"
     ]
    }
   ],
   "source": [
    "#7\n",
    "num1 = float(input(\"Enter the first number: \"))\n",
    "num2 = float(input(\"Enter the second number: \"))\n",
    "num3 = float(input(\"Enter the third number: \"))\n",
    "\n",
    "if num1 >= num2 and num1 >= num3:\n",
    "    largest = num1\n",
    "elif num2 >= num1 and num2 >= num3:\n",
    "    largest = num2\n",
    "else:\n",
    "    largest = num3\n",
    "\n",
    "print(largest)"
   ]
  },
  {
   "cell_type": "code",
   "execution_count": 68,
   "id": "59d7ddaf-3915-4ad4-aa87-7de6ebe024ea",
   "metadata": {},
   "outputs": [
    {
     "name": "stdin",
     "output_type": "stream",
     "text": [
      "Enter a string:  ankita\n"
     ]
    },
    {
     "name": "stdout",
     "output_type": "stream",
     "text": [
      "3\n"
     ]
    }
   ],
   "source": [
    "#8\n",
    "text = input(\"Enter a string: \")\n",
    "vowels = \"aeiouAEIOU\"\n",
    "count = 0\n",
    "\n",
    "for i in text:\n",
    "    if i in vowels:  \n",
    "        count += 1\n",
    "    else: i.isalpha()  \n",
    "         \n",
    "   \n",
    "print(count)"
   ]
  },
  {
   "cell_type": "code",
   "execution_count": 12,
   "id": "40ec8848-d436-4aaa-b152-dce4ba9a158f",
   "metadata": {},
   "outputs": [
    {
     "name": "stdin",
     "output_type": "stream",
     "text": [
      "Enter price of the item: ₹ 50\n",
      "Enter quantity:  5\n",
      "Enter discount (%):  7\n"
     ]
    },
    {
     "name": "stdout",
     "output_type": "stream",
     "text": [
      "232.5\n"
     ]
    }
   ],
   "source": [
    "#9\n",
    "price = float(input(\"Enter price of the item: ₹\"))\n",
    "quantity = int(input(\"Enter quantity: \"))\n",
    "discount = float(input(\"Enter discount (%): \"))\n",
    "\n",
    "before_discount = price * quantity\n",
    "\n",
    "discount_amount = before_discount * (discount / 100)\n",
    "\n",
    "after_discount = before_discount - discount_amount\n",
    "\n",
    "print(after_discount)"
   ]
  },
  {
   "cell_type": "code",
   "execution_count": 69,
   "id": "e81752b5-37ec-41cb-bc00-afc5decc5ddc",
   "metadata": {},
   "outputs": [
    {
     "name": "stdin",
     "output_type": "stream",
     "text": [
      "Enter a number:  6\n"
     ]
    },
    {
     "name": "stdout",
     "output_type": "stream",
     "text": [
      "6 even number\n"
     ]
    }
   ],
   "source": [
    "#10\n",
    "number = int(input(\"Enter a number: \"))\n",
    "\n",
    "if number % 2 == 0:\n",
    "    print(number, \"even number\")\n",
    "else:\n",
    "    print(number, \"odd number\")"
   ]
  },
  {
   "cell_type": "code",
   "execution_count": 72,
   "id": "638ceb66-a7e7-4e7e-b030-7ba12eea189a",
   "metadata": {},
   "outputs": [
    {
     "name": "stdin",
     "output_type": "stream",
     "text": [
      "Enter a:  7\n",
      "Enter b:  8\n",
      "Enter c:  9\n"
     ]
    },
    {
     "name": "stdout",
     "output_type": "stream",
     "text": [
      "The roots are imaginary\n"
     ]
    }
   ],
   "source": [
    "#11\n",
    "a = float(input(\"Enter a: \"))\n",
    "b = float(input(\"Enter b: \"))\n",
    "c = float(input(\"Enter c: \"))\n",
    "\n",
    "if a == 0:\n",
    "    print(\"This is not a quadratic equation.\")\n",
    "else:\n",
    "    D = b**2 - 4*a*c\n",
    "\n",
    "    if D > 0:\n",
    "        root1 = (-b + (D)**0.5) / (2*a)\n",
    "        root2 = (-b - (D)**0.5) / (2*a)\n",
    "        print(root1)\n",
    "        print(root2)\n",
    "    else:\n",
    "        if D == 0:\n",
    "            root = -b / (2*a)\n",
    "            print(root)\n",
    "        else:\n",
    "            print(\"The roots are imaginary\")"
   ]
  },
  {
   "cell_type": "code",
   "execution_count": 71,
   "id": "f04207a9-7782-4e01-99e4-5f508e00e755",
   "metadata": {},
   "outputs": [
    {
     "name": "stdin",
     "output_type": "stream",
     "text": [
      "Enter a number:  6\n"
     ]
    },
    {
     "name": "stdout",
     "output_type": "stream",
     "text": [
      "Saturday\n"
     ]
    }
   ],
   "source": [
    "#12\n",
    "dayNum = int(input(\"Enter a number: \"))\n",
    "\n",
    "if dayNum == 1:\n",
    "    print(\"Monday\")\n",
    "else:\n",
    "    if dayNum == 2:\n",
    "        print(\"Tuesday\")\n",
    "    else:\n",
    "        if dayNum == 3:\n",
    "            print(\"Wednesday\")\n",
    "        else:\n",
    "            if dayNum == 4:\n",
    "                print(\"Thursday\")\n",
    "            else:\n",
    "                if dayNum == 5:\n",
    "                    print(\"Friday\")\n",
    "                else:\n",
    "                    if dayNum == 6:\n",
    "                        print(\"Saturday\")\n",
    "                    else:\n",
    "                        if dayNum == 7:\n",
    "                            print(\"Sunday\")\n",
    "                        else:\n",
    "                            print(\"Invalid input\")"
   ]
  },
  {
   "cell_type": "code",
   "execution_count": 73,
   "id": "6a44384d-39c9-48e1-8dfc-d8209bd24ca1",
   "metadata": {},
   "outputs": [
    {
     "name": "stdin",
     "output_type": "stream",
     "text": [
      "Enter a integer:  5\n"
     ]
    },
    {
     "name": "stdout",
     "output_type": "stream",
     "text": [
      "120\n"
     ]
    }
   ],
   "source": [
    "#13\n",
    "def factorial(n):\n",
    "    if n == 0 or n == 1:\n",
    "        return 1  \n",
    "    else:\n",
    "        return n * factorial(n - 1)  \n",
    "\n",
    "number = int(input(\"Enter a integer: \"))\n",
    "\n",
    "if number < 0:\n",
    "    print(\" not defined\")\n",
    "else:\n",
    "    result = factorial(number)\n",
    "    print(result)"
   ]
  },
  {
   "cell_type": "code",
   "execution_count": 74,
   "id": "6f0d1b96-c874-4c53-88da-dc299c276090",
   "metadata": {},
   "outputs": [
    {
     "name": "stdin",
     "output_type": "stream",
     "text": [
      "Enter the first number:  5\n",
      "Enter the second number:  9\n",
      "Enter the third number:  8\n"
     ]
    },
    {
     "name": "stdout",
     "output_type": "stream",
     "text": [
      "9.0\n"
     ]
    }
   ],
   "source": [
    "#14\n",
    "num1 = float(input(\"Enter the first number: \"))\n",
    "num2 = float(input(\"Enter the second number: \"))\n",
    "num3 = float(input(\"Enter the third number: \"))\n",
    "\n",
    "if num1 >= num2 and num1 >= num3:\n",
    "    largest = num1\n",
    "elif num2 >= num1 and num2 >= num3:\n",
    "    largest = num2\n",
    "else:\n",
    "    largest = num3\n",
    "\n",
    "print(largest)"
   ]
  },
  {
   "cell_type": "code",
   "execution_count": null,
   "id": "a10fa787-df94-48c2-868f-67981989ee59",
   "metadata": {},
   "outputs": [
    {
     "name": "stdout",
     "output_type": "stream",
     "text": [
      "\n",
      "===== ATM Menu =====\n",
      "1. Check Balance\n",
      "2. Deposit Money\n",
      "3. Withdraw Money\n",
      "4. Exit\n"
     ]
    },
    {
     "name": "stdin",
     "output_type": "stream",
     "text": [
      "Enter your choice (1-4):  5\n"
     ]
    },
    {
     "name": "stdout",
     "output_type": "stream",
     "text": [
      "Invalid choice\n",
      "\n",
      "===== ATM Menu =====\n",
      "1. Check Balance\n",
      "2. Deposit Money\n",
      "3. Withdraw Money\n",
      "4. Exit\n"
     ]
    }
   ],
   "source": [
    "#15\n",
    "balance = 10000.0 \n",
    "def show_menu():\n",
    "    print(\"ATM Menu\")\n",
    "    print(\"1. Check Balance\")\n",
    "    print(\"2. Deposit Money\")\n",
    "    print(\"3. Withdraw Money\")\n",
    "    print(\"4. Exit\")\n",
    "\n",
    "for i in range(5):\n",
    "    show_menu()\n",
    "    choice = input(\"Enter your choice (1-4): \")\n",
    "\n",
    "    if choice == '1':\n",
    "        print(\"Current balance:\", balance)\n",
    "    else:\n",
    "        if choice == '2':\n",
    "            amount = float(input(\"Enter amount to deposit: ₹\"))\n",
    "            if amount > 0:\n",
    "                balance += amount\n",
    "                print(\"₹\", amount, \"deposited successfully.\")\n",
    "                print(\"Updated balance: ₹\", balance)\n",
    "            else:\n",
    "                print(\"Invalid deposit amount.\")\n",
    "        else:\n",
    "            if choice == '3':\n",
    "                amount = float(input(\"Enter amount to withdraw: ₹\"))\n",
    "                if amount <= 0:\n",
    "                    print(\"Invalid withdrawal amount.\")\n",
    "                else:\n",
    "                    if amount > balance:\n",
    "                        print(\"Insufficient balance.\")\n",
    "                    else:\n",
    "                        balance -= amount\n",
    "                        print(\"₹\", amount, \"withdrawn successfully.\")\n",
    "                        print(\"Updated balance: ₹\", balance)\n",
    "            else:\n",
    "                if choice == '4':\n",
    "                    print(\"Thank you\")\n",
    "                    break\n",
    "                else:\n",
    "                    print(\"Invalid choice\")"
   ]
  },
  {
   "cell_type": "code",
   "execution_count": 76,
   "id": "45f7f100-56b5-43f1-bb2b-fce6d286bc3b",
   "metadata": {},
   "outputs": [
    {
     "name": "stdin",
     "output_type": "stream",
     "text": [
      "Enter a string:  madam\n"
     ]
    },
    {
     "name": "stdout",
     "output_type": "stream",
     "text": [
      "madam is a palindrome\n"
     ]
    }
   ],
   "source": [
    "#16\n",
    "t = input(\"Enter a string: \")\n",
    "\n",
    "cleaned_text = t.replace(\" \", \"\").lower()\n",
    "\n",
    "if cleaned_text == cleaned_text[::-1]:\n",
    "    print(t, \"is a palindrome\")\n",
    "else:\n",
    "    print(t, \"is not a palindrome\")"
   ]
  },
  {
   "cell_type": "code",
   "execution_count": 77,
   "id": "879bc592-23c8-4376-8565-f65ad97436a1",
   "metadata": {},
   "outputs": [
    {
     "name": "stdin",
     "output_type": "stream",
     "text": [
      "How many numbers will you enter?  6\n",
      "Enter number 1:  1\n",
      "Enter number 2:  2\n",
      "Enter number 3:  3\n",
      "Enter number 4:  4\n",
      "Enter number 5:  5\n",
      "Enter number 6:  6\n"
     ]
    },
    {
     "name": "stdout",
     "output_type": "stream",
     "text": [
      "3.5\n"
     ]
    }
   ],
   "source": [
    "#17\n",
    "def average(numbers):\n",
    "    if len(numbers) <= 2:\n",
    "        return None \n",
    "        \n",
    "    numbers_copy = numbers.copy()\n",
    "    numbers_copy.remove(min(numbers_copy))\n",
    "    numbers_copy.remove(max(numbers_copy))\n",
    "\n",
    "    return sum(numbers_copy) / len(numbers_copy)\n",
    "\n",
    "n = int(input(\"How many numbers will you enter? \"))\n",
    "numbers = []\n",
    "\n",
    "for i in range(n):\n",
    "    num = float(input(f\"Enter number {i+1}: \"))\n",
    "    numbers.append(num)\n",
    "\n",
    "avg = average(numbers)\n",
    "\n",
    "if avg is not None:\n",
    "    print(avg)\n",
    "else:\n",
    "    print(\"invalid\")"
   ]
  },
  {
   "cell_type": "code",
   "execution_count": 78,
   "id": "982401a2-0bd4-476b-a214-f8371f8fca93",
   "metadata": {},
   "outputs": [
    {
     "name": "stdin",
     "output_type": "stream",
     "text": [
      "Enter temperatures in Fahrenheit:  78\n"
     ]
    },
    {
     "name": "stdout",
     "output_type": "stream",
     "text": [
      "Fahrenheit temperatures: [78]\n",
      "Converted Celsius temperatures: [25.555555555555557]\n"
     ]
    }
   ],
   "source": [
    "#18\n",
    "fahrenheit_temps = list(map(int, input(\"Enter temperatures in Fahrenheit: \").split()))\n",
    "celsius_temps = []\n",
    "\n",
    "for temp in fahrenheit_temps:\n",
    "    celsius = (temp - 32) * 5 / 9\n",
    "    celsius_temps.append(celsius)\n",
    "\n",
    "print(\"Fahrenheit temperatures:\", fahrenheit_temps)\n",
    "print(\"Converted Celsius temperatures:\", celsius_temps)"
   ]
  },
  {
   "cell_type": "code",
   "execution_count": 79,
   "id": "409ef2a6-add3-4a0a-af5f-4a8fef1ca4b0",
   "metadata": {},
   "outputs": [
    {
     "name": "stdout",
     "output_type": "stream",
     "text": [
      "Basic Calculator\n",
      "Select operation:\n",
      "1. Addition (+)\n",
      "2. Subtraction (-)\n",
      "3. Multiplication (*)\n",
      "4. Division (/)\n"
     ]
    },
    {
     "name": "stdin",
     "output_type": "stream",
     "text": [
      "Enter choice (1/2/3/4):  3\n",
      "Enter first number:  78\n",
      "Enter second number:  78\n"
     ]
    },
    {
     "name": "stdout",
     "output_type": "stream",
     "text": [
      "Result: 6084.0\n"
     ]
    }
   ],
   "source": [
    "#19\n",
    "print(\"Basic Calculator\")\n",
    "print(\"Select operation:\")\n",
    "print(\"1. Addition (+)\")\n",
    "print(\"2. Subtraction (-)\")\n",
    "print(\"3. Multiplication (*)\")\n",
    "print(\"4. Division (/)\")\n",
    "\n",
    "choice = input(\"Enter choice (1/2/3/4): \")\n",
    "\n",
    "num1 = float(input(\"Enter first number: \"))\n",
    "num2 = float(input(\"Enter second number: \"))\n",
    "\n",
    "if choice == '1':\n",
    "    result = num1 + num2\n",
    "    print(\"Result:\", result)\n",
    "\n",
    "elif choice == '2':\n",
    "    result = num1 - num2\n",
    "    print(\"Result:\", result)\n",
    "\n",
    "elif choice == '3':\n",
    "    result = num1 * num2\n",
    "    print(\"Result:\", result)\n",
    "\n",
    "elif choice == '4':\n",
    "    if num2 == 0:\n",
    "        print(\"not possible\")\n",
    "    else:\n",
    "        result = num1 / num2\n",
    "        print(\"Result:\", result)\n",
    "\n",
    "else:\n",
    "    print(\"Invalid input\")"
   ]
  },
  {
   "cell_type": "code",
   "execution_count": 1,
   "id": "c08d0fab-50a1-43f0-b7fa-632556ab7c4a",
   "metadata": {},
   "outputs": [
    {
     "name": "stdin",
     "output_type": "stream",
     "text": [
      "Enter coefficient a (for x^3):  6\n",
      "Enter coefficient b (for x^2):  7\n",
      "Enter coefficient c (for x):  8\n",
      "Enter constant d:  9\n"
     ]
    },
    {
     "name": "stdout",
     "output_type": "stream",
     "text": [
      "The roots of the cubic equation are:\n",
      "(-1.1456697611530722+0j)\n",
      "(-0.010498452756798005+1.144188619108899j)\n",
      "(-0.010498452756798005-1.144188619108899j)\n"
     ]
    }
   ],
   "source": [
    "#20\n",
    "import numpy as np\n",
    "\n",
    "a = float(input(\"Enter coefficient a (for x^3): \"))\n",
    "b = float(input(\"Enter coefficient b (for x^2): \"))\n",
    "c = float(input(\"Enter coefficient c (for x): \"))\n",
    "d = float(input(\"Enter constant d: \"))\n",
    "\n",
    "coefficients = [a, b, c, d]\n",
    "\n",
    "roots = np.roots(coefficients)\n",
    "\n",
    "print(\"The roots of the cubic equation are:\")\n",
    "for root in roots:\n",
    "    if np.isreal(root):\n",
    "        print(root)  \n",
    "    else:\n",
    "        print(root) "
   ]
  },
  {
   "cell_type": "code",
   "execution_count": 12,
   "id": "22b948f7-8bb1-4f9f-9451-86c43efb2f76",
   "metadata": {},
   "outputs": [
    {
     "name": "stdin",
     "output_type": "stream",
     "text": [
      "Enter your annual income:  600000\n"
     ]
    },
    {
     "name": "stdout",
     "output_type": "stream",
     "text": [
      "Your calculated income tax is: 32500.0\n"
     ]
    }
   ],
   "source": [
    "#21\n",
    "def calculate_income_tax(income):\n",
    "    tax = 0\n",
    "\n",
    "    if income <= 250000:\n",
    "        tax = 0\n",
    "    elif income <= 500000:\n",
    "        tax = (income - 250000) * 0.05\n",
    "    elif income <= 1000000:\n",
    "        tax = (250000 * 0.05) + (income - 500000) * 0.20\n",
    "    else:\n",
    "        tax = (250000 * 0.05) + (500000 * 0.20) + (income - 1000000) * 0.30\n",
    "\n",
    "    return tax\n",
    "\n",
    "income = float(input(\"Enter your annual income: \"))\n",
    "tax = calculate_income_tax(income)\n",
    "print(\"Your calculated income tax is:\", tax)"
   ]
  },
  {
   "cell_type": "code",
   "execution_count": 5,
   "id": "c1d28d11-1a23-4c5f-9e7a-4010178543eb",
   "metadata": {},
   "outputs": [
    {
     "name": "stdout",
     "output_type": "stream",
     "text": [
      "Welcome to Rock-Paper-Scissors!\n"
     ]
    },
    {
     "name": "stdin",
     "output_type": "stream",
     "text": [
      "Enter your choice (rock/paper/scissors):  scissors\n"
     ]
    },
    {
     "name": "stdout",
     "output_type": "stream",
     "text": [
      "sys chose: rock\n",
      "Sys wins!\n"
     ]
    }
   ],
   "source": [
    "#22\n",
    "import random\n",
    "\n",
    "def sys_choice():\n",
    "    return random.choice([\"rock\", \"paper\", \"scissors\"])\n",
    "\n",
    "def winner(user, sys):\n",
    "    if user == sys:\n",
    "        return \"tie!\"\n",
    "    elif (user == \"rock\" and sys == \"scissors\") or \\\n",
    "         (user == \"paper\" and sys == \"rock\") or \\\n",
    "         (user == \"scissors\" and sys == \"paper\"):\n",
    "        return \"You win!\"\n",
    "    else:\n",
    "        return \"Sys wins!\"\n",
    "\n",
    "print(\"Welcome to Rock-Paper-Scissors!\")\n",
    "user_choice = input(\"Enter your choice (rock/paper/scissors): \").lower()\n",
    "\n",
    "if user_choice not in [\"rock\", \"paper\", \"scissors\"]:\n",
    "    print(\"Invalid choice\")\n",
    "else:\n",
    "    sys_choice = sys_choice()\n",
    "    print(\"sys chose:\", sys_choice)\n",
    "    result = winner(user_choice, sys_choice)\n",
    "    print(result)\n"
   ]
  },
  {
   "cell_type": "code",
   "execution_count": 14,
   "id": "c26a14da-1c16-474c-b83d-5135e78b03f9",
   "metadata": {},
   "outputs": [
    {
     "name": "stdin",
     "output_type": "stream",
     "text": [
      "Enter desired password length:  8\n",
      "Include uppercase letters? (yes/no):  yes\n",
      "Include digits? (yes/no):  yes\n",
      "Include special characters? (yes/no):  yes\n"
     ]
    },
    {
     "name": "stdout",
     "output_type": "stream",
     "text": [
      "Generated password: CXOUT$GP\n"
     ]
    }
   ],
   "source": [
    "#23\n",
    "import random\n",
    "import string\n",
    "\n",
    "def generate_password(length, use_uppercase, use_digits, use_special):\n",
    "    characters = string.ascii_lowercase \n",
    "\n",
    "    if use_uppercase:\n",
    "        characters += string.ascii_uppercase\n",
    "    if use_digits:\n",
    "        characters += string.digits\n",
    "    if use_special:\n",
    "        characters += string.punctuation\n",
    "\n",
    "    if not characters:\n",
    "        return \"Error\"\n",
    "\n",
    "    password = ''.join(random.choice(characters) for i in range(length))\n",
    "    return password\n",
    "\n",
    "\n",
    "length = int(input(\"Enter desired password length: \"))\n",
    "use_uppercase = input(\"Include uppercase letters? (yes/no): \")\n",
    "use_digits = input(\"Include digits? (yes/no): \")\n",
    "use_special = input(\"Include special characters? (yes/no): \")\n",
    "\n",
    "password = generate_password(length, use_uppercase, use_digits, use_special)\n",
    "print(\"Generated password:\", password)"
   ]
  },
  {
   "cell_type": "code",
   "execution_count": 16,
   "id": "4ae734bd-a7d7-4862-80cc-2983a742e8c2",
   "metadata": {},
   "outputs": [
    {
     "name": "stdout",
     "output_type": "stream",
     "text": [
      "choose one colour:.\n"
     ]
    },
    {
     "name": "stdin",
     "output_type": "stream",
     "text": [
      "(red/blue/green):  red\n",
      "rest/go:  go\n"
     ]
    },
    {
     "name": "stdout",
     "output_type": "stream",
     "text": [
      "You win!\n"
     ]
    }
   ],
   "source": [
    "#24\n",
    "print(\"choose one colour:.\")\n",
    "choice1 = input(\"(red/blue/green): \").lower()\n",
    "\n",
    "if choice1 == \"red\":\n",
    "    choice2 = input(\"rest/go: \").lower()\n",
    "    if choice2 == \"rest\":\n",
    "        print(\"You win!\")\n",
    "    elif choice2 == \"go\":\n",
    "        print(\"You win!\")\n",
    "    else:\n",
    "        print(\"Game over!\")\n",
    "\n",
    "elif choice1 == \"blue\":\n",
    "    choice2 = input(\"right/left: \").lower()\n",
    "    if choice2 == \"right\":\n",
    "        print(\"You win!\")\n",
    "    elif choice2 == \"left\":\n",
    "        print(\"Game over!\")\n",
    "    else:\n",
    "        print(\"Game over!\")\n",
    "\n",
    "elif choice1 == \"green\":\n",
    "    choice2 = input(\"up/down: \").lower()\n",
    "    if choice2 == \"up\":\n",
    "        print(\"You win!\")\n",
    "    elif choice2 == \"down\":\n",
    "        print(\"Game over!\")\n",
    "    else:\n",
    "        print(\"Game over!\")\n",
    "\n",
    "else:\n",
    "    print(\"Game over!\")"
   ]
  },
  {
   "cell_type": "code",
   "execution_count": 17,
   "id": "25f9a88b-ee9c-49ea-957a-7559bca5bd65",
   "metadata": {},
   "outputs": [
    {
     "name": "stdin",
     "output_type": "stream",
     "text": [
      "Enter the coefficient a:  7\n",
      "Enter the constant b:  9\n"
     ]
    },
    {
     "name": "stdout",
     "output_type": "stream",
     "text": [
      "The solution is x = -1.2857142857142858\n"
     ]
    }
   ],
   "source": [
    "#25\n",
    "a = float(input(\"Enter the coefficient a: \"))\n",
    "b = float(input(\"Enter the constant b: \"))\n",
    "\n",
    "if a != 0:\n",
    "    x = -b / a\n",
    "    print(\"The solution is x =\", x)\n",
    "else:\n",
    "    if b == 0:\n",
    "        print(\"Infinite solutions\")\n",
    "    else:\n",
    "        print(\"No solution\")"
   ]
  },
  {
   "cell_type": "code",
   "execution_count": 20,
   "id": "62a8acc5-ebcb-42ef-8765-b18d3fc138b1",
   "metadata": {},
   "outputs": [
    {
     "name": "stdin",
     "output_type": "stream",
     "text": [
      "Who is the captain of MI?  Hardik Pandya\n",
      "Who is the captain of RCB?  Rajat Patidar\n",
      "Who is the captain of PBKS?  Shreyas Iyer\n"
     ]
    },
    {
     "name": "stdout",
     "output_type": "stream",
     "text": [
      "final score: 1.0\n"
     ]
    }
   ],
   "source": [
    "#26\n",
    "def quiz():\n",
    "    score = 0\n",
    "    questions = [\n",
    "        (\"Who is the captain of MI?\", \"Hardik Pandya\"),\n",
    "        (\"Who is the captain of RCB?\", \"Rajat Patidar\"),\n",
    "        (\"Who is the captain of PBKS?\", \"Shreyas Iyer\")\n",
    "    ]\n",
    "    \n",
    "    for question, correct_answer in questions:\n",
    "        answer = input(question + \" \")\n",
    "        if answer.lower() == correct_answer.lower():\n",
    "            score += 1\n",
    "    \n",
    "    print(\"final score:\", score/len(questions))\n",
    "\n",
    "quiz()"
   ]
  },
  {
   "cell_type": "code",
   "execution_count": 21,
   "id": "3ea53e70-1d47-41c9-af77-f62230ed67c3",
   "metadata": {},
   "outputs": [
    {
     "name": "stdin",
     "output_type": "stream",
     "text": [
      "Enter a year:  2004\n"
     ]
    },
    {
     "name": "stdout",
     "output_type": "stream",
     "text": [
      "2004 not a prime number.\n"
     ]
    }
   ],
   "source": [
    "#27\n",
    "def is_prime(year):\n",
    "    if year <= 1:\n",
    "        return False\n",
    "    if year == 2:\n",
    "        return True\n",
    "    if year % 2 == 0:\n",
    "        return False\n",
    "    for i in range(3, int(year ** 0.5) + 1, 2):\n",
    "        if year % i == 0:\n",
    "            return False\n",
    "    return True\n",
    "\n",
    "year = input(\"Enter a year: \")\n",
    "\n",
    "if year.isdigit():\n",
    "    year = int(year)\n",
    "    if is_prime(year):\n",
    "        print(year, \"prime number.\")\n",
    "    else:\n",
    "        print(year, \"not a prime number.\")\n",
    "else:\n",
    "    print(\"Invalid input\")"
   ]
  },
  {
   "cell_type": "code",
   "execution_count": 22,
   "id": "f01b561e-b257-4151-8c2b-ab50ff09d0fc",
   "metadata": {},
   "outputs": [
    {
     "name": "stdin",
     "output_type": "stream",
     "text": [
      "Enter the first number:  2\n",
      "Enter the second number:  3\n",
      "Enter the third number:  4\n"
     ]
    },
    {
     "name": "stdout",
     "output_type": "stream",
     "text": [
      "2.0 3.0 4.0\n"
     ]
    }
   ],
   "source": [
    "#28\n",
    "num1 = float(input(\"Enter the first number: \"))\n",
    "num2 = float(input(\"Enter the second number: \"))\n",
    "num3 = float(input(\"Enter the third number: \"))\n",
    "\n",
    "if num1 <= num2 and num1 <= num3:\n",
    "    smallest = num1\n",
    "    if num2 <= num3:\n",
    "        middle = num2\n",
    "        largest = num3\n",
    "    else:\n",
    "        middle = num3\n",
    "        largest = num2\n",
    "elif num2 <= num1 and num2 <= num3:\n",
    "    smallest = num2\n",
    "    if num1 <= num3:\n",
    "        middle = num1\n",
    "        largest = num3\n",
    "    else:\n",
    "        middle = num3\n",
    "        largest = num1\n",
    "else:\n",
    "    smallest = num3\n",
    "    if num1 <= num2:\n",
    "        middle = num1\n",
    "        largest = num2\n",
    "    else:\n",
    "        middle = num2\n",
    "        largest = num1\n",
    "\n",
    "print(smallest, middle, largest)"
   ]
  },
  {
   "cell_type": "code",
   "execution_count": 24,
   "id": "76413464-d10d-444d-b35e-59c438e56563",
   "metadata": {},
   "outputs": [
    {
     "name": "stdin",
     "output_type": "stream",
     "text": [
      "Enter coefficient a:  6\n",
      "Enter coefficient b:  9\n",
      "Enter coefficient c:  6\n"
     ]
    },
    {
     "name": "stdout",
     "output_type": "stream",
     "text": [
      "The solutions are: (-0.75-0.6614378277661477j) and (-0.75+0.6614378277661477j)\n"
     ]
    }
   ],
   "source": [
    "#29\n",
    "import cmath\n",
    "\n",
    "a = float(input(\"Enter coefficient a: \"))\n",
    "b = float(input(\"Enter coefficient b: \"))\n",
    "c = float(input(\"Enter coefficient c: \"))\n",
    "\n",
    "d = (b**2) - (4*a*c)\n",
    "\n",
    "sol1 = (-b - cmath.sqrt(d)) / (2*a)\n",
    "sol2 = (-b + cmath.sqrt(d)) / (2*a)\n",
    "\n",
    "print(\"The solutions are:\", sol1, \"and\", sol2)"
   ]
  },
  {
   "cell_type": "code",
   "execution_count": 25,
   "id": "78cc456f-e613-4a79-9ac0-f60e68a2c73c",
   "metadata": {},
   "outputs": [
    {
     "name": "stdin",
     "output_type": "stream",
     "text": [
      "Weight in kg:  67\n",
      "Height in meters:  164\n"
     ]
    },
    {
     "name": "stdout",
     "output_type": "stream",
     "text": [
      "Your BMI is: 0.002491076740035693\n",
      "You are underweight\n"
     ]
    }
   ],
   "source": [
    "#30\n",
    "weight = float(input(\"Weight in kg: \"))\n",
    "height = float(input(\"Height in meters: \"))\n",
    "\n",
    "bmi = weight / (height ** 2)\n",
    "\n",
    "print(\"Your BMI is:\", bmi)\n",
    "\n",
    "if bmi < 18.5:\n",
    "    print(\"You are underweight\")\n",
    "elif 18.5 <= bmi < 25:\n",
    "    print(\"You have a normal weight\")\n",
    "elif 25 <= bmi < 30:\n",
    "    print(\"You are overweight\")\n",
    "else:\n",
    "    print(\"You are obese\")"
   ]
  },
  {
   "cell_type": "code",
   "execution_count": null,
   "id": "1cf37c5a-3f0a-488e-aa88-76d2df3ba13e",
   "metadata": {},
   "outputs": [],
   "source": []
  }
 ],
 "metadata": {
  "kernelspec": {
   "display_name": "Python 3 (ipykernel)",
   "language": "python",
   "name": "python3"
  },
  "language_info": {
   "codemirror_mode": {
    "name": "ipython",
    "version": 3
   },
   "file_extension": ".py",
   "mimetype": "text/x-python",
   "name": "python",
   "nbconvert_exporter": "python",
   "pygments_lexer": "ipython3",
   "version": "3.13.3"
  }
 },
 "nbformat": 4,
 "nbformat_minor": 5
}
