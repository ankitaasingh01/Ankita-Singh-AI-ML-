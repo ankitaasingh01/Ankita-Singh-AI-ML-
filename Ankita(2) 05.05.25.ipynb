{
 "cells": [
  {
   "cell_type": "code",
   "execution_count": 1,
   "id": "416ec5a8-7043-4106-9b1b-1be637fb1b92",
   "metadata": {},
   "outputs": [
    {
     "name": "stdout",
     "output_type": "stream",
     "text": [
      "(1, 2, 3, 4, 5)\n"
     ]
    }
   ],
   "source": [
    "#1TUPLE\n",
    "tuple = tuple(range(1, 6))\n",
    "print(tuple)"
   ]
  },
  {
   "cell_type": "code",
   "execution_count": 2,
   "id": "c25e04ec-076b-4271-929a-d98f93182e7e",
   "metadata": {},
   "outputs": [
    {
     "name": "stdout",
     "output_type": "stream",
     "text": [
      "4\n"
     ]
    }
   ],
   "source": [
    "#2\n",
    "a=(1,2,3,4,5,6)\n",
    "print(a[3])"
   ]
  },
  {
   "cell_type": "code",
   "execution_count": 3,
   "id": "c4c9507a-3fc1-4e2f-a928-31204d2e4541",
   "metadata": {},
   "outputs": [
    {
     "name": "stdout",
     "output_type": "stream",
     "text": [
      "5\n"
     ]
    }
   ],
   "source": [
    "#3\n",
    "t = (5, 10, 15, 20, 25)\n",
    "count = 0\n",
    "\n",
    "for i in t:\n",
    "    count += 1\n",
    "\n",
    "print(count)"
   ]
  },
  {
   "cell_type": "code",
   "execution_count": 4,
   "id": "26a7ff82-e572-492a-b912-10ce1b0a9d65",
   "metadata": {},
   "outputs": [
    {
     "name": "stdin",
     "output_type": "stream",
     "text": [
      "Enter the element for which you want to check occurance 2\n"
     ]
    },
    {
     "name": "stdout",
     "output_type": "stream",
     "text": [
      "1\n"
     ]
    }
   ],
   "source": [
    "#4\n",
    "t = (1, 2, 3, 1, 4, 1, 5)\n",
    "n= int(input(\"Enter the element for which you want to check occurance\"))\n",
    "count = 0\n",
    "\n",
    "for item in t:\n",
    "    if item == n:\n",
    "        count += 1\n",
    "\n",
    "print(count)"
   ]
  },
  {
   "cell_type": "code",
   "execution_count": 5,
   "id": "bddee387-cef7-4c6e-90a0-d7af191be102",
   "metadata": {},
   "outputs": [
    {
     "name": "stdout",
     "output_type": "stream",
     "text": [
      "2\n"
     ]
    }
   ],
   "source": [
    "#5\n",
    "t= (10, 20, 30, 40, 50)\n",
    "element = 30\n",
    "index = t.index(element)\n",
    "print(index)"
   ]
  },
  {
   "cell_type": "code",
   "execution_count": 6,
   "id": "73f49fb0-083f-4122-8551-1c9bac61fd5f",
   "metadata": {},
   "outputs": [
    {
     "name": "stdout",
     "output_type": "stream",
     "text": [
      "60 not exist in the tuple\n"
     ]
    }
   ],
   "source": [
    "#6\n",
    "my_tuple = (10, 20, 30, 40, 50)\n",
    "element = 60\n",
    "if element in my_tuple:\n",
    "    print(element,\" exists in the tuple\")\n",
    "else:\n",
    "    print(element, \"not exist in the tuple\")"
   ]
  },
  {
   "cell_type": "code",
   "execution_count": 7,
   "id": "db885357-fba7-407f-a921-2e1a21af9fb3",
   "metadata": {},
   "outputs": [
    {
     "name": "stdout",
     "output_type": "stream",
     "text": [
      "[10, 20, 30, 40, 50]\n"
     ]
    }
   ],
   "source": [
    "#7\n",
    "tuple = (10, 20, 30, 40, 50)\n",
    "list = list(tuple)\n",
    "print(list)\n"
   ]
  },
  {
   "cell_type": "code",
   "execution_count": 5,
   "id": "5fe6b928-1e95-4726-b11d-969a513292b2",
   "metadata": {},
   "outputs": [
    {
     "name": "stdout",
     "output_type": "stream",
     "text": [
      "(10, 20, 30, 40, 50)\n"
     ]
    }
   ],
   "source": [
    "#8\n",
    "list = [10, 20, 30, 40, 50]\n",
    "tuple = tuple(list)\n",
    "print(tuple)"
   ]
  },
  {
   "cell_type": "code",
   "execution_count": 8,
   "id": "6ee53e32-d2a2-44ef-a424-431d0e6e4f8c",
   "metadata": {},
   "outputs": [
    {
     "name": "stdout",
     "output_type": "stream",
     "text": [
      "a: 1\n",
      "b: 2\n",
      "c: 3\n"
     ]
    }
   ],
   "source": [
    "#9\n",
    "my = (1, 2, 3)\n",
    "a, b, c = my\n",
    "print(\"a:\", a)\n",
    "print(\"b:\", b)\n",
    "print(\"c:\", c)"
   ]
  },
  {
   "cell_type": "code",
   "execution_count": 4,
   "id": "85c8d888-3d8c-48a8-9801-c0dc8e0a48da",
   "metadata": {},
   "outputs": [
    {
     "name": "stdout",
     "output_type": "stream",
     "text": [
      "(2, 4, 6, 8, 10)\n"
     ]
    }
   ],
   "source": [
    "#10 \n",
    "t = tuple(range(2, 11, 2))\n",
    "print(t)"
   ]
  },
  {
   "cell_type": "code",
   "execution_count": 3,
   "id": "3ca90450-d5a6-4274-a1b3-2cd07db2e1e5",
   "metadata": {},
   "outputs": [
    {
     "name": "stdout",
     "output_type": "stream",
     "text": [
      "(1, 3, 5, 7, 9)\n"
     ]
    }
   ],
   "source": [
    "#11\n",
    "t = tuple(range(1, 11, 2))\n",
    "print(t)"
   ]
  },
  {
   "cell_type": "code",
   "execution_count": 9,
   "id": "b4211871-14b1-4c21-b00a-e45ce06ab569",
   "metadata": {},
   "outputs": [
    {
     "name": "stdout",
     "output_type": "stream",
     "text": [
      "(1, 2, 3, 4, 5, 6)\n"
     ]
    }
   ],
   "source": [
    "#12\n",
    "t1 = (1, 2, 3)\n",
    "t2 = (4, 5, 6)\n",
    "combined = t1 + t2\n",
    "print(combined)"
   ]
  },
  {
   "cell_type": "code",
   "execution_count": 12,
   "id": "3a847b84-a0cc-4973-b2ad-c83ae23d3418",
   "metadata": {},
   "outputs": [
    {
     "name": "stdout",
     "output_type": "stream",
     "text": [
      "(12, 13, 14, 15, 12, 13, 14, 15, 12, 13, 14, 15)\n"
     ]
    }
   ],
   "source": [
    "#13\n",
    "t=(12,13,14,15)\n",
    "print(t*3)"
   ]
  },
  {
   "cell_type": "code",
   "execution_count": 13,
   "id": "e7b760bf-0640-4f9f-95f6-955157837b6b",
   "metadata": {},
   "outputs": [
    {
     "name": "stdout",
     "output_type": "stream",
     "text": [
      "Empty tuple\n"
     ]
    }
   ],
   "source": [
    "#14\n",
    "t=()\n",
    "if len(t) == 0:\n",
    "    print(\"Empty tuple\")"
   ]
  },
  {
   "cell_type": "code",
   "execution_count": 14,
   "id": "a4d59633-dc94-42d7-bd12-3092be669c90",
   "metadata": {},
   "outputs": [
    {
     "name": "stdout",
     "output_type": "stream",
     "text": [
      "(1, 2, (3, 4), (5, 6))\n"
     ]
    }
   ],
   "source": [
    "#15\n",
    "t=(1,2,(3,4),(5,6))\n",
    "print(t)"
   ]
  },
  {
   "cell_type": "code",
   "execution_count": 19,
   "id": "0c0b2155-20da-4f45-b16e-018145a183fb",
   "metadata": {},
   "outputs": [
    {
     "name": "stdout",
     "output_type": "stream",
     "text": [
      "(1,)\n"
     ]
    }
   ],
   "source": [
    "#16\n",
    "t=(1,2,(3,4),(5,6))\n",
    "print(t[0:1])\n"
   ]
  },
  {
   "cell_type": "code",
   "execution_count": 20,
   "id": "0dd5b930-ccf7-456e-b593-feecaeea69e1",
   "metadata": {},
   "outputs": [
    {
     "name": "stdout",
     "output_type": "stream",
     "text": [
      "3\n"
     ]
    }
   ],
   "source": [
    "#17 single element\n",
    "t=(3)\n",
    "print(t)\n"
   ]
  },
  {
   "cell_type": "code",
   "execution_count": 23,
   "id": "84fae4f8-b791-4a17-aa03-c6c0795dde35",
   "metadata": {},
   "outputs": [
    {
     "name": "stdout",
     "output_type": "stream",
     "text": [
      "True\n",
      "False\n"
     ]
    }
   ],
   "source": [
    "#18 Compare\n",
    "t1=[1,3,5]\n",
    "t2=[2,6,10]\n",
    "print(t1<t2)\n",
    "print(t1==t2)"
   ]
  },
  {
   "cell_type": "code",
   "execution_count": 6,
   "id": "eb021ba2-0370-40f9-be2d-c7f64412cecf",
   "metadata": {},
   "outputs": [],
   "source": [
    "#19\n",
    "my_tuple = (1, 2, 3)\n",
    "del my_tuple"
   ]
  },
  {
   "cell_type": "code",
   "execution_count": 32,
   "id": "6744ffc4-1621-458b-b12d-ae0c7251cc0b",
   "metadata": {},
   "outputs": [
    {
     "name": "stdout",
     "output_type": "stream",
     "text": [
      "(14, 15)\n",
      "(13, 14, 15, 16, 17)\n"
     ]
    }
   ],
   "source": [
    "#20\n",
    "a= (12,13,14,15,16,17)\n",
    "print(a[2:4])\n",
    "print(a[1:])"
   ]
  },
  {
   "cell_type": "code",
   "execution_count": 33,
   "id": "94bb03f8-1179-408e-9d04-c8eb458dcddf",
   "metadata": {},
   "outputs": [
    {
     "name": "stdout",
     "output_type": "stream",
     "text": [
      "99\n"
     ]
    }
   ],
   "source": [
    "#21\n",
    "a=(1,34,65,87,2,45,99,12)\n",
    "print(max(a))"
   ]
  },
  {
   "cell_type": "code",
   "execution_count": 34,
   "id": "4b637753-1694-4060-acc0-59b36f13a2f3",
   "metadata": {},
   "outputs": [
    {
     "name": "stdout",
     "output_type": "stream",
     "text": [
      "1\n"
     ]
    }
   ],
   "source": [
    "#22\n",
    "a=(1,34,65,87,2,45,99,12)\n",
    "print(min(a))"
   ]
  },
  {
   "cell_type": "code",
   "execution_count": 1,
   "id": "1e0cbe0b-7943-481f-887f-7d6c5a234cf2",
   "metadata": {},
   "outputs": [
    {
     "name": "stdout",
     "output_type": "stream",
     "text": [
      "('H', 'e', 'l', 'l', 'o')\n"
     ]
    }
   ],
   "source": [
    "#23\n",
    "string = \"Hello\"\n",
    "tuple = tuple(string)\n",
    "print(tuple)"
   ]
  },
  {
   "cell_type": "code",
   "execution_count": 11,
   "id": "b617d505-a46b-41a0-8038-4770520b11c7",
   "metadata": {},
   "outputs": [
    {
     "name": "stdout",
     "output_type": "stream",
     "text": [
      "Hello\n"
     ]
    }
   ],
   "source": [
    "#24\n",
    "tuple = ('H', 'e', 'l', 'l', 'o')\n",
    "string = ''.join(tuple)\n",
    "print(string)"
   ]
  },
  {
   "cell_type": "code",
   "execution_count": 12,
   "id": "439b4dc1-9569-4389-99fd-402479b15429",
   "metadata": {},
   "outputs": [
    {
     "name": "stdout",
     "output_type": "stream",
     "text": [
      "(10, 3.14, [1, 2, 3], (1, 2), 'good')\n"
     ]
    }
   ],
   "source": [
    "#25\n",
    "m= (10, 3.14, [1, 2, 3], (1, 2),\"good\")\n",
    "print(m)"
   ]
  },
  {
   "cell_type": "code",
   "execution_count": 16,
   "id": "9f982e7f-bb88-423d-a648-8a65f64378c2",
   "metadata": {},
   "outputs": [
    {
     "name": "stdout",
     "output_type": "stream",
     "text": [
      "No\n"
     ]
    }
   ],
   "source": [
    "#26\n",
    "t1 = (1, 3, 4, 5, 6)\n",
    "t2 = (3, 4, 5, 6, 7)\n",
    "\n",
    "if t1 == t2:\n",
    "    print(\"identical\")\n",
    "else:\n",
    "    print(\"No\")"
   ]
  },
  {
   "cell_type": "code",
   "execution_count": null,
   "id": "199ae8af-7def-4ce9-aae6-2474cd705821",
   "metadata": {},
   "outputs": [],
   "source": [
    "#27\n",
    "t = (5, 2, 9, 1, 3)\n",
    "sorted_tuple = tuple(sorted(t))\n",
    "print(sorted_tuple)"
   ]
  },
  {
   "cell_type": "code",
   "execution_count": null,
   "id": "fc82a11d-7885-4118-a104-2183376c864a",
   "metadata": {},
   "outputs": [],
   "source": [
    "#28\n",
    "t = (1, 2, 3, 4, 5)\n",
    "str_ = tuple(map(str, t))\n",
    "print(str_)"
   ]
  },
  {
   "cell_type": "code",
   "execution_count": null,
   "id": "892b5f39-5ab1-468c-bc04-54daa99ec108",
   "metadata": {},
   "outputs": [],
   "source": [
    "#29\n",
    "t = ('1', '2', '3', '4', '5')\n",
    "int = tuple(map(int, t))\n",
    "print(int)"
   ]
  },
  {
   "cell_type": "code",
   "execution_count": 5,
   "id": "a63e74e5-2345-40f0-9ff5-7e6599e5d41c",
   "metadata": {},
   "outputs": [
    {
     "name": "stdout",
     "output_type": "stream",
     "text": [
      "(1, 2, 3, 4, 5, 6)\n"
     ]
    }
   ],
   "source": [
    "#30\n",
    "t1 = (1, 2, 3)\n",
    "t2 = (4, 5, 6)\n",
    "\n",
    "merged = t1 + t2\n",
    "print(merged)"
   ]
  },
  {
   "cell_type": "code",
   "execution_count": 35,
   "id": "d9e7f98a-c4a8-425c-bf6a-b8c572d9f968",
   "metadata": {},
   "outputs": [
    {
     "name": "stdout",
     "output_type": "stream",
     "text": [
      "(1, 2, 3, 4, 5, 6)\n"
     ]
    }
   ],
   "source": [
    "#31\n",
    "nested = (1, (2, 3), 4, (5, 6))\n",
    "\n",
    "flat = []\n",
    "for item in nested:\n",
    "    if isinstance(item, tuple):  \n",
    "        flat.extend(item)\n",
    "    else:\n",
    "        flat.append(item)  \n",
    "\n",
    "flat_tuple = tuple(flat)\n",
    "print(flat_tuple)"
   ]
  },
  {
   "cell_type": "code",
   "execution_count": 25,
   "id": "2f3a33dd-aa4b-4ff9-baaa-6b86f99cebb0",
   "metadata": {},
   "outputs": [
    {
     "name": "stdout",
     "output_type": "stream",
     "text": [
      "The tuple is a palindrome\n"
     ]
    }
   ],
   "source": [
    "#32\n",
    "t = (1, 2, 3, 2, 1)\n",
    "\n",
    "if t == t[::-1]:\n",
    "    print(\"The tuple is a palindrome\")\n",
    "else:\n",
    "    print(\"The tuple is not a palindrome\")"
   ]
  },
  {
   "cell_type": "code",
   "execution_count": 1,
   "id": "f1756f5f-2e64-4afc-9148-ee4956c259da",
   "metadata": {},
   "outputs": [
    {
     "name": "stdout",
     "output_type": "stream",
     "text": [
      "(1, 4, 9, 16, 25)\n"
     ]
    }
   ],
   "source": [
    "#33\n",
    "list = []\n",
    "for i in range(1, 6):\n",
    "    list.append(i ** 2)\n",
    "tuple = tuple(list)\n",
    "print(tuple)"
   ]
  },
  {
   "cell_type": "code",
   "execution_count": 9,
   "id": "4afa4fe2-be12-49a7-b494-283d9ff963c9",
   "metadata": {},
   "outputs": [
    {
     "name": "stdout",
     "output_type": "stream",
     "text": [
      "(1, 4, 9, 16, 25)\n"
     ]
    }
   ],
   "source": [
    "#34\n",
    "sqlist = []\n",
    "\n",
    "for x in range(1, 6):\n",
    "    sqlist.append(x**2)\n",
    "\n",
    "sqtuple = tuple(sqlist)\n",
    "\n",
    "print(sqtuple)\n"
   ]
  },
  {
   "cell_type": "code",
   "execution_count": 10,
   "id": "cc7be42d-4d7c-4951-a3d6-bbad0734ce4e",
   "metadata": {},
   "outputs": [
    {
     "name": "stdout",
     "output_type": "stream",
     "text": [
      "(1, 3, 5, 7, 9)\n"
     ]
    }
   ],
   "source": [
    "#35\n",
    "m = (1, 2, 3, 4, 5, 6, 7, 8, 9)\n",
    "\n",
    "odd_list = []\n",
    "\n",
    "for x in m:\n",
    "    if x % 2 != 0:\n",
    "        odd_list.append(x)\n",
    "        \n",
    "odd_tuple = tuple(odd_list)\n",
    "\n",
    "print(odd_tuple)"
   ]
  },
  {
   "cell_type": "code",
   "execution_count": 11,
   "id": "7d2040ae-6efe-45a2-bbfd-104d04e9a060",
   "metadata": {},
   "outputs": [
    {
     "name": "stdout",
     "output_type": "stream",
     "text": [
      "(2, 4, 6, 8, 10)\n"
     ]
    }
   ],
   "source": [
    "#36\n",
    "my_tuple = (1, 2, 3, 4, 5)\n",
    "multiplied_list = []\n",
    "\n",
    "for x in my_tuple:\n",
    "    multiplied_list.append(x * 2)\n",
    "\n",
    "multiplied_tuple = tuple(multiplied_list)\n",
    "\n",
    "print(multiplied_tuple)"
   ]
  },
  {
   "cell_type": "code",
   "execution_count": 12,
   "id": "120befde-0a89-4625-8791-0d69df1206d0",
   "metadata": {},
   "outputs": [
    {
     "name": "stdout",
     "output_type": "stream",
     "text": [
      "(55, 25, 78, 43, 85)\n"
     ]
    }
   ],
   "source": [
    "#37\n",
    "import random\n",
    "\n",
    "random_tuple = tuple(random.sample(range(1, 101), 5))\n",
    "\n",
    "print(random_tuple)"
   ]
  },
  {
   "cell_type": "code",
   "execution_count": 14,
   "id": "0ef1048f-bf03-46ee-8459-04fd0f26d1ca",
   "metadata": {},
   "outputs": [
    {
     "name": "stdout",
     "output_type": "stream",
     "text": [
      "True\n"
     ]
    }
   ],
   "source": [
    "#38\n",
    "def sorted(tup):\n",
    "    for i in range(len(tup) - 1):\n",
    "        if tup[i] > tup[i + 1]:\n",
    "            return False\n",
    "    return True\n",
    "\n",
    "t1 = (1, 2, 3, 4, 5)\n",
    "print(sorted(t1))   "
   ]
  },
  {
   "cell_type": "code",
   "execution_count": 16,
   "id": "7d0a0048-9c8e-4288-bc20-b0fb402f46cc",
   "metadata": {},
   "outputs": [
    {
     "name": "stdin",
     "output_type": "stream",
     "text": [
      "Enter number of positions to rotate:  2\n"
     ]
    },
    {
     "name": "stdout",
     "output_type": "stream",
     "text": [
      "Rotated list: (3, 4, 5, 1, 2)\n"
     ]
    }
   ],
   "source": [
    "#39\n",
    "lst = (1, 2, 3, 4, 5)\n",
    "n = int(input(\"Enter number of positions to rotate: \"))\n",
    "rotated = lst[n:] + lst[:n]\n",
    "print(\"Rotated list:\", rotated)"
   ]
  },
  {
   "cell_type": "code",
   "execution_count": 17,
   "id": "1b9dcd1b-9e64-4582-85a2-8dafa49658b7",
   "metadata": {},
   "outputs": [
    {
     "name": "stdin",
     "output_type": "stream",
     "text": [
      "Enter number of positions to rotate:  3\n"
     ]
    },
    {
     "name": "stdout",
     "output_type": "stream",
     "text": [
      "Rotated list: (3, 4, 5, 1, 2)\n"
     ]
    }
   ],
   "source": [
    "#40\n",
    "lst = (1, 2, 3, 4, 5)\n",
    "n = int(input(\"Enter number of positions to rotate: \"))\n",
    "rotated = lst[-n:] + lst[:-n]\n",
    "print(\"Rotated list:\", rotated)"
   ]
  },
  {
   "cell_type": "code",
   "execution_count": 24,
   "id": "a6b4d571-15b5-4edd-8fac-6591278f0034",
   "metadata": {},
   "outputs": [
    {
     "name": "stdout",
     "output_type": "stream",
     "text": [
      "(0, 1, 1, 1, 2, 3, 5, 8, 13)\n"
     ]
    }
   ],
   "source": [
    "#41 \n",
    "n = 9\n",
    "fibo = [0, 1]\n",
    "\n",
    "a, b = 0, 1\n",
    "for i in range(n - 2): \n",
    "    a, b = b, a + b\n",
    "    fibo.append(a)\n",
    "\n",
    "fibo_tuple = tuple(fibo)  \n",
    "\n",
    "print(fibo_tuple)"
   ]
  },
  {
   "cell_type": "code",
   "execution_count": 26,
   "id": "cb2c71e3-6367-4555-baba-ef2e1999644d",
   "metadata": {},
   "outputs": [
    {
     "name": "stdin",
     "output_type": "stream",
     "text": [
      "Enter elements separated by spaces:  3 5 6 7 8 \n"
     ]
    },
    {
     "name": "stdout",
     "output_type": "stream",
     "text": [
      "('3', '5', '6', '7', '8')\n"
     ]
    }
   ],
   "source": [
    "#42\n",
    "u = input(\"Enter elements separated by spaces: \")\n",
    "\n",
    "inp = u.split()\n",
    "in_tuple = tuple(inp)\n",
    "\n",
    "print(in_tuple)"
   ]
  },
  {
   "cell_type": "code",
   "execution_count": 27,
   "id": "fe52b88b-eab6-4f63-99ff-207024ad2791",
   "metadata": {},
   "outputs": [
    {
     "name": "stdout",
     "output_type": "stream",
     "text": [
      "[(4, 3), (5, 6), (8, 7)]\n"
     ]
    }
   ],
   "source": [
    "#43\n",
    "a = [(3, 4), (6, 5), (7, 8)]\n",
    "res = []\n",
    "\n",
    "for x, y in a:\n",
    "    res.append((y, x)) \n",
    "print(res)"
   ]
  },
  {
   "cell_type": "code",
   "execution_count": 28,
   "id": "8b8c9410-6ecb-4ff5-ae36-2c31a05395f7",
   "metadata": {},
   "outputs": [
    {
     "name": "stdout",
     "output_type": "stream",
     "text": [
      "(34, 98, 87, 76, 56, 43)\n"
     ]
    }
   ],
   "source": [
    "#44\n",
    "t1= (43,56,76,87,98,34)\n",
    "t2= t1[::-1]\n",
    "print(t2)"
   ]
  },
  {
   "cell_type": "code",
   "execution_count": 32,
   "id": "210af67a-39c2-4ce1-98b6-75df5f88c2f0",
   "metadata": {},
   "outputs": [
    {
     "name": "stdin",
     "output_type": "stream",
     "text": [
      "Enter the value of n:  5\n"
     ]
    },
    {
     "name": "stdout",
     "output_type": "stream",
     "text": [
      "(1, 2, 4, 8, 16)\n"
     ]
    }
   ],
   "source": [
    "#45\n",
    "n = int(input(\"Enter the value of n: \"))\n",
    "result = []\n",
    "\n",
    "for i in range(n):\n",
    "    result.append(2 ** i)\n",
    "\n",
    "pow2 = tuple(result)\n",
    "print(pow2)"
   ]
  },
  {
   "cell_type": "code",
   "execution_count": 31,
   "id": "5acb2594-f002-4c27-9400-255db6e5290e",
   "metadata": {},
   "outputs": [
    {
     "name": "stdout",
     "output_type": "stream",
     "text": [
      "delhi\n"
     ]
    }
   ],
   "source": [
    "#46\n",
    "a = (\"Bengalore\", \"delhi\", \"chennai\", \"shimla\", \"kullu\")\n",
    "\n",
    "longest = max(a, key=len)\n",
    "\n",
    "print(longest)"
   ]
  },
  {
   "cell_type": "code",
   "execution_count": null,
   "id": "4d1b5c79-5147-4ebd-be2a-99224fe5742a",
   "metadata": {},
   "outputs": [],
   "source": [
    "#47\n",
    "a = (\"Bengalore\", \"delhi\", \"chennai\", \"shimla\", \"kullu\")\n",
    "\n",
    "smallest = min(a, key=len)\n",
    "\n",
    "print(smallest)"
   ]
  },
  {
   "cell_type": "code",
   "execution_count": 20,
   "id": "1fff6132-ee5c-4b4c-b6a0-6496b3f86ace",
   "metadata": {},
   "outputs": [
    {
     "name": "stdin",
     "output_type": "stream",
     "text": [
      "Enter the value of n:  6\n"
     ]
    },
    {
     "name": "stdout",
     "output_type": "stream",
     "text": [
      "(1, 3, 6, 10, 15, 21)\n"
     ]
    }
   ],
   "source": [
    "#48 formula is n(n+1)//2\n",
    "n = int(input(\"Enter the value of n: \"))\n",
    "num = []\n",
    "\n",
    "for i in range(1, n + 1):\n",
    "    num.append(i * (i + 1) // 2)\n",
    "\n",
    "num2= tuple(num)    \n",
    "\n",
    "print(num2)\n",
    "\n"
   ]
  },
  {
   "cell_type": "code",
   "execution_count": 33,
   "id": "2d6c08b8-7fc2-4b37-8b85-b8d8ef6acae7",
   "metadata": {},
   "outputs": [
    {
     "name": "stdout",
     "output_type": "stream",
     "text": [
      "True\n"
     ]
    }
   ],
   "source": [
    "#49\n",
    "def is_sub(big, small):\n",
    "    return str(small)[1:-1] in str(big)\n",
    "\n",
    "t1 = (1, 2, 3, 4, 5)\n",
    "t2 = (3, 4)\n",
    "\n",
    "print(is_sub(t1, t2))"
   ]
  },
  {
   "cell_type": "code",
   "execution_count": 34,
   "id": "1a3f3ec2-1e41-4970-85c9-d5639316bbd9",
   "metadata": {},
   "outputs": [
    {
     "name": "stdin",
     "output_type": "stream",
     "text": [
      "Enter the length of the tuple:  4\n"
     ]
    },
    {
     "name": "stdout",
     "output_type": "stream",
     "text": [
      "(1, 0, 1, 0)\n"
     ]
    }
   ],
   "source": [
    "#50\n",
    "n = int(input(\"Enter the length of the tuple: \"))\n",
    "\n",
    "i = 0\n",
    "result = []\n",
    "\n",
    "while i < n:\n",
    "    result.append(i % 2 ^ 1) \n",
    "    i += 1\n",
    "\n",
    "alt_tuple = tuple(result)\n",
    "print(alt_tuple)"
   ]
  },
  {
   "cell_type": "code",
   "execution_count": 2,
   "id": "ce11cc5d-cfe4-4b4d-848c-9a761459c816",
   "metadata": {},
   "outputs": [
    {
     "name": "stdout",
     "output_type": "stream",
     "text": [
      "{1, 2, 3, 4, 5}\n"
     ]
    }
   ],
   "source": [
    "#1 Set\n",
    "s= set(range(1,6))\n",
    "print(s)"
   ]
  },
  {
   "cell_type": "code",
   "execution_count": 5,
   "id": "e41395c6-540c-4f20-9c42-bc0b862a17fe",
   "metadata": {},
   "outputs": [
    {
     "name": "stdout",
     "output_type": "stream",
     "text": [
      "{1, 2, 3, 4}\n"
     ]
    }
   ],
   "source": [
    "#2\n",
    "s = {1, 2, 3}\n",
    "s.add(4)\n",
    "print(s)"
   ]
  },
  {
   "cell_type": "code",
   "execution_count": 6,
   "id": "6238c010-835b-4908-8700-0ddc5e9942d2",
   "metadata": {},
   "outputs": [
    {
     "name": "stdout",
     "output_type": "stream",
     "text": [
      "{2, 3, 4}\n"
     ]
    }
   ],
   "source": [
    "#3\n",
    "s = {1, 2, 3, 4}\n",
    "s.remove(1)\n",
    "print(s)"
   ]
  },
  {
   "cell_type": "code",
   "execution_count": 8,
   "id": "21a0c449-f54e-4e00-afe6-9445e886669e",
   "metadata": {},
   "outputs": [
    {
     "name": "stdin",
     "output_type": "stream",
     "text": [
      "Enter the item which you want to search 6\n"
     ]
    },
    {
     "name": "stdout",
     "output_type": "stream",
     "text": [
      "n is not in the set\n"
     ]
    }
   ],
   "source": [
    "#4\n",
    "my_set = {1, 2, 3, 4, 5}\n",
    "n= int(input(\"Enter the item which you want to search\"))\n",
    "if n in my_set:\n",
    "    print(\"n is in the set\")\n",
    "else:\n",
    "    print(\"n is not in the set\")\n"
   ]
  },
  {
   "cell_type": "code",
   "execution_count": 10,
   "id": "8feb9b02-10cf-4cb5-9f10-265baabc0586",
   "metadata": {},
   "outputs": [
    {
     "name": "stdout",
     "output_type": "stream",
     "text": [
      "Length= 5\n"
     ]
    }
   ],
   "source": [
    "#5\n",
    "m = {10, 20, 30, 40, 50}\n",
    "count = 0\n",
    "\n",
    "for i in m:\n",
    "    count += 1\n",
    "\n",
    "print(\"Length=\", count)"
   ]
  },
  {
   "cell_type": "code",
   "execution_count": 11,
   "id": "dff06fcb-ae7d-4caa-afa9-af916257f7f4",
   "metadata": {},
   "outputs": [
    {
     "name": "stdout",
     "output_type": "stream",
     "text": [
      "set()\n"
     ]
    }
   ],
   "source": [
    "#6\n",
    "s = {1, 2, 3, 4}\n",
    "s.clear()\n",
    "print(s)"
   ]
  },
  {
   "cell_type": "code",
   "execution_count": 12,
   "id": "1c2252fc-6bf7-4c67-84f8-a90eae8f690e",
   "metadata": {},
   "outputs": [
    {
     "name": "stdout",
     "output_type": "stream",
     "text": [
      "{2, 4, 6, 8, 10}\n"
     ]
    }
   ],
   "source": [
    "#7\n",
    "even = set(range(2, 11, 2))\n",
    "print(even)"
   ]
  },
  {
   "cell_type": "code",
   "execution_count": 14,
   "id": "85d0e723-2682-4325-a9f6-191ec00009d2",
   "metadata": {},
   "outputs": [
    {
     "name": "stdout",
     "output_type": "stream",
     "text": [
      "{1, 3, 5, 7, 9, 11, 13, 15, 17, 19}\n"
     ]
    }
   ],
   "source": [
    "#8\n",
    "odd = set(range(1, 20, 2))\n",
    "print(odd)"
   ]
  },
  {
   "cell_type": "code",
   "execution_count": 18,
   "id": "520dcf93-4f4d-4256-9ea8-9ac791ccdefd",
   "metadata": {},
   "outputs": [
    {
     "name": "stdout",
     "output_type": "stream",
     "text": [
      "{1, 2, 3, 4, 5, 7}\n"
     ]
    }
   ],
   "source": [
    "#9\n",
    "s1 = {1,2,3,4,}\n",
    "s2 = {3,4,5,7}\n",
    "\n",
    "union = s1.union(s2)\n",
    "print(union)"
   ]
  },
  {
   "cell_type": "code",
   "execution_count": 20,
   "id": "0c8bc564-80a4-4df9-b732-af6871046e0d",
   "metadata": {},
   "outputs": [
    {
     "name": "stdout",
     "output_type": "stream",
     "text": [
      "{3, 4}\n"
     ]
    }
   ],
   "source": [
    "#10\n",
    "s1 = {1,2,3,4,}\n",
    "s2 = {3,4,5,7}\n",
    "\n",
    "inter = s1.intersection(s2)\n",
    "print(inter)"
   ]
  },
  {
   "cell_type": "code",
   "execution_count": 21,
   "id": "3dc92bd1-65ab-457f-b4df-aa9eeba32a83",
   "metadata": {},
   "outputs": [
    {
     "name": "stdout",
     "output_type": "stream",
     "text": [
      "{1, 2}\n"
     ]
    }
   ],
   "source": [
    "#11\n",
    "s1 = {1,2,3,4,}\n",
    "s2 = {3,4,5,7}\n",
    "\n",
    "inter = s1-s2\n",
    "print(inter)"
   ]
  },
  {
   "cell_type": "code",
   "execution_count": 22,
   "id": "bd861e12-cc31-40b4-848a-df6b4e047d3d",
   "metadata": {},
   "outputs": [
    {
     "name": "stdout",
     "output_type": "stream",
     "text": [
      "False\n"
     ]
    }
   ],
   "source": [
    "#12\n",
    "s1 = {1,2,3,4,}\n",
    "s2 = {3,4,5,7}\n",
    "\n",
    "subset = s1.issubset(s2)\n",
    "print(subset)"
   ]
  },
  {
   "cell_type": "code",
   "execution_count": 24,
   "id": "d0f21a26-9e0c-449b-a209-eb53b6b1bb62",
   "metadata": {},
   "outputs": [
    {
     "name": "stdout",
     "output_type": "stream",
     "text": [
      "True\n"
     ]
    }
   ],
   "source": [
    "#13\n",
    "s1 = {1,2,3,4,5,7}\n",
    "s2 = {3,4,5,7}\n",
    "\n",
    "super = s1.issuperset(s2)\n",
    "print(super)"
   ]
  },
  {
   "cell_type": "code",
   "execution_count": 25,
   "id": "9f352a51-a77e-46da-99dc-4112a960dfa3",
   "metadata": {},
   "outputs": [
    {
     "name": "stdout",
     "output_type": "stream",
     "text": [
      "{65, 35, 14, 86, 24}\n"
     ]
    }
   ],
   "source": [
    "#14\n",
    "l1=[14,24,65,65,86,35]\n",
    "s1=set(l1)\n",
    "print(s1)"
   ]
  },
  {
   "cell_type": "code",
   "execution_count": 26,
   "id": "8abc7f8c-ce9a-4b85-ae05-9f3b1ea1de8d",
   "metadata": {},
   "outputs": [
    {
     "name": "stdout",
     "output_type": "stream",
     "text": [
      "[65, 87, 347, 12, 45, 14]\n"
     ]
    }
   ],
   "source": [
    "#15\n",
    "s1={12,14,45,65,347,87}\n",
    "l1= list(s1)\n",
    "print (l1)"
   ]
  },
  {
   "cell_type": "code",
   "execution_count": 28,
   "id": "0da2e0e7-43c5-422c-bee2-3fd2a6728873",
   "metadata": {},
   "outputs": [
    {
     "name": "stdout",
     "output_type": "stream",
     "text": [
      "65\n"
     ]
    }
   ],
   "source": [
    "#16 remove a random \n",
    "s1={12,14,45,65,347,87}\n",
    "s2= s1.pop()\n",
    "print(s2)"
   ]
  },
  {
   "cell_type": "code",
   "execution_count": null,
   "id": "ddda5c9f-3590-48f9-8df3-25a5d02a26dd",
   "metadata": {},
   "outputs": [],
   "source": [
    "#17 use pop\n",
    "s1={12,14,45,65,347,87}\n",
    "s2= s1.pop()\n",
    "print(s2)"
   ]
  },
  {
   "cell_type": "code",
   "execution_count": 29,
   "id": "a5e14802-d610-4476-b2c6-ff3214b167ab",
   "metadata": {},
   "outputs": [
    {
     "name": "stdout",
     "output_type": "stream",
     "text": [
      "The sets have no elements in common.\n"
     ]
    }
   ],
   "source": [
    "#18\n",
    "s1 = {21,45,23,76,34,35}\n",
    "s2 = {87,2,5,6,8,3,9}\n",
    "\n",
    "if s1.isdisjoint(s2):\n",
    "    print(\"no common.\")\n",
    "else:\n",
    "    print(\"some common\")"
   ]
  },
  {
   "cell_type": "code",
   "execution_count": 33,
   "id": "ebabd504-fd7b-47a5-aba9-b7c89b955f12",
   "metadata": {},
   "outputs": [
    {
     "name": "stdout",
     "output_type": "stream",
     "text": [
      "Symmetric Difference: {2, 3, 5, 6, 8, 9, 76, 21, 87, 23, 34, 35, 45}\n"
     ]
    }
   ],
   "source": [
    "#19\n",
    "s1 = {21,45,23,76,34,35}\n",
    "s2 = {87,2,5,6,8,3,9}\n",
    "diff = s1.symmetric_difference(s2)\n",
    "print(\"Symmetric Difference:\", diff)"
   ]
  },
  {
   "cell_type": "code",
   "execution_count": 32,
   "id": "388bce3b-40f9-4dde-9e36-134be2774e68",
   "metadata": {},
   "outputs": [
    {
     "name": "stdout",
     "output_type": "stream",
     "text": [
      "{1, 2, 3, 4, 5, 7, 9}\n"
     ]
    }
   ],
   "source": [
    "#20\n",
    "s1 = {1, 2, 3,5,9,}\n",
    "s2 = {3, 4, 5,2,7}\n",
    "\n",
    "s1.update(s2)\n",
    "print(s1)"
   ]
  },
  {
   "cell_type": "code",
   "execution_count": 35,
   "id": "e19d41f7-244e-459d-b405-0c747c74ed5a",
   "metadata": {},
   "outputs": [
    {
     "name": "stdout",
     "output_type": "stream",
     "text": [
      "First 5 prime numbers as a set: {2, 3, 5, 7, 11}\n"
     ]
    }
   ],
   "source": [
    "#21\n",
    "def is_prime(n):\n",
    "    if n < 2:\n",
    "        return False\n",
    "    for i in range(2, int(n**0.5)+1):\n",
    "        if n % i == 0:\n",
    "            return False\n",
    "    return True\n",
    "prime_set = set()\n",
    "num = 2\n",
    "\n",
    "while len(prime_set) < 5:\n",
    "    if is_prime(num):\n",
    "        prime_set.add(num)\n",
    "    num += 1\n",
    "\n",
    "print(\"First 5 prime numbers as a set:\", prime_set)\n"
   ]
  },
  {
   "cell_type": "code",
   "execution_count": 36,
   "id": "d71f3f2c-c400-446a-a7d9-6e6b6b1daf4b",
   "metadata": {},
   "outputs": [
    {
     "name": "stdout",
     "output_type": "stream",
     "text": [
      "False\n"
     ]
    }
   ],
   "source": [
    "#22\n",
    "s1 = {1, 4, 7, 2, 3}\n",
    "s2 = {3, 2, 1}\n",
    "\n",
    "if s1 == s2:\n",
    "    print(\"True\")\n",
    "else:\n",
    "    print(\"False\")"
   ]
  },
  {
   "cell_type": "code",
   "execution_count": 38,
   "id": "6c0b0a53-3ef5-488d-ab77-074f89d8d4f4",
   "metadata": {},
   "outputs": [
    {
     "name": "stdout",
     "output_type": "stream",
     "text": [
      "frozenset({1, 2, 3, 4, 5, 9})\n"
     ]
    }
   ],
   "source": [
    "#23\n",
    "m = [1, 2, 3, 4, 5,9]\n",
    "frozen = frozenset(m)\n",
    "\n",
    "print(frozen)"
   ]
  },
  {
   "cell_type": "code",
   "execution_count": 40,
   "id": "81b0de30-81fe-4031-8f18-de4263669c23",
   "metadata": {},
   "outputs": [
    {
     "name": "stdout",
     "output_type": "stream",
     "text": [
      "disjoint\n"
     ]
    }
   ],
   "source": [
    "#24\n",
    "s1 = {1, 2, 3, 8}\n",
    "s2 = {4, 5, 6, 7}\n",
    "\n",
    "if s1.isdisjoint(s2):\n",
    "    print(\"disjoint\")\n",
    "else:\n",
    "    print(\"not disjoint\")"
   ]
  },
  {
   "cell_type": "code",
   "execution_count": null,
   "id": "58be297f-d87f-4a52-a7c6-88711dd6a3e2",
   "metadata": {},
   "outputs": [],
   "source": [
    "#25\n",
    "squares = set()\n",
    "\n",
    "for i in range(1, 6):\n",
    "    squares.add(i * i)\n",
    "\n",
    "print(\"Set of squares from 1 to 5:\", squares)"
   ]
  },
  {
   "cell_type": "code",
   "execution_count": 44,
   "id": "a5c6a98f-5389-4b74-860d-a5940c1e31cf",
   "metadata": {},
   "outputs": [
    {
     "name": "stdout",
     "output_type": "stream",
     "text": [
      "{1, 3, 5, 7, 9}\n"
     ]
    }
   ],
   "source": [
    "#26\n",
    "num = {1, 2, 3, 4, 5, 6, 7, 8, 9, 10}\n",
    "f= set()\n",
    "\n",
    "for i in num:\n",
    "    if i % 2 != 0:\n",
    "        f.add(i)\n",
    "\n",
    "print(f)"
   ]
  },
  {
   "cell_type": "code",
   "execution_count": 46,
   "id": "35acb448-f5fe-4bd0-b677-7407ca9dc120",
   "metadata": {},
   "outputs": [
    {
     "name": "stdout",
     "output_type": "stream",
     "text": [
      "{2, 4, 6, 8, 10, 12, 14, 16, 18, 20}\n"
     ]
    }
   ],
   "source": [
    "#27\n",
    "numbers = {1, 2, 3, 4, 5}\n",
    "multiply = set()\n",
    "\n",
    "for i in num:\n",
    "    multiply.add(i* 2)\n",
    "\n",
    "print(multiply)"
   ]
  },
  {
   "cell_type": "code",
   "execution_count": 47,
   "id": "eac08d5d-0dcd-4997-922e-703c77596254",
   "metadata": {},
   "outputs": [
    {
     "name": "stdout",
     "output_type": "stream",
     "text": [
      "{34, 37, 38, 42, 22}\n"
     ]
    }
   ],
   "source": [
    "#28\n",
    "import random\n",
    "\n",
    "ran_num = set()\n",
    "\n",
    "while len(ran_num) < 5:\n",
    "    ran_num.add(random.randint(1, 50))\n",
    "\n",
    "print(ran_num)"
   ]
  },
  {
   "cell_type": "code",
   "execution_count": 48,
   "id": "4a6cb7b6-61b2-496c-969f-2bc1a895cd19",
   "metadata": {},
   "outputs": [
    {
     "name": "stdout",
     "output_type": "stream",
     "text": [
      "empty\n"
     ]
    }
   ],
   "source": [
    "#29\n",
    "f = set()\n",
    "\n",
    "if not f:\n",
    "    print(\"empty\")\n",
    "else:\n",
    "    print(\"not empty\")\n"
   ]
  },
  {
   "cell_type": "code",
   "execution_count": 49,
   "id": "32a23b10-23d3-4854-97fa-80795eb80310",
   "metadata": {},
   "outputs": [
    {
     "name": "stdout",
     "output_type": "stream",
     "text": [
      "{frozenset({1, 2, 3}), frozenset({3, 4, 6})}\n"
     ]
    }
   ],
   "source": [
    "#30\n",
    "set1 = frozenset([1, 3, 2])\n",
    "set2 = frozenset([3, 4, 6])\n",
    "\n",
    "nested= {set1, set2}\n",
    "\n",
    "print(nested)"
   ]
  },
  {
   "cell_type": "code",
   "execution_count": 51,
   "id": "26838fa9-0dc4-42e1-ae54-c06368009fc3",
   "metadata": {},
   "outputs": [
    {
     "name": "stdout",
     "output_type": "stream",
     "text": [
      "{1, 2, 3, 4, 5}\n"
     ]
    }
   ],
   "source": [
    "#31 does not raise an error if the element is not found.\n",
    "s1={1, 2, 3, 4, 5}\n",
    "\n",
    "numbers.discard(3)\n",
    "\n",
    "print(s1)"
   ]
  },
  {
   "cell_type": "code",
   "execution_count": 52,
   "id": "9496a1dc-4c0b-4cc7-bb41-547cd018f3a6",
   "metadata": {},
   "outputs": [
    {
     "name": "stdout",
     "output_type": "stream",
     "text": [
      "True\n"
     ]
    }
   ],
   "source": [
    "#32\n",
    "s1= {2,4,6,7,8,4}\n",
    "s2= {2,4,6,7,8,4}\n",
    "\n",
    "print(s1==s2)\n"
   ]
  },
  {
   "cell_type": "code",
   "execution_count": 53,
   "id": "c5960f73-ef57-469a-9d08-9c5daf82702b",
   "metadata": {},
   "outputs": [
    {
     "name": "stdout",
     "output_type": "stream",
     "text": [
      "{'Hello Good mornings'}\n"
     ]
    }
   ],
   "source": [
    "#33\n",
    "s1=[\"Hello Good mornings\"]\n",
    "s2= set(s1)\n",
    "print(s2)"
   ]
  },
  {
   "cell_type": "code",
   "execution_count": 6,
   "id": "47c724b9-e077-4669-81fa-e15c2773619e",
   "metadata": {},
   "outputs": [
    {
     "name": "stdout",
     "output_type": "stream",
     "text": [
      "{1, 2, 3, 4}\n"
     ]
    }
   ],
   "source": [
    "#34 \n",
    "st = {\"1\", \"2\", \"3\", \"4\"}\n",
    "it = set()\n",
    "\n",
    "for item in st:\n",
    "    it.add(int(item))\n",
    "\n",
    "print(it)\n",
    "\n"
   ]
  },
  {
   "cell_type": "code",
   "execution_count": 7,
   "id": "5df10d97-fb97-43cd-84bc-a39e15f2bdb6",
   "metadata": {},
   "outputs": [
    {
     "name": "stdout",
     "output_type": "stream",
     "text": [
      "{'1', '4', '2', '3'}\n"
     ]
    }
   ],
   "source": [
    "#35\n",
    "it = {1, 2, 3, 4}\n",
    "st = set()\n",
    "\n",
    "for num in it:\n",
    "    st.add(str(num))\n",
    "\n",
    "print(st)"
   ]
  },
  {
   "cell_type": "code",
   "execution_count": 57,
   "id": "72f57727-076f-49b7-aa50-a26b0c9eb534",
   "metadata": {},
   "outputs": [
    {
     "name": "stdout",
     "output_type": "stream",
     "text": [
      "{1, 2, 3, 4}\n"
     ]
    }
   ],
   "source": [
    "#36\n",
    "y = (1, 2, 3, 4, 2, 1)\n",
    "my = set(y)\n",
    "\n",
    "print(my)"
   ]
  },
  {
   "cell_type": "code",
   "execution_count": 58,
   "id": "78ee711c-81e9-4779-b8d9-ebd776cb11df",
   "metadata": {},
   "outputs": [
    {
     "name": "stdout",
     "output_type": "stream",
     "text": [
      "(1, 2, 3, 4)\n"
     ]
    }
   ],
   "source": [
    "#37\n",
    "y = {1, 2, 3, 4}\n",
    "my = tuple(y)\n",
    "\n",
    "print(my)"
   ]
  },
  {
   "cell_type": "code",
   "execution_count": 59,
   "id": "85057346-5e8f-4f2c-bf31-ec1b14b11fdc",
   "metadata": {},
   "outputs": [
    {
     "name": "stdout",
     "output_type": "stream",
     "text": [
      "4\n"
     ]
    }
   ],
   "source": [
    "#38\n",
    "y = {1, 2, 3, 4}\n",
    "z= max(y)\n",
    "print(z)"
   ]
  },
  {
   "cell_type": "code",
   "execution_count": 60,
   "id": "f683c131-faf9-427b-881c-3c39261b67a0",
   "metadata": {},
   "outputs": [
    {
     "name": "stdout",
     "output_type": "stream",
     "text": [
      "1\n"
     ]
    }
   ],
   "source": [
    "#39\n",
    "y = {1, 2, 3, 4}\n",
    "z= min(y)\n",
    "print(z)"
   ]
  },
  {
   "cell_type": "code",
   "execution_count": 61,
   "id": "3443c220-11a8-458b-a798-56ae26316d05",
   "metadata": {},
   "outputs": [
    {
     "name": "stdin",
     "output_type": "stream",
     "text": [
      "Enter elements separated by spaces:  23,23,23,23,\n"
     ]
    },
    {
     "name": "stdout",
     "output_type": "stream",
     "text": [
      "{'23,23,23,23,'}\n"
     ]
    }
   ],
   "source": [
    "#40\n",
    "a = input(\"Enter elements separated by spaces: \")\n",
    "b = set(a.split())\n",
    "\n",
    "print(b)"
   ]
  },
  {
   "cell_type": "code",
   "execution_count": 62,
   "id": "9b53c56d-598c-4c6d-b649-1593541fd032",
   "metadata": {},
   "outputs": [
    {
     "name": "stdout",
     "output_type": "stream",
     "text": [
      "empty\n"
     ]
    }
   ],
   "source": [
    "#41 disjoint\n",
    "s1 = {1, 2, 3}\n",
    "s2 = {4, 5, 6}\n",
    "\n",
    "if s1.isdisjoint(s2):\n",
    "    print(\"empty\")\n",
    "else:\n",
    "    print(\"common elements\")"
   ]
  },
  {
   "cell_type": "code",
   "execution_count": 3,
   "id": "c816b58b-8e34-4489-8e78-3e90d20781a4",
   "metadata": {},
   "outputs": [
    {
     "name": "stdout",
     "output_type": "stream",
     "text": [
      "{0, 1, 2, 3, 5, 8, 13}\n"
     ]
    }
   ],
   "source": [
    "#42\n",
    "n = 9\n",
    "fibo = {0, 1}\n",
    "\n",
    "a, b = 0, 1\n",
    "for i in range(n - 2): \n",
    "    a, b = b, a + b\n",
    "    fibo.add(a)\n",
    "\n",
    "print(fibo)"
   ]
  },
  {
   "cell_type": "code",
   "execution_count": 5,
   "id": "8c93903a-464c-41ec-a5d4-ac347f48a52a",
   "metadata": {},
   "outputs": [
    {
     "name": "stdout",
     "output_type": "stream",
     "text": [
      "[1, 2, 3, 4, 5]\n"
     ]
    }
   ],
   "source": [
    "#43\n",
    "my = [1, 2, 2, 3, 4, 4, 5]\n",
    "unique = list(set(my))\n",
    "\n",
    "print(unique)"
   ]
  },
  {
   "cell_type": "code",
   "execution_count": null,
   "id": "974cdb6b-f335-46a9-b814-fb1f7ef6cbad",
   "metadata": {},
   "outputs": [],
   "source": [
    "#44\n",
    "s1 = {21,45,23,76,34,35}\n",
    "s2 = {87,2,5,6,8,3,9}\n",
    "\n",
    "if s1.isdisjoint(s2):\n",
    "    print(\"no common.\")\n",
    "else:\n",
    "    print(\"some common\")"
   ]
  },
  {
   "cell_type": "code",
   "execution_count": 7,
   "id": "f11b518e-cb5a-4c70-9966-462be156019a",
   "metadata": {},
   "outputs": [
    {
     "name": "stdin",
     "output_type": "stream",
     "text": [
      "Enter the value of n:  5\n"
     ]
    },
    {
     "name": "stdout",
     "output_type": "stream",
     "text": [
      "{1, 2, 4, 8, 16}\n"
     ]
    }
   ],
   "source": [
    "#45\n",
    "n = int(input(\"Enter the value of n: \"))\n",
    "pow_2 = set()\n",
    "\n",
    "for i in range(n):\n",
    "    pow_2.add(2 ** i)\n",
    "\n",
    "print(pow_2)"
   ]
  },
  {
   "cell_type": "code",
   "execution_count": 8,
   "id": "d64f4f7d-9591-4868-8ce9-64ffd8085ddf",
   "metadata": {},
   "outputs": [
    {
     "name": "stdout",
     "output_type": "stream",
     "text": [
      "{3, 4, 5}\n"
     ]
    }
   ],
   "source": [
    "#46\n",
    "m = {1, 2, 3, 4, 5}\n",
    "n = [3, 4, 5, 6, 7]\n",
    "\n",
    "common = m.intersection(n)\n",
    "\n",
    "print( common)"
   ]
  },
  {
   "cell_type": "code",
   "execution_count": 10,
   "id": "ea56a538-a1db-47e5-94de-154f59d1ad1a",
   "metadata": {},
   "outputs": [
    {
     "name": "stdin",
     "output_type": "stream",
     "text": [
      "Enter the value of n:  7\n"
     ]
    },
    {
     "name": "stdout",
     "output_type": "stream",
     "text": [
      "{1, 3, 6, 10, 15, 21, 28}\n"
     ]
    }
   ],
   "source": [
    "#47 formula is n(n+1)//2\n",
    "n = int(input(\"Enter the value of n: \"))\n",
    "num = set()\n",
    "\n",
    "for i in range(1, n + 1):\n",
    "    num.add(i * (i + 1) // 2)\n",
    "\n",
    "print(num)\n"
   ]
  },
  {
   "cell_type": "code",
   "execution_count": 23,
   "id": "fa531b85-03f6-4ed4-a05a-866b6baeb833",
   "metadata": {},
   "outputs": [
    {
     "name": "stdout",
     "output_type": "stream",
     "text": [
      "subset\n"
     ]
    }
   ],
   "source": [
    "#48 \n",
    "s1 = {1, 2, 3, 4, 5}\n",
    "s2 = {2, 3}\n",
    "\n",
    "if s2.issubset(s1):\n",
    "    print(\"subset\")\n",
    "else:\n",
    "    print(\"not a subset\")"
   ]
  },
  {
   "cell_type": "code",
   "execution_count": 1,
   "id": "b999faf9-c784-4b4b-b78e-eff58524b645",
   "metadata": {},
   "outputs": [
    {
     "name": "stdout",
     "output_type": "stream",
     "text": [
      "{1, 2, 3, 4}\n"
     ]
    }
   ],
   "source": [
    "#49\n",
    "s= {\"1\", \"2\", \"3\", \"4\"}\n",
    "i = set()\n",
    "\n",
    "for item in s:\n",
    "    i.add(int(item))\n",
    "\n",
    "print(i)"
   ]
  },
  {
   "cell_type": "code",
   "execution_count": 25,
   "id": "100cc643-a9b0-4f01-9c13-090d9fbfd7e2",
   "metadata": {},
   "outputs": [
    {
     "name": "stdout",
     "output_type": "stream",
     "text": [
      "{1, 2, 3, 4, 5, 6}\n"
     ]
    }
   ],
   "source": [
    "#50\n",
    "t1 = {1, 2}\n",
    "t2 = {3, 4}\n",
    "t3 = {4, 5, 6}\n",
    "\n",
    "merged = t1.union(t2, t3)\n",
    "print(merged)"
   ]
  }
 ],
 "metadata": {
  "kernelspec": {
   "display_name": "Python 3 (ipykernel)",
   "language": "python",
   "name": "python3"
  },
  "language_info": {
   "codemirror_mode": {
    "name": "ipython",
    "version": 3
   },
   "file_extension": ".py",
   "mimetype": "text/x-python",
   "name": "python",
   "nbconvert_exporter": "python",
   "pygments_lexer": "ipython3",
   "version": "3.13.3"
  }
 },
 "nbformat": 4,
 "nbformat_minor": 5
}
