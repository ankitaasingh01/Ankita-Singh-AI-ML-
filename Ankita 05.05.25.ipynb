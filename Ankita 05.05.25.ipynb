{
 "cells": [
  {
   "cell_type": "code",
   "execution_count": 4,
   "id": "08cc9fec-86bc-46ce-bd19-9e88ea5565a3",
   "metadata": {},
   "outputs": [
    {
     "name": "stdin",
     "output_type": "stream",
     "text": [
      "Enter a String: Harry Potter\n"
     ]
    },
    {
     "name": "stdout",
     "output_type": "stream",
     "text": [
      "rettoP yrraH\n"
     ]
    }
   ],
   "source": [
    "# STRING\n",
    "#(1) reverse a string\n",
    "a= input(\"Enter a String:\")\n",
    "a1= a[::-1]\n",
    "print(a1)"
   ]
  },
  {
   "cell_type": "code",
   "execution_count": 6,
   "id": "c5a2cfc5-5b4e-4887-84e8-6efbe57ce879",
   "metadata": {},
   "outputs": [
    {
     "name": "stdin",
     "output_type": "stream",
     "text": [
      "Enter a string: Ankita Singh\n"
     ]
    },
    {
     "name": "stdout",
     "output_type": "stream",
     "text": [
      "Not a Palindrome\n"
     ]
    }
   ],
   "source": [
    "#(2) Check if a string is palindrome or not\n",
    "a= input(\"Enter a string:\")\n",
    "if a == a[::-1]:\n",
    "   print(\"It is a palindrome\")\n",
    "else:\n",
    "   print(\"Not a Palindrome\")\n"
   ]
  },
  {
   "cell_type": "code",
   "execution_count": 8,
   "id": "59c827be-f3fd-4a33-a2b9-9fb544c9fc75",
   "metadata": {},
   "outputs": [
    {
     "name": "stdin",
     "output_type": "stream",
     "text": [
      "Enter a String: frisson\n"
     ]
    },
    {
     "name": "stdout",
     "output_type": "stream",
     "text": [
      "FRISSON\n"
     ]
    }
   ],
   "source": [
    "# (3) uppercase\n",
    "a= input(\"Enter a String:\")\n",
    "a1= a.upper()\n",
    "print(a1)"
   ]
  },
  {
   "cell_type": "code",
   "execution_count": 9,
   "id": "e134c147-996e-4a44-8891-262abbf5f020",
   "metadata": {},
   "outputs": [
    {
     "name": "stdin",
     "output_type": "stream",
     "text": [
      "Enter a String: DEVHUB\n"
     ]
    },
    {
     "name": "stdout",
     "output_type": "stream",
     "text": [
      "devhub\n"
     ]
    }
   ],
   "source": [
    "# (4) lowercase\n",
    "a= input(\"Enter a String:\")\n",
    "a1=a.lower()\n",
    "print(a1)"
   ]
  },
  {
   "cell_type": "code",
   "execution_count": 12,
   "id": "0700a6fa-1b5e-4cef-aff5-deef90a61a4e",
   "metadata": {},
   "outputs": [
    {
     "name": "stdin",
     "output_type": "stream",
     "text": [
      "Enter a string:  Honesty is the best policy.\n"
     ]
    },
    {
     "name": "stdout",
     "output_type": "stream",
     "text": [
      "Number of vowels = 7\n"
     ]
    }
   ],
   "source": [
    "# (5) counting a vowel\n",
    "string = input(\"Enter a string: \")\n",
    "count = 0\n",
    "\n",
    "string = string.lower()\n",
    "\n",
    "for ch in string:\n",
    "    if ch in 'aeiouAEIOU':\n",
    "        count += 1\n",
    "\n",
    "print(\"Number of vowels =\", count)"
   ]
  },
  {
   "cell_type": "code",
   "execution_count": 14,
   "id": "529e4aa8-9e97-41e0-8ec0-91d72bf4af48",
   "metadata": {},
   "outputs": [
    {
     "name": "stdin",
     "output_type": "stream",
     "text": [
      "Enter a string:  Honesty is the best policy\n"
     ]
    },
    {
     "name": "stdout",
     "output_type": "stream",
     "text": [
      "Number of vowels = 19\n"
     ]
    }
   ],
   "source": [
    "# (6) counting a consonants\n",
    "string = input(\"Enter a string: \")\n",
    "count = 0\n",
    "\n",
    "string = string.lower()\n",
    "\n",
    "for ch in string:\n",
    "    if ch not in 'aeiouAEIOU':\n",
    "        count += 1\n",
    "\n",
    "print(\"Number of vowels =\", count)"
   ]
  },
  {
   "cell_type": "code",
   "execution_count": 21,
   "id": "84b00d2f-b78b-483d-8cbe-b707acfbcfdd",
   "metadata": {},
   "outputs": [
    {
     "name": "stdout",
     "output_type": "stream",
     "text": [
      "harry potter\n"
     ]
    }
   ],
   "source": [
    "# (7) whitespaces\n",
    "h= \"  harry potter   \"\n",
    "print(h.strip())\n"
   ]
  },
  {
   "cell_type": "code",
   "execution_count": 16,
   "id": "8603ae96-d56c-44d2-b5b1-41c3f694cb08",
   "metadata": {},
   "outputs": [
    {
     "name": "stdin",
     "output_type": "stream",
     "text": [
      "Enter a string:  We are playing badminton.\n"
     ]
    },
    {
     "name": "stdout",
     "output_type": "stream",
     "text": [
      "Length of the string is: 25\n"
     ]
    }
   ],
   "source": [
    "# (8) Count the length without len()\n",
    "string = input(\"Enter a string: \")\n",
    "\n",
    "count = 0\n",
    "for i in string:\n",
    "    count += 1\n",
    "\n",
    "print(\"Length of the string is:\", count)"
   ]
  },
  {
   "cell_type": "code",
   "execution_count": 2,
   "id": "edbdee55-09bd-4a3e-bb4e-807cdfe06449",
   "metadata": {},
   "outputs": [
    {
     "name": "stdout",
     "output_type": "stream",
     "text": [
      "The word is present.\n"
     ]
    }
   ],
   "source": [
    "#(9) contains specific word\n",
    "text = \"Honesty is the best policy\"\n",
    "word = \"best\"\n",
    "\n",
    "if word in text:\n",
    "    print(\"The word is present.\")\n",
    "else:\n",
    "    print(\"The word is not present.\")"
   ]
  },
  {
   "cell_type": "code",
   "execution_count": 3,
   "id": "1ad70082-47f7-46c1-9760-690ef8098913",
   "metadata": {},
   "outputs": [
    {
     "name": "stdout",
     "output_type": "stream",
     "text": [
      "My name is Lisa Singh\n"
     ]
    }
   ],
   "source": [
    "#(10) replace()\n",
    "a= \"My name is Ankita Singh\"\n",
    "print(a.replace(\"Ankita\", \"Lisa\"))"
   ]
  },
  {
   "cell_type": "code",
   "execution_count": 6,
   "id": "da974064-ce8d-4c94-afba-66487c15ee20",
   "metadata": {},
   "outputs": [
    {
     "name": "stdout",
     "output_type": "stream",
     "text": [
      "2\n"
     ]
    }
   ],
   "source": [
    "#(11) count the occurence\n",
    "a= \"welcome to my house and welcome again\"\n",
    "print(a.count(\"welcome\"))"
   ]
  },
  {
   "cell_type": "code",
   "execution_count": 2,
   "id": "b63a1726-f999-4f55-aae4-3e78785df829",
   "metadata": {},
   "outputs": [
    {
     "name": "stdout",
     "output_type": "stream",
     "text": [
      "7\n"
     ]
    }
   ],
   "source": [
    "#(12) first occurence of the word in a string\n",
    "text = \"I am a girl\"\n",
    "word = \"girl\"\n",
    "\n",
    "index = text.find(word)\n",
    "\n",
    "if index != -1:\n",
    "    print(index)\n",
    "else:\n",
    "    print(\"not found\")\n"
   ]
  },
  {
   "cell_type": "code",
   "execution_count": 3,
   "id": "3e91494a-e32e-43e2-b492-721035bbe69b",
   "metadata": {},
   "outputs": [
    {
     "name": "stdout",
     "output_type": "stream",
     "text": [
      "7\n"
     ]
    }
   ],
   "source": [
    "#(13) \n",
    "text = \"I am a girl\"\n",
    "word= \"girl\"\n",
    "\n",
    "index = text.rfind(word)\n",
    "print(index)"
   ]
  },
  {
   "cell_type": "code",
   "execution_count": 22,
   "id": "7aa78737-8bbb-4a69-99e0-25ecc793778b",
   "metadata": {},
   "outputs": [
    {
     "name": "stdin",
     "output_type": "stream",
     "text": [
      "Enter a string:  Hello I am Ankita\n"
     ]
    },
    {
     "name": "stdout",
     "output_type": "stream",
     "text": [
      "['Hello', 'I', 'am', 'Ankita']\n"
     ]
    }
   ],
   "source": [
    "# 14 split a string\n",
    "x = (input(\"Enter a string: \"))\n",
    "y= x.split()\n",
    "print(y)"
   ]
  },
  {
   "cell_type": "code",
   "execution_count": 13,
   "id": "93114557-82c4-4d8d-b7c5-de57d5464cd9",
   "metadata": {},
   "outputs": [
    {
     "name": "stdout",
     "output_type": "stream",
     "text": [
      "We are playing a game\n"
     ]
    }
   ],
   "source": [
    "# 15 join a list of word in to string\n",
    "bb = ['We', 'are', 'playing', 'a', 'game']\n",
    "ss = ' '.join(bb)\n",
    "print(ss)"
   ]
  },
  {
   "cell_type": "code",
   "execution_count": 15,
   "id": "c22b36bd-415c-4bc1-91db-ce848391cb39",
   "metadata": {},
   "outputs": [
    {
     "name": "stdout",
     "output_type": "stream",
     "text": [
      "We_all_are_Indian\n"
     ]
    }
   ],
   "source": [
    "# 16 space to underscore\n",
    "aa = \"We all are Indian\"\n",
    "bb = aa.replace(' ', '_')\n",
    "print(bb)"
   ]
  },
  {
   "cell_type": "code",
   "execution_count": 18,
   "id": "f14927b2-0208-4779-a0bc-ab7d5e630951",
   "metadata": {},
   "outputs": [
    {
     "name": "stdout",
     "output_type": "stream",
     "text": [
      "True\n"
     ]
    }
   ],
   "source": [
    "# 17 start with specific word\n",
    "x= \"I am a citizen of India\"\n",
    "print(x.startswith(\"I\"))"
   ]
  },
  {
   "cell_type": "code",
   "execution_count": 20,
   "id": "db88bbef-3c1d-41d5-bd37-9647e906917b",
   "metadata": {},
   "outputs": [
    {
     "name": "stdout",
     "output_type": "stream",
     "text": [
      "True\n",
      "False\n"
     ]
    }
   ],
   "source": [
    "# 18 ends with specific word\n",
    "x= \"In his mind it has given him the added drive and motivation to do better\"\n",
    "print(x.endswith(\"to do better\"))\n",
    "print(x.endswith(\"motivation\"))"
   ]
  },
  {
   "cell_type": "code",
   "execution_count": 23,
   "id": "80d730e3-ed53-4f47-9454-277ebdf5dd61",
   "metadata": {},
   "outputs": [
    {
     "name": "stdin",
     "output_type": "stream",
     "text": [
      "Enter a title: hey hello good evening\n"
     ]
    },
    {
     "name": "stdout",
     "output_type": "stream",
     "text": [
      "Hey Hello Good Evening\n"
     ]
    }
   ],
   "source": [
    "# 19 title case\n",
    "w= input(\"Enter a title:\")\n",
    "print(w.title())"
   ]
  },
  {
   "cell_type": "code",
   "execution_count": 27,
   "id": "bff0b4c6-f064-402c-8f66-0599c76ae69e",
   "metadata": {},
   "outputs": [
    {
     "name": "stdout",
     "output_type": "stream",
     "text": [
      "Longest word: structures\n"
     ]
    }
   ],
   "source": [
    "# 20 longest word in a string\n",
    "x = \"Mountains are the most beautiful structures of nature\"\n",
    "y = x.split()\n",
    "longest = max(y, key=len)\n",
    "print(\"Longest word:\", longest)"
   ]
  },
  {
   "cell_type": "code",
   "execution_count": 29,
   "id": "8eddc844-467b-470f-aca5-e513b21be343",
   "metadata": {},
   "outputs": [
    {
     "name": "stdout",
     "output_type": "stream",
     "text": [
      "Smallest word: of\n"
     ]
    }
   ],
   "source": [
    "# 21 smallest word in a string\n",
    "x = \"Mountains are the most beautiful structures of nature\"\n",
    "y = x.split()\n",
    "smallest = min(y, key=len)\n",
    "print(\"Smallest word:\", smallest)"
   ]
  },
  {
   "cell_type": "code",
   "execution_count": 4,
   "id": "55137d14-2a3c-4a23-bfbd-95bb5a1d79ea",
   "metadata": {},
   "outputs": [
    {
     "name": "stdout",
     "output_type": "stream",
     "text": [
      "Singh Ankita is name My\n"
     ]
    }
   ],
   "source": [
    "# 22 reverse the order of the string\n",
    "def reverse_words(text):\n",
    "    words = text.split()\n",
    "    reversed_words = words[::-1]\n",
    "    return ' '.join(reversed_words)\n",
    "\n",
    "text = \"My name is Ankita Singh\"\n",
    "print(reverse_words(text))\n"
   ]
  },
  {
   "cell_type": "code",
   "execution_count": 34,
   "id": "0521d00b-0b0c-45d9-95b8-084755cc9c13",
   "metadata": {},
   "outputs": [
    {
     "name": "stdout",
     "output_type": "stream",
     "text": [
      "True\n"
     ]
    }
   ],
   "source": [
    "# 23 alphanumeric?\n",
    "d = \"ankita01\"\n",
    "print(d.isalnum())\n"
   ]
  },
  {
   "cell_type": "code",
   "execution_count": 37,
   "id": "0815507a-beab-47a5-8dd1-b4e043efea1f",
   "metadata": {},
   "outputs": [
    {
     "name": "stdout",
     "output_type": "stream",
     "text": [
      "The numbers list is: [1, 2, 3, 4, 5, 6, 7, 8, 9]\n"
     ]
    }
   ],
   "source": [
    "# 24 extract digits\n",
    "a= \"abc123efg456hjk789\"\n",
    "num = []\n",
    "for i in a:\n",
    "    if i.isdigit():\n",
    "        num.append(int(i))\n",
    "\n",
    "print(\"The numbers list is:\", num)"
   ]
  },
  {
   "cell_type": "code",
   "execution_count": 39,
   "id": "b2bfd373-82d9-4605-9f92-1ec9bc346cc9",
   "metadata": {},
   "outputs": [
    {
     "name": "stdout",
     "output_type": "stream",
     "text": [
      "The numbers list is: ['a', 'b', 'c', 'e', 'f', 'g', 'h', 'j', 'k']\n"
     ]
    }
   ],
   "source": [
    "# 25 extract alphabets\n",
    "a= \"abc123efg456hjk789\"\n",
    "alpha = []\n",
    "for i in a:\n",
    "    if i.isalpha():\n",
    "        alpha.append(str(i))\n",
    "\n",
    "print(\"The numbers list is:\", alpha)"
   ]
  },
  {
   "cell_type": "code",
   "execution_count": 42,
   "id": "23b22505-6ada-49d9-a016-4aa0a058b330",
   "metadata": {},
   "outputs": [
    {
     "name": "stdout",
     "output_type": "stream",
     "text": [
      "number of upper  9\n"
     ]
    }
   ],
   "source": [
    "# 26 count of upper \n",
    "a= \"ABCefgHGJklmNOP\"\n",
    "count = 0\n",
    "for i in a:\n",
    "    if i.isupper():\n",
    "        alpha.append(str(i))\n",
    "        count += 1\n",
    "\n",
    "print(\"number of upper \", count)"
   ]
  },
  {
   "cell_type": "code",
   "execution_count": 43,
   "id": "b9d6f083-d1bb-4d0e-902e-861c4c94b5e9",
   "metadata": {},
   "outputs": [
    {
     "name": "stdout",
     "output_type": "stream",
     "text": [
      "number of lower  6\n"
     ]
    }
   ],
   "source": [
    "# 27 count of lower \n",
    "a= \"ABCefgHGJklmNOP\"\n",
    "count = 0\n",
    "for i in a:\n",
    "    if i.islower():\n",
    "        alpha.append(str(i))\n",
    "        count += 1\n",
    "\n",
    "print(\"number of lower \", count)"
   ]
  },
  {
   "cell_type": "code",
   "execution_count": 45,
   "id": "f7a360f7-56c6-45d7-a10f-c4179fe33f05",
   "metadata": {},
   "outputs": [
    {
     "name": "stdout",
     "output_type": "stream",
     "text": [
      "anKIta\n"
     ]
    }
   ],
   "source": [
    "# 28 swap of case\n",
    "a=\"ANkiTA\"\n",
    "print(a.swapcase())\n"
   ]
  },
  {
   "cell_type": "code",
   "execution_count": 49,
   "id": "76b04882-5e88-4ebe-b1db-2c5fc1e30e24",
   "metadata": {},
   "outputs": [
    {
     "name": "stdout",
     "output_type": "stream",
     "text": [
      "Delhi is a beautiful\n"
     ]
    }
   ],
   "source": [
    "# 29 replace a specific word\n",
    "a = \"Delhi is a beautiful place \"\n",
    "word = \"place\"\n",
    "\n",
    "result = a.replace(word, \"\")\n",
    "print(result.strip())"
   ]
  },
  {
   "cell_type": "code",
   "execution_count": 1,
   "id": "46268a59-00c4-492d-b12b-8423d51bc0bd",
   "metadata": {},
   "outputs": [
    {
     "name": "stdin",
     "output_type": "stream",
     "text": [
      "Enter an email address:  iankita.singh13@gmail.com\n"
     ]
    },
    {
     "name": "stdout",
     "output_type": "stream",
     "text": [
      "Valid email address\n"
     ]
    }
   ],
   "source": [
    "# 30 valid email\n",
    "def is_valid_email(email):\n",
    "    if email.count('@') != 1:\n",
    "        return False\n",
    "        \n",
    "    local, domain = email.split('@')\n",
    "\n",
    "    if not local or not domain:\n",
    "        return False\n",
    "\n",
    "    if '.' not in domain:\n",
    "        return False\n",
    "\n",
    "    if domain.startswith('.') or domain.endswith('.'):\n",
    "        return False\n",
    "\n",
    "    return True\n",
    "\n",
    "email = input(\"Enter an email address: \")\n",
    "\n",
    "if is_valid_email(email):\n",
    "    print(\"Valid email address\")\n",
    "else:\n",
    "    print(\"Invalid email address\")"
   ]
  },
  {
   "cell_type": "code",
   "execution_count": 52,
   "id": "047d4ca5-f82a-4738-bd1f-f97f58a17c26",
   "metadata": {},
   "outputs": [
    {
     "name": "stdout",
     "output_type": "stream",
     "text": [
      "Username: iankita.singh13\n"
     ]
    }
   ],
   "source": [
    "# 31 Username\n",
    "email = \"iankita.singh13@gmail.com\"\n",
    "username = email.split('@')[0]\n",
    "print(\"Username:\", username)"
   ]
  },
  {
   "cell_type": "code",
   "execution_count": 54,
   "id": "63cecb9d-0347-4d57-9dfb-a408db369050",
   "metadata": {},
   "outputs": [
    {
     "name": "stdout",
     "output_type": "stream",
     "text": [
      "Domain: gmail.com\n"
     ]
    }
   ],
   "source": [
    "# 32 Domain\n",
    "email = \"iankita.singh13@gmail.com\"\n",
    "Domain = email.split('@')[1]\n",
    "print(\"Domain:\", Domain)"
   ]
  },
  {
   "cell_type": "code",
   "execution_count": 56,
   "id": "44f5a015-a507-4d94-a38a-8eaa1f5960f5",
   "metadata": {},
   "outputs": [
    {
     "name": "stdout",
     "output_type": "stream",
     "text": [
      "Kanpur is my hometown\n"
     ]
    }
   ],
   "source": [
    "# 33 multiple spaces into one \n",
    "test_str = \"Kanpur     is my hometown\"\n",
    "r = \" \".join(test_str.split())\n",
    "print(str(r))\n"
   ]
  },
  {
   "cell_type": "code",
   "execution_count": 9,
   "id": "466fbfd6-8677-44d6-9da4-5777dbf2b4b9",
   "metadata": {},
   "outputs": [
    {
     "name": "stdin",
     "output_type": "stream",
     "text": [
      "Enter a valid url:  https://valid.org\n"
     ]
    },
    {
     "name": "stdout",
     "output_type": "stream",
     "text": [
      "Valid URL\n"
     ]
    }
   ],
   "source": [
    "# 34 valid url and url always start with https or http\n",
    "def http(u):\n",
    "    return u.startswith(\"http://\") or u.startswith(\"https://\")\n",
    "\n",
    "url = input(\"Enter a valid url: \")\n",
    "\n",
    "if http(url):\n",
    "    print(\"Valid URL\")\n",
    "else:\n",
    "    print(\"Not a valid URL\")"
   ]
  },
  {
   "cell_type": "code",
   "execution_count": 1,
   "id": "ece41248-bb79-4218-80d7-e4704bfa6073",
   "metadata": {},
   "outputs": [
    {
     "name": "stdout",
     "output_type": "stream",
     "text": [
      "https\n"
     ]
    }
   ],
   "source": [
    "#35\n",
    "url = \"https://www.example.com\"\n",
    "\n",
    "if url.startswith(\"https://\"):\n",
    "    print(\"https\")\n",
    "elif url.startswith(\"http://\"):\n",
    "    print(\"http\")\n",
    "else:\n",
    "    print(\"No valid protocol\")"
   ]
  },
  {
   "cell_type": "code",
   "execution_count": 7,
   "id": "c8ffcf27-cb07-42dd-a269-d73409f3a973",
   "metadata": {},
   "outputs": [
    {
     "name": "stdout",
     "output_type": "stream",
     "text": [
      "{'M': 1, 'o': 1, 'u': 1, 'n': 2, 't': 2, 'a': 2, 'i': 2, ' ': 2, 's': 1, 'h': 1, 'e': 1, 'r': 1, 'p': 1, 'y': 1}\n"
     ]
    }
   ],
   "source": [
    "#36 \n",
    "text = \"Mountain is therapy\"\n",
    "count = {}\n",
    "\n",
    "for i in text:\n",
    "    if i in count:\n",
    "        count[i] += 1\n",
    "    else:\n",
    "        count[i] = 1\n",
    "\n",
    "print(count)"
   ]
  },
  {
   "cell_type": "code",
   "execution_count": 2,
   "id": "a08b3124-b317-4b5e-b901-3377ad31b34a",
   "metadata": {},
   "outputs": [
    {
     "name": "stdin",
     "output_type": "stream",
     "text": [
      "enter the string ankita@\n"
     ]
    },
    {
     "name": "stdout",
     "output_type": "stream",
     "text": [
      "ankita\n"
     ]
    }
   ],
   "source": [
    "#37 remove punctuation\n",
    "s = input(\"enter the string\")\n",
    "p = \"!@#$%^&*()))))_+{}[]:;<>\"\n",
    "str1 = \"\"\n",
    "for i in s:\n",
    "    if i not in p:\n",
    "        str1 += i\n",
    "print(str1)"
   ]
  },
  {
   "cell_type": "code",
   "execution_count": 57,
   "id": "6a911ad8-c052-4f51-ae88-10469f755ee3",
   "metadata": {},
   "outputs": [
    {
     "name": "stdout",
     "output_type": "stream",
     "text": [
      "True\n"
     ]
    }
   ],
   "source": [
    "#38 Only digit\n",
    "a= \"1234567\"\n",
    "print(a.isdigit())"
   ]
  },
  {
   "cell_type": "code",
   "execution_count": 58,
   "id": "9d737554-a0b8-49f4-bbba-435669730cab",
   "metadata": {},
   "outputs": [
    {
     "name": "stdout",
     "output_type": "stream",
     "text": [
      "True\n"
     ]
    }
   ],
   "source": [
    "#39 Only alphabets\n",
    "a= \"ABJGDUY\"\n",
    "print(a.isalpha())"
   ]
  },
  {
   "cell_type": "code",
   "execution_count": 3,
   "id": "4170a077-c56d-4d23-89ee-f9a242445e5e",
   "metadata": {},
   "outputs": [
    {
     "name": "stdout",
     "output_type": "stream",
     "text": [
      "['A', 'n', 'k', 'i', 't', 'a']\n"
     ]
    }
   ],
   "source": [
    "string = \"Ankita\"\n",
    "char_list = list(string)\n",
    "print(char_list)"
   ]
  },
  {
   "cell_type": "code",
   "execution_count": 11,
   "id": "41553ffe-db69-4981-abc7-b2909248703d",
   "metadata": {},
   "outputs": [
    {
     "name": "stdout",
     "output_type": "stream",
     "text": [
      "True\n"
     ]
    }
   ],
   "source": [
    "#41\n",
    "def anagrams(str1, str2):\n",
    "    return sorted(str1) == sorted(str2)\n",
    "\n",
    "print(anagrams(\"abcd\", \"bdac\"))"
   ]
  },
  {
   "cell_type": "code",
   "execution_count": 5,
   "id": "a6c7d179-5a4a-41db-a2fb-50f0077e584c",
   "metadata": {},
   "outputs": [
    {
     "name": "stdin",
     "output_type": "stream",
     "text": [
      "Enter the text to encode:  good\n",
      "Enter the shift value:  2\n"
     ]
    },
    {
     "name": "stdout",
     "output_type": "stream",
     "text": [
      "iqqf\n"
     ]
    }
   ],
   "source": [
    "#42 encode\n",
    "def caesar_cipher(text, shift):\n",
    "    result = \"\"\n",
    "    \n",
    "    for char in text:\n",
    "        if char.isupper():\n",
    "            result += chr((ord(char) + shift - 65) % 26 + 65)\n",
    "        elif char.islower():\n",
    "            result += chr((ord(char) + shift - 97) % 26 + 97)\n",
    "        else:\n",
    "            result += char\n",
    "    \n",
    "    return result\n",
    "    \n",
    "text = input(\"Enter the text to encode: \")\n",
    "shift = int(input(\"Enter the shift value: \"))\n",
    "\n",
    "encoded_text = caesar_cipher(text, shift)\n",
    "print(encoded_text)\n"
   ]
  },
  {
   "cell_type": "code",
   "execution_count": 6,
   "id": "4182f932-6109-4a25-b23e-55596c9138bf",
   "metadata": {},
   "outputs": [
    {
     "name": "stdin",
     "output_type": "stream",
     "text": [
      "Enter the encoded text:  iqqf\n",
      "Enter the shift value:  2\n"
     ]
    },
    {
     "name": "stdout",
     "output_type": "stream",
     "text": [
      "Decoded text: good\n"
     ]
    }
   ],
   "source": [
    "#43 decode caesar cipher\n",
    "def caesar_decipher(text, shift):\n",
    "    result = \"\"\n",
    "    \n",
    "    for char in text:\n",
    "        if char.isupper():\n",
    "            result += chr((ord(char) - shift - 65) % 26 + 65)\n",
    "        elif char.islower():\n",
    "            result += chr((ord(char) - shift - 97) % 26 + 97)\n",
    "        else:\n",
    "            result += char\n",
    "    \n",
    "    return result\n",
    "encoded_text = input(\"Enter the encoded text: \")\n",
    "shift = int(input(\"Enter the shift value: \"))\n",
    "\n",
    "decoded_text = caesar_decipher(encoded_text, shift)\n",
    "print(\"Decoded text:\", decoded_text)"
   ]
  },
  {
   "cell_type": "code",
   "execution_count": 3,
   "id": "78562d20-775e-4d54-9fc2-b9bf798d63b7",
   "metadata": {},
   "outputs": [
    {
     "name": "stdin",
     "output_type": "stream",
     "text": [
      "Enter the string  helloooo\n"
     ]
    },
    {
     "name": "stdout",
     "output_type": "stream",
     "text": [
      "helloooo\n"
     ]
    }
   ],
   "source": [
    "#44 frequency\n",
    "str=input(\"Enter the string \")\n",
    "l1=str.split()\n",
    "x={}\n",
    "count=0\n",
    "for i in l1:\n",
    "  if i in x:\n",
    "    x[i]+=1\n",
    "  else:\n",
    "    x[i]=1\n",
    "\n",
    "for j in x:     \n",
    "  if x[j]>count:\n",
    "    count=x[j]\n",
    "    print(j)\n"
   ]
  },
  {
   "cell_type": "code",
   "execution_count": 16,
   "id": "62f837b4-25e9-4330-8c07-4560dba77f73",
   "metadata": {},
   "outputs": [
    {
     "name": "stdout",
     "output_type": "stream",
     "text": [
      "{'b', 'a'}\n"
     ]
    }
   ],
   "source": [
    "#45 unique \n",
    "a=\"aaaaaabaaaaaa\"\n",
    "b= set(a)\n",
    "print(b)"
   ]
  },
  {
   "cell_type": "code",
   "execution_count": 7,
   "id": "5238bdd6-31e2-4e1e-81ad-31bbd9243568",
   "metadata": {},
   "outputs": [
    {
     "name": "stdin",
     "output_type": "stream",
     "text": [
      "Enter a string:  apple\n"
     ]
    },
    {
     "name": "stdout",
     "output_type": "stream",
     "text": [
      "Number of syllables = 2\n"
     ]
    }
   ],
   "source": [
    "#46 Count the number of syllables in a string.\n",
    "string = input(\"Enter a string: \")\n",
    "count = 0\n",
    "\n",
    "string = string.lower()\n",
    "\n",
    "for ch in string:\n",
    "    if ch in 'aeiouAEIOU':\n",
    "        count += 1\n",
    "\n",
    "print(\"Number of syllables =\", count)\n"
   ]
  },
  {
   "cell_type": "code",
   "execution_count": 19,
   "id": "7957ce01-79db-49eb-9d6b-97744040ae0a",
   "metadata": {},
   "outputs": [
    {
     "name": "stdout",
     "output_type": "stream",
     "text": [
      "string contains special char\n"
     ]
    }
   ],
   "source": [
    "#47\n",
    "n = \"thank$%^&&you\"\n",
    "n.split()\n",
    "c = 0\n",
    "s = '[@_!#$%^&*()<>?/}{~:]' \n",
    "for i in range(len(n)):\n",
    "    if n[i] in s:\n",
    "        c += 1  \n",
    "if c:\n",
    "    print(\"string contains special char\")\n",
    "else:\n",
    "    print(\"no special char\")"
   ]
  },
  {
   "cell_type": "code",
   "execution_count": 20,
   "id": "3be77301-dd82-44af-b9f3-5a8f4f361ae2",
   "metadata": {},
   "outputs": [
    {
     "name": "stdin",
     "output_type": "stream",
     "text": [
      "Enter a sentence: this is your house\n",
      "Enter the number of term which you want to remove 3\n"
     ]
    },
    {
     "name": "stdout",
     "output_type": "stream",
     "text": [
      "this is house\n"
     ]
    }
   ],
   "source": [
    "#48\n",
    "def rem_n (text, n):\n",
    "    words = text.split()\n",
    "    \n",
    "    if n > 0 and n <= len(words):\n",
    "        del words[n-1]\n",
    "    return ' '.join(words)\n",
    "\n",
    "text= input(\"Enter a sentence:\")\n",
    "n=int(input(\"Enter the number of term which you want to remove\"))\n",
    "print(rem_n(text, n)) "
   ]
  },
  {
   "cell_type": "code",
   "execution_count": 23,
   "id": "61834048-d7a5-4103-8ce5-3260db6da574",
   "metadata": {},
   "outputs": [
    {
     "name": "stdin",
     "output_type": "stream",
     "text": [
      "Enter a sentence:  this is house\n",
      "Enter a word which you want to add:  my\n",
      "Enter the number of the term where you want to add the word:  3\n"
     ]
    },
    {
     "name": "stdout",
     "output_type": "stream",
     "text": [
      "this is my house\n"
     ]
    }
   ],
   "source": [
    "#49 Insert a word in nth position\n",
    "def insert(text, word, n):\n",
    "    w = text.split()  \n",
    "    if n >= 1 and n <= len(w) + 1:\n",
    "        w.insert(n-1, word)  \n",
    "    \n",
    "    return ' '.join(w) \n",
    "\n",
    "\n",
    "text = input(\"Enter a sentence: \")\n",
    "w = input(\"Enter a word which you want to add: \")\n",
    "n = int(input(\"Enter the number of the term where you want to add the word: \"))\n",
    "\n",
    "print(insert(text, w, n))"
   ]
  },
  {
   "cell_type": "code",
   "execution_count": 4,
   "id": "11150b33-6bfd-4499-9564-fb90cae9c7d9",
   "metadata": {},
   "outputs": [
    {
     "name": "stdout",
     "output_type": "stream",
     "text": [
      "                                            text\n",
      "0  Hello, welcome how are you what are you doing\n"
     ]
    }
   ],
   "source": [
    "#50 Convert a CSV string to a list of lists.\n",
    "import pandas as pd\n",
    "\n",
    "text= [\"Hello, welcome how are you what are you doing\"]\n",
    "df= pd.DataFrame({\"text\": text})\n",
    "df.to_csv(\"text.csv\")"
   ]
  },
  {
   "cell_type": "code",
   "execution_count": 9,
   "id": "0e212d43-134a-4c66-9041-47be4d25ee8d",
   "metadata": {},
   "outputs": [
    {
     "name": "stdout",
     "output_type": "stream",
     "text": [
      "[1, 2, 3, 4, 5, 6, 7, 8, 9, 10]\n"
     ]
    }
   ],
   "source": [
    "#1 List\n",
    "a= [1,2,3,4,5,6,7,8,9,10]\n",
    "print(a)"
   ]
  },
  {
   "cell_type": "code",
   "execution_count": 15,
   "id": "601a03aa-51e4-4e0f-ace3-370bc925e992",
   "metadata": {},
   "outputs": [
    {
     "name": "stdout",
     "output_type": "stream",
     "text": [
      "Length of the list: 10\n"
     ]
    }
   ],
   "source": [
    "#2 length of a list\n",
    "a = [1, 2, 3, 4, 5, 6, 7, 8, 9, 10]\n",
    "count = 0 \n",
    "for i in a:\n",
    "    count += 1 \n",
    "print(\"Length of the list:\", count)"
   ]
  },
  {
   "cell_type": "code",
   "execution_count": 24,
   "id": "d30fa5fd-51b0-4c74-9a09-cb15994510d1",
   "metadata": {},
   "outputs": [
    {
     "name": "stdout",
     "output_type": "stream",
     "text": [
      "[1, 2, 3, 4, 5, 6, 7, 8, 9, 10, 11]\n"
     ]
    }
   ],
   "source": [
    "#3 append an item to the last\n",
    "a = [1, 2, 3, 4, 5, 6, 7, 8, 9, 10]\n",
    "a.append(11)\n",
    "print(a)"
   ]
  },
  {
   "cell_type": "code",
   "execution_count": 23,
   "id": "31dfe3de-fdda-4915-ba23-b11df9b75bee",
   "metadata": {},
   "outputs": [
    {
     "name": "stdout",
     "output_type": "stream",
     "text": [
      "[1, 2, 3, 4, 5, 6, 7]\n"
     ]
    }
   ],
   "source": [
    "#4 insert an item into a specific index\n",
    "a = [1,2,4,5,6,7]\n",
    "a.insert(2, 3)\n",
    "print(a)"
   ]
  },
  {
   "cell_type": "code",
   "execution_count": 25,
   "id": "7a714387-6db8-43f0-89a8-42aefa2528f0",
   "metadata": {},
   "outputs": [
    {
     "name": "stdout",
     "output_type": "stream",
     "text": [
      "['car', 'bus', 'bike']\n"
     ]
    }
   ],
   "source": [
    "#5 remove an item\n",
    "a = [\"car\", \"bus\", \"bike\", \"dog\"]\n",
    "a.remove(\"dog\")\n",
    "print(a)"
   ]
  },
  {
   "cell_type": "code",
   "execution_count": 26,
   "id": "3683097d-cb72-4e18-bd23-1654d341a340",
   "metadata": {},
   "outputs": [
    {
     "name": "stdout",
     "output_type": "stream",
     "text": [
      "[6, 3, 3, 7, 8, 2]\n"
     ]
    }
   ],
   "source": [
    "#6 pop an item from index\n",
    "a= [6,3,6,3,7,8,2]\n",
    "a.pop(2)\n",
    "print(a)"
   ]
  },
  {
   "cell_type": "code",
   "execution_count": 30,
   "id": "546f1e62-d28a-4054-be2a-b0653604b27e",
   "metadata": {},
   "outputs": [
    {
     "name": "stdout",
     "output_type": "stream",
     "text": [
      "Exists\n"
     ]
    }
   ],
   "source": [
    "#7 item exists?\n",
    "my_list = [1, 2, 3, 4, 5]\n",
    "if 3 in my_list:\n",
    "    print(\"Exists\")\n",
    "else:\n",
    "    print(\"Not exist\")"
   ]
  },
  {
   "cell_type": "code",
   "execution_count": 31,
   "id": "a4d17f63-467a-4c75-bd53-6ad01acea839",
   "metadata": {},
   "outputs": [
    {
     "name": "stdout",
     "output_type": "stream",
     "text": [
      "1\n"
     ]
    }
   ],
   "source": [
    "#8 index of the first occurence\n",
    "my_list = [10, 20, 30, 20, 40]\n",
    "\n",
    "index = my_list.index(20) \n",
    "print(index)"
   ]
  },
  {
   "cell_type": "code",
   "execution_count": 32,
   "id": "9ffe0d05-914d-468b-a1bf-74530554a2df",
   "metadata": {},
   "outputs": [
    {
     "name": "stdout",
     "output_type": "stream",
     "text": [
      "2\n"
     ]
    }
   ],
   "source": [
    "#9 count the occurence\n",
    "a= [\"cat\", \"rat\", \"cat\", \"dog\", \"lion\"]\n",
    "print(a.count(\"cat\"))"
   ]
  },
  {
   "cell_type": "code",
   "execution_count": 33,
   "id": "6e0eb058-9ab8-42c7-b7b2-50a5ba6ac86a",
   "metadata": {},
   "outputs": [
    {
     "name": "stdout",
     "output_type": "stream",
     "text": [
      "[20, 18, 16, 14, 12, 10, 8, 6, 4, 2]\n"
     ]
    }
   ],
   "source": [
    "#10 reverse of a list\n",
    "a= [2,4,6,8,10,12,14,16,18,20]\n",
    "print(a[::-1])"
   ]
  },
  {
   "cell_type": "code",
   "execution_count": 35,
   "id": "3572966e-096d-45d5-abcb-bf49c48a3207",
   "metadata": {},
   "outputs": [
    {
     "name": "stdout",
     "output_type": "stream",
     "text": [
      "[2, 4, 6, 8, 10, 12, 14, 16, 18, 20]\n"
     ]
    }
   ],
   "source": [
    "# 11 sort a list into ascending\n",
    "a = [20, 18, 16, 14, 12, 10, 8, 6, 4, 2]\n",
    "a.sort()\n",
    "print(a)"
   ]
  },
  {
   "cell_type": "code",
   "execution_count": 37,
   "id": "4b2456f8-c7a9-493d-9a83-525aa4f33e74",
   "metadata": {},
   "outputs": [
    {
     "name": "stdout",
     "output_type": "stream",
     "text": [
      "[120, 94, 86, 46, 32, 20, 18, 10, 8, 4]\n"
     ]
    }
   ],
   "source": [
    "# 12 sort a list into descending\n",
    "a = [120, 18, 46, 94, 32, 10, 8, 86, 4, 20]\n",
    "a.sort(reverse= True)\n",
    "print(a)"
   ]
  },
  {
   "cell_type": "code",
   "execution_count": 39,
   "id": "b9c9e553-d0bd-4bc6-a059-e90401491a55",
   "metadata": {},
   "outputs": [
    {
     "name": "stdout",
     "output_type": "stream",
     "text": [
      "[2, 4, 6, 8, 10, 12, 14, 16, 18, 20]\n"
     ]
    }
   ],
   "source": [
    "# 13 list 1 to 20 even numbers\n",
    "even_numbers = []\n",
    "for x in range(1, 21):\n",
    "    if x % 2 == 0:\n",
    "        even_numbers.append(x)\n",
    "\n",
    "print(even_numbers)"
   ]
  },
  {
   "cell_type": "code",
   "execution_count": 38,
   "id": "208c6598-b6fc-48b2-9d1b-74e07dae657c",
   "metadata": {},
   "outputs": [
    {
     "name": "stdout",
     "output_type": "stream",
     "text": [
      "[1, 3, 5, 7, 9, 11, 13, 15, 17, 19]\n"
     ]
    }
   ],
   "source": [
    "# 14 list 1 to 20 odd numbers\n",
    "odd_numbers = []\n",
    "for x in range(1, 21):\n",
    "    if x % 2 == 1:\n",
    "        odd_numbers.append(x)\n",
    "\n",
    "print(odd_numbers)\n"
   ]
  },
  {
   "cell_type": "code",
   "execution_count": 41,
   "id": "c280d288-9f33-4278-a99d-52cebb303d89",
   "metadata": {},
   "outputs": [
    {
     "name": "stdout",
     "output_type": "stream",
     "text": [
      "55\n"
     ]
    }
   ],
   "source": [
    "# 15 sum of elements\n",
    "a= [1,2,3,4,5,6,7,8,9,10]\n",
    "print(sum(a))"
   ]
  },
  {
   "cell_type": "code",
   "execution_count": 44,
   "id": "54f570bb-0db3-44cf-8289-7810644eb1e4",
   "metadata": {},
   "outputs": [
    {
     "name": "stdout",
     "output_type": "stream",
     "text": [
      "20\n"
     ]
    }
   ],
   "source": [
    "# 16 max element\n",
    "a= [2,4,6,8,10,20]\n",
    "print(max(a))"
   ]
  },
  {
   "cell_type": "code",
   "execution_count": 45,
   "id": "e2c9e3a5-7778-4eaa-a851-51de90be23fb",
   "metadata": {},
   "outputs": [
    {
     "name": "stdout",
     "output_type": "stream",
     "text": [
      "2\n"
     ]
    }
   ],
   "source": [
    "# 17 min element\n",
    "a= [2,4,6,8,10,20]\n",
    "print(min(a))"
   ]
  },
  {
   "cell_type": "code",
   "execution_count": 48,
   "id": "2b83d1ff-e4b6-4914-b804-bb9b18d1b09a",
   "metadata": {},
   "outputs": [
    {
     "name": "stdout",
     "output_type": "stream",
     "text": [
      "[1, 4, 9, 16, 25, 36, 49, 64, 81, 100]\n"
     ]
    }
   ],
   "source": [
    "# 18 \n",
    "squares = []\n",
    "for x in range(1, 11):\n",
    "    squares.append(x**2)\n",
    "\n",
    "print(squares)"
   ]
  },
  {
   "cell_type": "code",
   "execution_count": 49,
   "id": "809ca5c8-e33d-4276-9890-a22fdcc267b2",
   "metadata": {},
   "outputs": [
    {
     "name": "stdout",
     "output_type": "stream",
     "text": [
      "[31, 7, 16, 11, 12, 28, 43, 9]\n"
     ]
    }
   ],
   "source": [
    "# 19 random numbers\n",
    "import random\n",
    "n = 8\n",
    "li = random.sample(range(1, 51), n)\n",
    "\n",
    "print(li) "
   ]
  },
  {
   "cell_type": "code",
   "execution_count": 1,
   "id": "ae2fc767-ebcf-421f-a286-e5d3475a78c6",
   "metadata": {},
   "outputs": [
    {
     "name": "stdout",
     "output_type": "stream",
     "text": [
      "[1, 2, 3, 4, 5]\n"
     ]
    }
   ],
   "source": [
    "#20 Unique numbers\n",
    "l = [1, 2, 2, 3, 4, 4, 5]\n",
    "u = (set(l))\n",
    "v = list(u)\n",
    "print(v)"
   ]
  },
  {
   "cell_type": "code",
   "execution_count": 52,
   "id": "fcd9dc71-6288-4a8d-a694-d9886f6556d2",
   "metadata": {},
   "outputs": [
    {
     "name": "stdout",
     "output_type": "stream",
     "text": [
      "[4, 5, 6]\n"
     ]
    }
   ],
   "source": [
    "#21 common numbers\n",
    "list1 = [1, 6, 3, 4, 5]\n",
    "list2 = [4, 5, 6, 7, 8]\n",
    "\n",
    "common = list(set(list1) & set(list2))\n",
    "print(common)"
   ]
  },
  {
   "cell_type": "code",
   "execution_count": 56,
   "id": "1a43a433-9e3b-49d4-8f0c-7f713c387240",
   "metadata": {},
   "outputs": [
    {
     "name": "stdout",
     "output_type": "stream",
     "text": [
      "[1, 2, 3]\n"
     ]
    }
   ],
   "source": [
    "#22 Difference of two lists\n",
    "list1 = [1, 2, 3, 4, 5]\n",
    "list2 = [4, 5, 6, 7, 8]\n",
    "\n",
    "d= list(set(list1) - set(list2))\n",
    "print(d)"
   ]
  },
  {
   "cell_type": "code",
   "execution_count": 59,
   "id": "9b3e3df9-82d7-45aa-b65c-48826665aae9",
   "metadata": {},
   "outputs": [
    {
     "name": "stdout",
     "output_type": "stream",
     "text": [
      "['Apple', 'Banana', 'Guava', 'Mango', 'Pear']\n"
     ]
    }
   ],
   "source": [
    "#23 Merge two list\n",
    "list1 = [\"Apple\", \"Banana\", \"Guava\"]\n",
    "list2 = [\"Mango\", \"Pear\"]\n",
    "\n",
    "list1.extend(list2)  \n",
    "print(list1)   "
   ]
  },
  {
   "cell_type": "code",
   "execution_count": 64,
   "id": "26811a4a-38b9-4c2f-baa2-3790e600842f",
   "metadata": {},
   "outputs": [
    {
     "name": "stdout",
     "output_type": "stream",
     "text": [
      "[4, 8, 12, 16, 20]\n"
     ]
    }
   ],
   "source": [
    "#24 Multiply by 2\n",
    "my_list = [2,4,6,8,10]\n",
    "doubled = []\n",
    "\n",
    "for x in my_list:\n",
    "    doubled.append(x * 2)\n",
    "\n",
    "print(doubled)"
   ]
  },
  {
   "cell_type": "code",
   "execution_count": 67,
   "id": "2382ca4a-8fcc-46b1-ae98-45d137480a66",
   "metadata": {},
   "outputs": [
    {
     "name": "stdout",
     "output_type": "stream",
     "text": [
      "[1, 3, 5, 7, 9]\n"
     ]
    }
   ],
   "source": [
    "#25 odd number from the list\n",
    "list = [1, 2, 3, 4, 5, 6, 7, 8, 9, 10]\n",
    "odd= []\n",
    "\n",
    "for x in list:\n",
    "    if x % 2 != 0:\n",
    "        odd.append(x)\n",
    "\n",
    "print(odd)"
   ]
  },
  {
   "cell_type": "code",
   "execution_count": 3,
   "id": "965b1327-4b12-4fb7-b3bd-55ed9e1e5a6c",
   "metadata": {},
   "outputs": [
    {
     "name": "stdout",
     "output_type": "stream",
     "text": [
      "[2, 4, 6, 8]\n"
     ]
    }
   ],
   "source": [
    "#26 list of strings to a list of integers.\n",
    "a = ['2', '4', '6', '8']\n",
    "b = [int(item) for item in a]\n",
    "print(b)"
   ]
  },
  {
   "cell_type": "code",
   "execution_count": 6,
   "id": "0c6dcffd-1381-475f-a3f3-5a930738be44",
   "metadata": {},
   "outputs": [
    {
     "name": "stdout",
     "output_type": "stream",
     "text": [
      "['1', '2', '3', '4', '5']\n"
     ]
    }
   ],
   "source": [
    "# 27 list of integers to a list of strings\n",
    "a = [1, 2, 3, 4, 5]\n",
    "b = list(map(str, a))\n",
    "\n",
    "print(b)"
   ]
  },
  {
   "cell_type": "code",
   "execution_count": 8,
   "id": "14dd9d4e-8453-468a-af7b-5b4ed4f65ddd",
   "metadata": {},
   "outputs": [
    {
     "name": "stdout",
     "output_type": "stream",
     "text": [
      "Flat List [1, 2, 3, 4, 5, 6, 7, 8, 9, 10]\n"
     ]
    }
   ],
   "source": [
    "#28 nested list\n",
    "lis = [[1, 2, 3, 4], [5, 6, 7], [8, 9, 10]]\n",
    "res=[]\n",
    "for i in lis:\n",
    "\tres.extend(i)\n",
    "print('Flat List', res)\n"
   ]
  },
  {
   "cell_type": "code",
   "execution_count": 12,
   "id": "24bd63cb-4e45-41a7-9fdd-21700ed20489",
   "metadata": {},
   "outputs": [
    {
     "name": "stdout",
     "output_type": "stream",
     "text": [
      "[0, 1, 1, 2, 3, 5, 8, 13, 21, 34]\n"
     ]
    }
   ],
   "source": [
    "#29\n",
    "fib_seq = [0, 1]\n",
    "\n",
    "for i in range(2, 10):\n",
    "    next_fib = fib_seq[-1] + fib_seq[-2]\n",
    "    fib_seq.append(next_fib)\n",
    "\n",
    "print(fib_seq)"
   ]
  },
  {
   "cell_type": "code",
   "execution_count": 11,
   "id": "0c2b89ab-7906-4629-bad1-471677237dc9",
   "metadata": {},
   "outputs": [
    {
     "name": "stdout",
     "output_type": "stream",
     "text": [
      "False\n"
     ]
    }
   ],
   "source": [
    "#30 check if list is sorted or not\n",
    "list = [7, 2, 3, 4, 5]\n",
    "s = list == sorted(list)\n",
    "print(s)"
   ]
  },
  {
   "cell_type": "code",
   "execution_count": 14,
   "id": "c7c5b33e-d30f-4ef3-bb97-f561cc6c3676",
   "metadata": {},
   "outputs": [
    {
     "name": "stdin",
     "output_type": "stream",
     "text": [
      "Enter number of positions to rotate:  2\n"
     ]
    },
    {
     "name": "stdout",
     "output_type": "stream",
     "text": [
      "[3, 4, 5, 1, 2]\n"
     ]
    }
   ],
   "source": [
    "#31 \n",
    "lst = [1, 2, 3, 4, 5]\n",
    "n = int(input(\"Enter number of positions to rotate: \"))\n",
    "rotated = lst[n:] + lst[:n]\n",
    "print(rotated)\n"
   ]
  },
  {
   "cell_type": "code",
   "execution_count": 15,
   "id": "b505e39d-ea86-4bef-a8f7-a5dc76ba12fd",
   "metadata": {},
   "outputs": [
    {
     "name": "stdin",
     "output_type": "stream",
     "text": [
      "Enter number of positions to rotate:  3\n"
     ]
    },
    {
     "name": "stdout",
     "output_type": "stream",
     "text": [
      "Rotated list: [3, 4, 5, 1, 2]\n"
     ]
    }
   ],
   "source": [
    "#32\n",
    "lst = [1, 2, 3, 4, 5]\n",
    "n = int(input(\"Enter number of positions to rotate: \"))\n",
    "rotated = lst[-n:] + lst[:-n]\n",
    "print(\"Rotated list:\", rotated)"
   ]
  },
  {
   "cell_type": "code",
   "execution_count": 28,
   "id": "79ea58b7-31c8-4b99-9a7d-b4ebce34b3de",
   "metadata": {},
   "outputs": [
    {
     "name": "stdout",
     "output_type": "stream",
     "text": [
      "[2, 3, 5, 7, 11, 13, 17, 19, 23, 29, 31, 37, 41, 43, 47]\n"
     ]
    }
   ],
   "source": [
    "#33 \n",
    "def is_prime(num):\n",
    "    if num < 2:\n",
    "        return False\n",
    "    for i in range(2, int(num**0.5) + 1):\n",
    "        if num % i == 0:\n",
    "            return False\n",
    "    return True\n",
    "\n",
    "primes = [x for x in range(2, 51) if is_prime(x)]\n",
    "print(primes)\n"
   ]
  },
  {
   "cell_type": "code",
   "execution_count": 17,
   "id": "c4f141ae-4437-4bd2-b18f-6d442d75b6bf",
   "metadata": {},
   "outputs": [
    {
     "name": "stdin",
     "output_type": "stream",
     "text": [
      "Enter chunk size:  3\n"
     ]
    },
    {
     "name": "stdout",
     "output_type": "stream",
     "text": [
      "[[34, 54, 7], [8, 34, 67], [89]]\n"
     ]
    }
   ],
   "source": [
    "#34\n",
    "def split(lst, n):\n",
    "    ch = []\n",
    "    for i in range(0, len(lst), n):\n",
    "        ch.append(lst[i:i+n])\n",
    "    return ch\n",
    "lst = [34,54,7,8,34,67,89]\n",
    "n = int(input(\"Enter chunk size: \"))\n",
    "result = split(lst, n)\n",
    "print(result)"
   ]
  },
  {
   "cell_type": "code",
   "execution_count": 16,
   "id": "9e36c1a2-e462-46a4-a9ca-628187e0059c",
   "metadata": {},
   "outputs": [
    {
     "name": "stdout",
     "output_type": "stream",
     "text": [
      "Second largest number:  75\n"
     ]
    }
   ],
   "source": [
    "#35 Find the second largest number in a list\n",
    "a= [2,45,6,3,75,34,7,98]\n",
    "a.sort()\n",
    "print(\"Second largest number: \" , a[-2])\n"
   ]
  },
  {
   "cell_type": "code",
   "execution_count": 17,
   "id": "e6aefed2-e024-429b-a743-2753d118e866",
   "metadata": {},
   "outputs": [
    {
     "name": "stdout",
     "output_type": "stream",
     "text": [
      "[1, 4, 9, 16, 25]\n"
     ]
    }
   ],
   "source": [
    "#36\n",
    "my_list = [1, 2, 3, 4, 5]\n",
    "for i in range(len(my_list)):\n",
    "    my_list[i] = my_list[i] ** 2\n",
    "\n",
    "print(my_list)"
   ]
  },
  {
   "cell_type": "code",
   "execution_count": 18,
   "id": "306cc4fe-38c5-4304-b317-16325f5835d0",
   "metadata": {},
   "outputs": [
    {
     "name": "stdout",
     "output_type": "stream",
     "text": [
      "{'a': 0, 'b': 1, 'c': 2, 'd': 3}\n"
     ]
    }
   ],
   "source": [
    "#37\n",
    "my_list = ['a', 'b', 'c', 'd']\n",
    "my_dict = {}\n",
    "\n",
    "for index, element in enumerate(my_list):\n",
    "    my_dict[element] = index\n",
    "\n",
    "print(my_dict)"
   ]
  },
  {
   "cell_type": "code",
   "execution_count": 19,
   "id": "75f5ddb8-2969-43ff-a8fa-8f2b1fa94242",
   "metadata": {},
   "outputs": [
    {
     "name": "stdout",
     "output_type": "stream",
     "text": [
      "[5, 4, 3, 2, 1]\n"
     ]
    }
   ],
   "source": [
    "#38\n",
    "import random\n",
    "\n",
    "my_list = [1, 2, 3, 4, 5]\n",
    "random.shuffle(my_list)\n",
    "print(my_list)"
   ]
  },
  {
   "cell_type": "code",
   "execution_count": 20,
   "id": "fc9c6ddc-6a48-4ea3-84dd-2547e7bc2b3c",
   "metadata": {},
   "outputs": [
    {
     "name": "stdout",
     "output_type": "stream",
     "text": [
      "[1, 2, 6, 24, 120, 720, 5040, 40320, 362880, 3628800]\n"
     ]
    }
   ],
   "source": [
    "#39\n",
    "factorials = []\n",
    "factorial = 1\n",
    "\n",
    "for i in range(1, 11):\n",
    "    factorial *= i  \n",
    "    factorials.append(factorial)\n",
    "\n",
    "print(factorials)"
   ]
  },
  {
   "cell_type": "code",
   "execution_count": 24,
   "id": "6ec9dd8a-db7c-414d-b15c-6a3da391e14c",
   "metadata": {},
   "outputs": [
    {
     "name": "stdout",
     "output_type": "stream",
     "text": [
      "common element\n"
     ]
    }
   ],
   "source": [
    "#40\n",
    "a1= [2,3,4]\n",
    "a2= [3,4,5]\n",
    "common_found = False\n",
    "for element in a1:\n",
    "    if element in a2:\n",
    "        common_found = True\n",
    "        break\n",
    "\n",
    "if common_found:\n",
    "    print(\"common element\")\n",
    "else:\n",
    "    print(\"No common elements\")"
   ]
  },
  {
   "cell_type": "code",
   "execution_count": 27,
   "id": "217f8a30-947d-4f90-a43b-03028513332a",
   "metadata": {},
   "outputs": [
    {
     "name": "stdout",
     "output_type": "stream",
     "text": [
      "[]\n"
     ]
    }
   ],
   "source": [
    "#41 remove all elements\n",
    "a= [1,2,3,4,5]\n",
    "a.clear()\n",
    "print(a)"
   ]
  },
  {
   "cell_type": "code",
   "execution_count": 30,
   "id": "c1364f8e-776c-41e8-b474-1890397e4220",
   "metadata": {},
   "outputs": [
    {
     "name": "stdout",
     "output_type": "stream",
     "text": [
      "[1, 0, 3, 0, 5]\n"
     ]
    }
   ],
   "source": [
    "#42 remove negative elements\n",
    "a = [1, -2, 3, -4, 5]\n",
    "for i in range(len(a)):\n",
    "    if a[i] < 0:\n",
    "        a[i] = 0\n",
    "\n",
    "print(a)"
   ]
  },
  {
   "cell_type": "code",
   "execution_count": 31,
   "id": "cdf007b5-0dbc-48bb-bc68-ed6264a07bfd",
   "metadata": {},
   "outputs": [
    {
     "name": "stdout",
     "output_type": "stream",
     "text": [
      "['I', 'love', 'Coding', 'in', 'python', 'language']\n"
     ]
    }
   ],
   "source": [
    "#43\n",
    "text = \"I love Coding in python language\"\n",
    "A = text.split()\n",
    "print(A)"
   ]
  },
  {
   "cell_type": "code",
   "execution_count": 33,
   "id": "b2ca64e3-3e18-4ea5-84c7-bd221bb96531",
   "metadata": {},
   "outputs": [
    {
     "name": "stdout",
     "output_type": "stream",
     "text": [
      "I love coding in python\n"
     ]
    }
   ],
   "source": [
    "#44\n",
    "text =['I', 'love', 'coding', 'in', 'python']\n",
    "a= ' '.join(text)\n",
    "print(a)"
   ]
  },
  {
   "cell_type": "code",
   "execution_count": 35,
   "id": "2aeeaf51-efc1-4a08-aeaa-31cc7bcc31d7",
   "metadata": {},
   "outputs": [
    {
     "name": "stdout",
     "output_type": "stream",
     "text": [
      "[1, 2, 4, 8, 16, 32, 64, 128, 256, 512]\n"
     ]
    }
   ],
   "source": [
    "#45\n",
    "n = 10\n",
    "powers_2 = [2**i for i in range(n)]\n",
    "print(powers_2)"
   ]
  },
  {
   "cell_type": "code",
   "execution_count": 37,
   "id": "ec02c43a-e711-4818-b377-5e9ea4fb1964",
   "metadata": {},
   "outputs": [
    {
     "name": "stdout",
     "output_type": "stream",
     "text": [
      "Longest string: elephant\n"
     ]
    }
   ],
   "source": [
    "#46\n",
    "words = ['cat', 'elephant', 'dog', 'lion']\n",
    "longest = max(words, key=len)\n",
    "print(\"Longest string:\", longest)"
   ]
  },
  {
   "cell_type": "code",
   "execution_count": 39,
   "id": "3e13cd84-cb11-400f-9d6d-d9d2f7baa75d",
   "metadata": {},
   "outputs": [
    {
     "name": "stdout",
     "output_type": "stream",
     "text": [
      "Longest string: cat\n"
     ]
    }
   ],
   "source": [
    "#47\n",
    "words = ['cat', 'elephant', 'tiger', 'lion']\n",
    "longest = min(words, key=len)\n",
    "print(\"Longest string:\", longest)"
   ]
  },
  {
   "cell_type": "code",
   "execution_count": 27,
   "id": "33ebc086-b4f3-472e-b579-157421476035",
   "metadata": {},
   "outputs": [
    {
     "name": "stdin",
     "output_type": "stream",
     "text": [
      "Enter the value of n:  6\n"
     ]
    },
    {
     "name": "stdout",
     "output_type": "stream",
     "text": [
      "[1, 3, 6, 10, 15, 21]\n"
     ]
    }
   ],
   "source": [
    "#48 formula is n(n+1)//2\n",
    "n = int(input(\"Enter the value of n: \"))\n",
    "num = []\n",
    "\n",
    "for i in range(1, n + 1):\n",
    "    num.append(i * (i + 1) // 2)\n",
    "\n",
    "print(num)"
   ]
  },
  {
   "cell_type": "code",
   "execution_count": 25,
   "id": "7bb8ea2e-4226-4a43-afa6-fe2c77f82f1a",
   "metadata": {},
   "outputs": [
    {
     "name": "stdout",
     "output_type": "stream",
     "text": [
      "True\n"
     ]
    }
   ],
   "source": [
    "#49\n",
    "a = [5, 6, 3, 8, 2, 1, 7, 1]\n",
    "b = [8, 2, 1] \n",
    "\n",
    "res = str(b)[1:-1] in str(a)[1:-1]\n",
    "\n",
    "print(res)"
   ]
  },
  {
   "cell_type": "code",
   "execution_count": 24,
   "id": "cc5f782f-a3a3-4d42-834e-96bba85ba3a7",
   "metadata": {},
   "outputs": [
    {
     "name": "stdin",
     "output_type": "stream",
     "text": [
      "Enter first index to swap:  2\n",
      "Enter second index to swap:  3\n"
     ]
    },
    {
     "name": "stdout",
     "output_type": "stream",
     "text": [
      "[10, 20, 40, 30, 50]\n"
     ]
    }
   ],
   "source": [
    "#50\n",
    "l = [10, 20, 30, 40, 50]\n",
    "i = int(input(\"Enter first index to swap: \"))\n",
    "j = int(input(\"Enter second index to swap: \"))\n",
    "\n",
    "temp = l[i]\n",
    "l[i] = l[j]\n",
    "l[j] = temp\n",
    "print(l)"
   ]
  },
  {
   "cell_type": "code",
   "execution_count": null,
   "id": "d4c4b6d9-72c5-4363-9d35-4419398efa5a",
   "metadata": {},
   "outputs": [],
   "source": []
  }
 ],
 "metadata": {
  "kernelspec": {
   "display_name": "Python 3 (ipykernel)",
   "language": "python",
   "name": "python3"
  },
  "language_info": {
   "codemirror_mode": {
    "name": "ipython",
    "version": 3
   },
   "file_extension": ".py",
   "mimetype": "text/x-python",
   "name": "python",
   "nbconvert_exporter": "python",
   "pygments_lexer": "ipython3",
   "version": "3.13.3"
  }
 },
 "nbformat": 4,
 "nbformat_minor": 5
}
