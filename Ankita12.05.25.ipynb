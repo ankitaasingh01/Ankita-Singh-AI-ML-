{
 "cells": [
  {
   "cell_type": "code",
   "execution_count": 1,
   "id": "f25b3202-540d-44fa-a94c-4f8f51b7e3f9",
   "metadata": {},
   "outputs": [
    {
     "name": "stdout",
     "output_type": "stream",
     "text": [
      "Hello World\n"
     ]
    }
   ],
   "source": [
    "print(\"Hello World\")"
   ]
  },
  {
   "cell_type": "code",
   "execution_count": 3,
   "id": "b7246790-9b97-4df7-aa61-061d05d5d76b",
   "metadata": {},
   "outputs": [
    {
     "name": "stdout",
     "output_type": "stream",
     "text": [
      "[16, 28, 48, 89, 60]\n"
     ]
    }
   ],
   "source": [
    "#MAP() FUNCTION \n",
    "#To apply the same function to every item in a list or any collection and get a new iterable list with the results.\n",
    "#It used when you want to perform the same operation on every element in a collection.\n",
    "#1\n",
    "# map(function, iterable)\n",
    "\n",
    "def add(x):\n",
    "    return x + 5\n",
    "num = [11, 23, 43, 84, 55]\n",
    "sum_num = map(add, num)\n",
    "print(list(sum_num))"
   ]
  },
  {
   "cell_type": "code",
   "execution_count": 5,
   "id": "0aa1c278-c457-4899-a32c-32f3e6b39a17",
   "metadata": {},
   "outputs": [
    {
     "name": "stdout",
     "output_type": "stream",
     "text": [
      "[225, 256, 289, 324, 361]\n"
     ]
    }
   ],
   "source": [
    "#map() function to square each element of a list of numbers.\n",
    "#2\n",
    "def square(x):\n",
    "    return x * x\n",
    "num = [15, 16, 17, 18, 19]\n",
    "sq_num = map(square, num)\n",
    "print(list(sq_num))"
   ]
  },
  {
   "cell_type": "code",
   "execution_count": 6,
   "id": "3f06cae3-18a4-40a9-869f-7f9c7ff6dad6",
   "metadata": {},
   "outputs": [
    {
     "name": "stdout",
     "output_type": "stream",
     "text": [
      "['ANKITA', 'HARRY', 'INDIA', 'NOIDA']\n"
     ]
    }
   ],
   "source": [
    "#3\n",
    "#Map() and list comprehension both are used to apply operations to each element in a sequence. \n",
    "#map() takes a function and one or more iterables, returning a map object that can be converted into a list.\n",
    "#List comprehension is a shorter and more readable way to create lists directly using square brackets. \n",
    "#map() is useful when a pre-defined function is available or when working with multiple iterables, \n",
    "#list comprehension is generally preferred for its clarity and simplicity. \n",
    "#3  to Uppercase word\n"
   ]
  },
  {
   "cell_type": "code",
   "execution_count": 38,
   "id": "ecd942a7-0e5d-4319-91c1-314b6c063f3b",
   "metadata": {},
   "outputs": [
    {
     "name": "stdout",
     "output_type": "stream",
     "text": [
      "['ANKITA', 'HARRY', 'INDIA', 'NOIDA']\n"
     ]
    }
   ],
   "source": [
    "a = ['ankita', 'harry', 'india', 'noida']\n",
    "uppercase = map(str.upper, a)\n",
    "print(list(uppercase))"
   ]
  },
  {
   "cell_type": "code",
   "execution_count": 8,
   "id": "891e921d-fc00-4590-8bb9-5c4afb9d0b4b",
   "metadata": {},
   "outputs": [
    {
     "name": "stdout",
     "output_type": "stream",
     "text": [
      "[6, 5, 5, 5]\n"
     ]
    }
   ],
   "source": [
    "#4 count the length of the word\n",
    "a = ['ankita', 'harry', 'india', 'noida']\n",
    "length= map(len, a)\n",
    "print(list(length))"
   ]
  },
  {
   "cell_type": "code",
   "execution_count": 10,
   "id": "73102708-35e7-4969-84de-fe3be5bbb06e",
   "metadata": {},
   "outputs": [
    {
     "name": "stdout",
     "output_type": "stream",
     "text": [
      "[9, 17, 8]\n"
     ]
    }
   ],
   "source": [
    "#5 map() function and use of multiple list\n",
    "def add(x, y):\n",
    "    return x + y\n",
    "    \n",
    "list1 = [3, 8, 2]\n",
    "list2 = [6, 9, 6]\n",
    "result = map(add, list1, list2)\n",
    "print(list(result))"
   ]
  },
  {
   "cell_type": "code",
   "execution_count": 12,
   "id": "8d487d5c-92c9-4b2b-8997-4f1bd83feeb8",
   "metadata": {},
   "outputs": [
    {
     "name": "stdout",
     "output_type": "stream",
     "text": [
      "[32.0, 68.0, 86.0, 98.6, 212.0]\n"
     ]
    }
   ],
   "source": [
    "#6 map() function celsius to fahrenheit\n",
    "cel_temps = [0, 20, 30, 37, 100]\n",
    "def celcius_fahrenheit(c):\n",
    "    return (c * 9/5) + 32\n",
    "fah_temps = map(celcius_fahrenheit, cel_temps)\n",
    "print(list(fah_temps))"
   ]
  },
  {
   "cell_type": "code",
   "execution_count": 14,
   "id": "83957080-b31c-498a-aeb9-e1dc2071735a",
   "metadata": {},
   "outputs": [
    {
     "name": "stdout",
     "output_type": "stream",
     "text": [
      "[4, 7, 2, 4, 10]\n"
     ]
    }
   ],
   "source": [
    "#7 numbers to the nearest integer\n",
    "num = [3.6, 7.2, 1.9, 4.5, 9.8]\n",
    "rounded = map(round, num)\n",
    "print(list(rounded))"
   ]
  },
  {
   "cell_type": "code",
   "execution_count": 18,
   "id": "0dadee6e-7696-4111-bc34-2fe08b4d7483",
   "metadata": {},
   "outputs": [
    {
     "name": "stdout",
     "output_type": "stream",
     "text": [
      "150\n"
     ]
    }
   ],
   "source": [
    "#REDUCE\n",
    "#The reduce() function in Python helps to combine all items in a list into one value using a function. \n",
    "#use functools module.\n",
    "#It works by taking the first two items, applying the function, \n",
    "#then using the result with the next item, and so on.\n",
    "#1\n",
    "\n",
    "from functools import reduce\n",
    "\n",
    "num = [10, 20, 30, 40, 50]\n",
    "def add(x, y):\n",
    "    return x+y\n",
    "result = reduce(add, num)\n",
    "print(result)"
   ]
  },
  {
   "cell_type": "code",
   "execution_count": 19,
   "id": "ea350cf3-2d0c-498e-9934-773425ab90a7",
   "metadata": {},
   "outputs": [
    {
     "name": "stdout",
     "output_type": "stream",
     "text": [
      "720000000\n"
     ]
    }
   ],
   "source": [
    "#2 \n",
    "from functools import reduce\n",
    "\n",
    "num = [10,20,30,40,50,60]\n",
    "def multiply(x,y):\n",
    "    return x * y\n",
    "result = reduce(multiply, num)\n",
    "print(result)"
   ]
  },
  {
   "cell_type": "code",
   "execution_count": 20,
   "id": "90f353e6-9984-4892-ac95-abe5f401dce2",
   "metadata": {},
   "outputs": [
    {
     "name": "stdout",
     "output_type": "stream",
     "text": [
      "Max num: 89\n"
     ]
    }
   ],
   "source": [
    "#3\n",
    "from functools import reduce\n",
    "\n",
    "num = [12, 45, 23, 67, 34, 89, 10]\n",
    "def f_max(x, y):\n",
    "    return x if x > y else y\n",
    "maxi = reduce(f_max, num)\n",
    "print(\"Max num:\", maxi)"
   ]
  },
  {
   "cell_type": "code",
   "execution_count": 21,
   "id": "507c5bcb-de03-4405-acf7-6cab323d40df",
   "metadata": {},
   "outputs": [
    {
     "name": "stdout",
     "output_type": "stream",
     "text": [
      "Ankita Singh\n"
     ]
    }
   ],
   "source": [
    "#4\n",
    "from functools import reduce\n",
    "words = ['Ankita', ' ', 'Singh']\n",
    "result = reduce(lambda x, y: x + y, words)\n",
    "print(result)"
   ]
  },
  {
   "cell_type": "code",
   "execution_count": 24,
   "id": "be5fe637-0dbb-4630-a016-42d9cc686dc6",
   "metadata": {},
   "outputs": [
    {
     "name": "stdout",
     "output_type": "stream",
     "text": [
      "3628800\n"
     ]
    }
   ],
   "source": [
    "#5\n",
    "from functools import reduce\n",
    "\n",
    "n= 10\n",
    "numbers = list(range(1, n + 1))\n",
    "factorial = reduce(lambda x, y: x * y, numbers)\n",
    "print(factorial)"
   ]
  },
  {
   "cell_type": "code",
   "execution_count": 26,
   "id": "90731c79-0f48-4f69-827d-f8d000b7af58",
   "metadata": {},
   "outputs": [
    {
     "name": "stdout",
     "output_type": "stream",
     "text": [
      "1\n"
     ]
    }
   ],
   "source": [
    "#6\n",
    "from functools import reduce\n",
    "import math\n",
    "\n",
    "numbers = [1,2,3,4]\n",
    "gcd_result = reduce(math.gcd, numbers)\n",
    "print(gcd_result)"
   ]
  },
  {
   "cell_type": "code",
   "execution_count": 27,
   "id": "b9442259-e709-4ac4-a275-c0acd86cfdcd",
   "metadata": {},
   "outputs": [
    {
     "name": "stdout",
     "output_type": "stream",
     "text": [
      "15\n"
     ]
    }
   ],
   "source": [
    "#7\n",
    "from functools import reduce\n",
    "\n",
    "num = [1,2,3,4,5]\n",
    "sum_digits = reduce(lambda x, y: x + y, num)\n",
    "print(sum_digits)"
   ]
  },
  {
   "cell_type": "code",
   "execution_count": 28,
   "id": "da67a22e-bdeb-4847-86c9-5761b84cf6ea",
   "metadata": {},
   "outputs": [
    {
     "name": "stdout",
     "output_type": "stream",
     "text": [
      "[10, 22, 42, 60]\n"
     ]
    }
   ],
   "source": [
    "#FILTER\n",
    "#The filter() function is used to select specific elements from a list or tuple based on a condition. \n",
    "#It keeps only the elements for which the given function returns True.\n",
    "#1\n",
    "numbers = [10, 15, 22, 33, 42, 55, 60]\n",
    "even_numbers = filter(lambda x: x % 2 == 0, numbers)\n",
    "print(list(even_numbers))"
   ]
  },
  {
   "cell_type": "code",
   "execution_count": 29,
   "id": "113eeaf6-ab88-4261-81fd-77f3e35fed66",
   "metadata": {},
   "outputs": [
    {
     "name": "stdout",
     "output_type": "stream",
     "text": [
      "[2, 4, 6, 8, 10]\n"
     ]
    }
   ],
   "source": [
    "#2\n",
    "numbers = [1, 2, 3, 4, 5, 6, 7, 8, 9, 10]\n",
    "\n",
    "def is_even(n):\n",
    "    return n % 2 == 0\n",
    "even_numbers = filter(is_even, numbers)\n",
    "print(list(even_numbers))"
   ]
  },
  {
   "cell_type": "code",
   "execution_count": 31,
   "id": "cd93cb59-b3e3-44c8-b400-0726c0c5289c",
   "metadata": {},
   "outputs": [
    {
     "name": "stdout",
     "output_type": "stream",
     "text": [
      "['Ankita', 'Anshika', 'Arjun', 'Aman']\n"
     ]
    }
   ],
   "source": [
    "#3\n",
    "names = [\"Ankita\", \"Anshika\", \"Pooja\", \"Deepa\", \"Arjun\", \"Karan\", \"Aman\"]\n",
    "\n",
    "letter = 'A'\n",
    "filtered = filter(lambda name: name.startswith(letter), names)\n",
    "print(list(filtered))"
   ]
  },
  {
   "cell_type": "code",
   "execution_count": 33,
   "id": "9ef5d663-4297-4192-80d8-8efd2e6c0c0f",
   "metadata": {},
   "outputs": [
    {
     "name": "stdout",
     "output_type": "stream",
     "text": [
      "[2, 3, 5, 7, 11, 13, 17, 19]\n"
     ]
    }
   ],
   "source": [
    "#4\n",
    "def prime_no(n):\n",
    "    if n < 2:\n",
    "        return False\n",
    "    for i in range(2, int(n**0.5) + 1):\n",
    "        if n % i == 0:\n",
    "            return False\n",
    "    return True\n",
    "\n",
    "num = [1, 2, 3, 4, 5, 6, 7, 8, 9, 10, 11, 13, 15, 17, 18, 19]\n",
    "prime_numbers = filter(prime_no, num)\n",
    "print(list(prime_numbers))"
   ]
  },
  {
   "cell_type": "code",
   "execution_count": 35,
   "id": "5c69e087-af84-4e48-9487-9ccfcb92a11d",
   "metadata": {},
   "outputs": [
    {
     "name": "stdout",
     "output_type": "stream",
     "text": [
      "[10, 23, 25, 40, 'Ankita']\n"
     ]
    }
   ],
   "source": [
    "#5\n",
    "D = [10, 23, 25, None, 0, 40, \"Ankita\", None]\n",
    "data = list(filter(None, D))\n",
    "print(data)"
   ]
  },
  {
   "cell_type": "code",
   "execution_count": 36,
   "id": "db853a21-8803-43ed-95bc-23a6e21b70a3",
   "metadata": {},
   "outputs": [
    {
     "name": "stdout",
     "output_type": "stream",
     "text": [
      "['watermelon', 'banana', 'delicious', 'fruit']\n"
     ]
    }
   ],
   "source": [
    "#6\n",
    "words = [\"watermelon\", \"has\", \"banana\", \"of\", \"delicious\", \"fruit\", \"fly\"]\n",
    "min_length = 4\n",
    "long_words = filter(lambda word: len(word) > min_length, words)\n",
    "print(list(long_words))"
   ]
  },
  {
   "cell_type": "code",
   "execution_count": 37,
   "id": "d67153f3-653b-4f91-ae15-4227e424ff9c",
   "metadata": {},
   "outputs": [
    {
     "name": "stdout",
     "output_type": "stream",
     "text": [
      "[45, 33, 89, 60]\n"
     ]
    }
   ],
   "source": [
    "#7\n",
    "values = [12, 45, 7, 33, 89, 21, 5, 60]\n",
    "threshold = 30\n",
    "greater_values = filter(lambda x: x > threshold, values)\n",
    "print(list(greater_values))"
   ]
  }
 ],
 "metadata": {
  "kernelspec": {
   "display_name": "Python 3 (ipykernel)",
   "language": "python",
   "name": "python3"
  },
  "language_info": {
   "codemirror_mode": {
    "name": "ipython",
    "version": 3
   },
   "file_extension": ".py",
   "mimetype": "text/x-python",
   "name": "python",
   "nbconvert_exporter": "python",
   "pygments_lexer": "ipython3",
   "version": "3.13.3"
  }
 },
 "nbformat": 4,
 "nbformat_minor": 5
}
